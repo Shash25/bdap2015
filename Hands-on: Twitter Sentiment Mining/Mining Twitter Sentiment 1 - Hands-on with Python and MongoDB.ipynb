{
 "cells": [
  {
   "cell_type": "code",
   "execution_count": 2,
   "metadata": {
    "collapsed": false
   },
   "outputs": [
    {
     "data": {
      "text/html": [
       "<style>\n",
       "table {float:left}\n",
       "</style>"
      ],
      "text/plain": [
       "<IPython.core.display.HTML object>"
      ]
     },
     "metadata": {},
     "output_type": "display_data"
    }
   ],
   "source": [
    "%%html\n",
    "<style>\n",
    "table {float:left}\n",
    "</style>"
   ]
  },
  {
   "cell_type": "code",
   "execution_count": 91,
   "metadata": {
    "collapsed": false
   },
   "outputs": [
    {
     "data": {
      "application/javascript": [
       "$.getScript('https://kmahelona.github.io/ipython_notebook_goodies/ipython_notebook_toc.js')"
      ],
      "text/plain": [
       "<IPython.core.display.Javascript object>"
      ]
     },
     "metadata": {},
     "output_type": "display_data"
    }
   ],
   "source": [
    "%%javascript\n",
    "$.getScript('https://kmahelona.github.io/ipython_notebook_goodies/ipython_notebook_toc.js')"
   ]
  },
  {
   "cell_type": "markdown",
   "metadata": {},
   "source": [
    "<h1 id=\"tocheading\">Overview</h1>\n",
    "<div id=\"toc\"></div>"
   ]
  },
  {
   "cell_type": "markdown",
   "metadata": {},
   "source": [
    "## Learning Goals"
   ]
  },
  {
   "cell_type": "markdown",
   "metadata": {},
   "source": [
    "* Learn and understand MongoDB and how to use it from Python\n",
    "* Learn and understand Twitter REST and streaming APIs and how to use them from Python\n",
    "* Understand what Sentiment Analysis is\n",
    "* Build a twitter sentiment mining application\n",
    "* Learn how to deploy a data science product as an API"
   ]
  },
  {
   "cell_type": "markdown",
   "metadata": {},
   "source": [
    "## The Road Ahead"
   ]
  },
  {
   "cell_type": "markdown",
   "metadata": {},
   "source": [
    "* Mining Twitter Sentiment\n",
    "* NBC for Spam and Ham\n",
    "* Kaggle Titanic Competition\n",
    "* SQL in the Wild!"
   ]
  },
  {
   "cell_type": "markdown",
   "metadata": {},
   "source": [
    "## Evaluation Scheme"
   ]
  },
  {
   "cell_type": "markdown",
   "metadata": {},
   "source": [
    "* 10% for submission of Assignment 1 (bdap2015/NoSQL)\n",
    "* 40% for submission of Assignment 2\n",
    "* 50% for final exam"
   ]
  },
  {
   "cell_type": "markdown",
   "metadata": {},
   "source": [
    "## Why Twitter Sentiment Analysis"
   ]
  },
  {
   "cell_type": "markdown",
   "metadata": {},
   "source": [
    "* Twitter - learn to use rest and streaming apis\n",
    "* Twitter - perfect data structure to learn mongodb\n",
    "* Sentiment Analysis - introduction to machine learning and natural language processing\n",
    "* Sentiment Analysis - we'll keep revisiting as we learn more and more sophisticated techniques"
   ]
  },
  {
   "cell_type": "markdown",
   "metadata": {},
   "source": [
    "# Introduction to MongoDB"
   ]
  },
  {
   "cell_type": "markdown",
   "metadata": {},
   "source": [
    "## CRUD"
   ]
  },
  {
   "cell_type": "markdown",
   "metadata": {},
   "source": [
    "### Create/Insert"
   ]
  },
  {
   "cell_type": "markdown",
   "metadata": {
    "collapsed": true
   },
   "source": [
    "    mongo twitter\n",
    "    \n",
    "    db.users.insert({\n",
    "      name: \"Shakuny Mama\",\n",
    "      email: \"shakuni.mama@mahabharata.com\",\n",
    "      age:42\n",
    "    })"
   ]
  },
  {
   "cell_type": "markdown",
   "metadata": {},
   "source": [
    "    show collections"
   ]
  },
  {
   "cell_type": "markdown",
   "metadata": {},
   "source": [
    "    db.users.find()"
   ]
  },
  {
   "cell_type": "markdown",
   "metadata": {},
   "source": [
    "**Notes**\n",
    "* Databases and Collections are lazily created - created when we need them, not when they are defined.\n",
    "* With greater flexibility comes greater responsibility - beware of typos\n",
    "\n",
    "**Note: What is special about _id?**\n",
    "* Auto-generated\n",
    "* Auto-generated vs Auto-incremented\n",
    "* Horizontal Sharding"
   ]
  },
  {
   "cell_type": "markdown",
   "metadata": {},
   "source": [
    "### Read"
   ]
  },
  {
   "cell_type": "markdown",
   "metadata": {
    "collapsed": true
   },
   "source": [
    "    db.users.find({ \"_id\" : ObjectId(\"566a247ddae35821b3a0c523\") })"
   ]
  },
  {
   "cell_type": "markdown",
   "metadata": {},
   "source": [
    "(select fields)\n",
    "\n",
    "    db.users.find({ _id : ObjectId(\"566a247ddae35821b3a0c523\") }, { name : 1 })\n",
    "    db.users.find({ _id : ObjectId(\"566a247ddae35821b3a0c523\") }, { name : 0 }) #omit only name"
   ]
  },
  {
   "cell_type": "markdown",
   "metadata": {},
   "source": [
    "(more sophisticated queries)\n",
    "\n",
    "    db.users.find(\n",
    "        { name : /^P/, age : { $lt : 40 } },\n",
    "        { name : 1, age : 1 }\n",
    "    )"
   ]
  },
  {
   "cell_type": "markdown",
   "metadata": {},
   "source": [
    "(an even more complicated example)\n",
    "\n",
    "    var age_range = {}\n",
    "    age_range['$lt'] = 1000000\n",
    "    age_range['$gt'] = 10000\n",
    "    \n",
    "    db.users.find(\n",
    "        { name : /^P/, age : age_range },\n",
    "        { name: 1 }\n",
    "    )"
   ]
  },
  {
   "cell_type": "markdown",
   "metadata": {},
   "source": [
    "### Update"
   ]
  },
  {
   "cell_type": "markdown",
   "metadata": {
    "collapsed": true
   },
   "source": [
    "    db.users.update(\n",
    "        { _id : ObjectId(\"4d0ada87bb30773266f39fe5\") },\n",
    "        { $set : { \"name\" : \"Something Else\" } }\n",
    "    );"
   ]
  },
  {
   "cell_type": "markdown",
   "metadata": {},
   "source": [
    "### Delete"
   ]
  },
  {
   "cell_type": "markdown",
   "metadata": {
    "collapsed": true
   },
   "source": [
    "    var bad_bacon = {\n",
    "        'exports.foods' : {\n",
    "            $elemMatch : {\n",
    "                name : 'bacon',\n",
    "                tasty : false\n",
    "            }\n",
    "        }\n",
    "    }\n",
    "\n",
    "    db.countries.find( bad_bacon )\n",
    "\n",
    "    db.countries.remove( bad_bacon )\n",
    "    db.countries.count()"
   ]
  },
  {
   "cell_type": "markdown",
   "metadata": {},
   "source": [
    "## JSON"
   ]
  },
  {
   "cell_type": "markdown",
   "metadata": {},
   "source": [
    "<img src=\"mongodb_record_as_json_diag.png\">"
   ]
  },
  {
   "cell_type": "markdown",
   "metadata": {},
   "source": [
    "## A quick comparison"
   ]
  },
  {
   "cell_type": "markdown",
   "metadata": {},
   "source": [
    "<img src=\"sql_vs_mongodb_schema_arrangement.png\">"
   ]
  },
  {
   "cell_type": "markdown",
   "metadata": {},
   "source": [
    "| Concept | SQL | MongoDB |\n",
    "|:---|---|---|\n",
    "| One User                         | One Row                    | One Document |\n",
    "| All Users                        | Users Table                | Users Collection |\n",
    "| One Username Per User (1-to-1)   | Username Column            | Username Property |\n",
    "| Many Emails Per User (1-to-many) | SQL JOIN with Emails Table | Embed relevant email doc in User Document |\n",
    "| Many Items Owned by Many Users (many-tomany) | SQL JOIN with Items Table | Programmatically Join with Items Collection |\n"
   ]
  },
  {
   "cell_type": "markdown",
   "metadata": {},
   "source": [
    "## MongoDB from Python"
   ]
  },
  {
   "cell_type": "markdown",
   "metadata": {},
   "source": [
    "### Connect to database"
   ]
  },
  {
   "cell_type": "code",
   "execution_count": 33,
   "metadata": {
    "collapsed": false
   },
   "outputs": [
    {
     "name": "stdout",
     "output_type": "stream",
     "text": [
      "Connected successfully\n"
     ]
    }
   ],
   "source": [
    "import sys\n",
    "from pymongo import MongoClient\n",
    "from pymongo.errors import ConnectionFailure\n",
    "\n",
    "def main():\n",
    "    \"\"\" Connect to MongoDB \"\"\"\n",
    "    try:\n",
    "        #Connect to Database\n",
    "        client = MongoClient(host=\"localhost\", port=27017)\n",
    "        print \"Connected successfully\"\n",
    "\n",
    "    except ConnectionFailure, e:\n",
    "        sys.stderr.write(\"Could not connect to MongoDB: %s\" % e)\n",
    "        sys.exit(1)\n",
    "\n",
    "if __name__ == \"__main__\":\n",
    "    main()\n",
    "\n"
   ]
  },
  {
   "cell_type": "code",
   "execution_count": 9,
   "metadata": {
    "collapsed": true
   },
   "outputs": [],
   "source": [
    "client = MongoClient('localhost', 27017)\n",
    "\n",
    "# The URI format\n",
    "client = MongoClient('mongodb://localhost:27017/')"
   ]
  },
  {
   "cell_type": "code",
   "execution_count": 38,
   "metadata": {
    "collapsed": false
   },
   "outputs": [
    {
     "name": "stdout",
     "output_type": "stream",
     "text": [
      "Connected successfully\n",
      "Successfully set up a database handle\n"
     ]
    }
   ],
   "source": [
    "import sys\n",
    "from pymongo import MongoClient\n",
    "from pymongo.errors import ConnectionFailure\n",
    "\n",
    "def main():\n",
    "    \"\"\" Connect to MongoDB \"\"\"\n",
    "    try:\n",
    "        #Connect to Database\n",
    "        client = MongoClient(host=\"localhost\", port=27017)\n",
    "        print \"Connected successfully\"\n",
    "        \n",
    "        # Get a Database handle to a database named \"twitterdb\"\n",
    "        dbh = client[\"twitterdb\"]\n",
    "        print \"Successfully set up a database handle\"\n",
    "        \n",
    "    except ConnectionFailure, e:\n",
    "        sys.stderr.write(\"Could not connect to MongoDB: %s\" % e)\n",
    "        sys.exit(1)\n",
    "\n",
    "if __name__ == \"__main__\":\n",
    "    main()\n"
   ]
  },
  {
   "cell_type": "code",
   "execution_count": 10,
   "metadata": {
    "collapsed": false
   },
   "outputs": [
    {
     "data": {
      "text/plain": [
       "Database(MongoClient(host=['localhost:27017'], document_class=dict, tz_aware=False, connect=True), u'twitterdb')"
      ]
     },
     "execution_count": 10,
     "metadata": {},
     "output_type": "execute_result"
    }
   ],
   "source": [
    "client[\"twitterdb\"]"
   ]
  },
  {
   "cell_type": "code",
   "execution_count": 41,
   "metadata": {
    "collapsed": false
   },
   "outputs": [
    {
     "data": {
      "text/plain": [
       "Database(MongoClient(host=['localhost:27017'], document_class=dict, tz_aware=False, connect=True), u'twitterdb')"
      ]
     },
     "execution_count": 41,
     "metadata": {},
     "output_type": "execute_result"
    }
   ],
   "source": [
    "client.twitterdb"
   ]
  },
  {
   "cell_type": "markdown",
   "metadata": {},
   "source": [
    "### Create/Insert"
   ]
  },
  {
   "cell_type": "code",
   "execution_count": 7,
   "metadata": {
    "collapsed": false
   },
   "outputs": [
    {
     "name": "stdout",
     "output_type": "stream",
     "text": [
      "Connected successfully\n",
      "Successfully set up a database handle\n",
      "Successfully inserted document: {'username': 'janedoe', 'surname': 'Doe', 'firstname': 'Jane', 'dateofbirth': datetime.datetime(1974, 4, 12, 0, 0), 'score': 0, '_id': ObjectId('5669f598871c2559f56bb5d1'), 'email': 'janedoe74@example.com'}\n"
     ]
    }
   ],
   "source": [
    "import sys\n",
    "from pymongo import MongoClient\n",
    "from pymongo.errors import ConnectionFailure\n",
    "from datetime import datetime\n",
    "\n",
    "def main():\n",
    "    \"\"\" Connect to MongoDB \"\"\"\n",
    "    try:\n",
    "        #Connect to Database\n",
    "        client = MongoClient(host=\"localhost\", port=27017)\n",
    "        print \"Connected successfully\"\n",
    "        \n",
    "        # Get a Database handle to a database named \"twitterdb\"\n",
    "        dbh = client[\"twitterdb\"]\n",
    "        #assert dbh.connection == c\n",
    "        print \"Successfully set up a database handle\"\n",
    "        \n",
    "    except ConnectionFailure, e:\n",
    "        sys.stderr.write(\"Could not connect to MongoDB: %s\" % e)\n",
    "        sys.exit(1)\n",
    "        \n",
    "    user_doc = {\n",
    "        \"username\" : \"janedoe\",\n",
    "        \"firstname\" : \"Jane\",\n",
    "        \"surname\" : \"Doe\",\n",
    "        \"dateofbirth\" : datetime(1974, 4, 12),\n",
    "        \"email\" : \"janedoe74@example.com\",\n",
    "        \"score\" : 0\n",
    "        }\n",
    "    dbh.users.insert_one(user_doc)\n",
    "    print \"Successfully inserted document: %s\" % user_doc\n",
    "\n",
    "if __name__ == \"__main__\":\n",
    "    main()\n"
   ]
  },
  {
   "cell_type": "markdown",
   "metadata": {},
   "source": [
    "**Notes**\n",
    "* The PyMongo driver supports Python datetime objects (it'll translate between mongodb datetime objects and python datatime objects), which is great for us. We'll not have to translate between the two data structures.\n",
    "* Just like we noted before, we don't have to create our collection “users” before we insert documents to it."
   ]
  },
  {
   "cell_type": "code",
   "execution_count": 11,
   "metadata": {
    "collapsed": false
   },
   "outputs": [
    {
     "data": {
      "text/plain": [
       "ObjectId('5669f5a6871c2559f56bb5d2')"
      ]
     },
     "execution_count": 11,
     "metadata": {},
     "output_type": "execute_result"
    }
   ],
   "source": [
    "result = client.twitterdb.users.insert_one({\n",
    "    \"username\" : \"Pavitra\",\n",
    "    \"firstname\" : \"Pavitra\",\n",
    "    \"surname\" : \"Pravakar\",\n",
    "    \"dateofbirth\" : datetime(1986, 4, 12),\n",
    "    \"email\" : \"spiderman@marvelheroes.com\",\n",
    "    \"score\" : 0\n",
    "})\n",
    "result.inserted_id"
   ]
  },
  {
   "cell_type": "markdown",
   "metadata": {},
   "source": [
    "### Read"
   ]
  },
  {
   "cell_type": "code",
   "execution_count": 101,
   "metadata": {
    "collapsed": false
   },
   "outputs": [],
   "source": [
    "user_doc = client.twitterdb.users.find_one({\"username\" : \"janedoe\"})\n",
    "if not user_doc:\n",
    "    print \"no document found for username janedoe\""
   ]
  },
  {
   "cell_type": "code",
   "execution_count": 107,
   "metadata": {
    "collapsed": false
   },
   "outputs": [
    {
     "name": "stdout",
     "output_type": "stream",
     "text": [
      "janedoe74@example2.com\n"
     ]
    }
   ],
   "source": [
    "users = client.twitterdb.users.find({\"username\":\"janedoe\"})\n",
    "for user in users:\n",
    "    print user.get(\"email\")"
   ]
  },
  {
   "cell_type": "markdown",
   "metadata": {
    "collapsed": true
   },
   "source": [
    "### Update"
   ]
  },
  {
   "cell_type": "code",
   "execution_count": 78,
   "metadata": {
    "collapsed": true
   },
   "outputs": [],
   "source": [
    "user_doc = {\n",
    "    \"username\" : \"janedoe\",\n",
    "    \"firstname\" : \"Jane\",\n",
    "    \"surname\" : \"Doe\",\n",
    "    \"dateofbirth\" : datetime(1974, 4, 12),\n",
    "    \"email\" : \"janedoe74@example.com\",\n",
    "    \"score\" : 0\n",
    "}"
   ]
  },
  {
   "cell_type": "code",
   "execution_count": 97,
   "metadata": {
    "collapsed": false
   },
   "outputs": [
    {
     "data": {
      "text/plain": [
       "<pymongo.results.UpdateResult at 0x7f64113405f0>"
      ]
     },
     "execution_count": 97,
     "metadata": {},
     "output_type": "execute_result"
    }
   ],
   "source": [
    "# first query to get a copy of the current document\n",
    "import copy\n",
    "old_user_doc = client.twitterdb.users.find_one({\"username\":\"janedoe\"})\n",
    "new_user_doc = copy.deepcopy(old_user_doc)\n",
    "\n",
    "# modify the copy to change the email address\n",
    "new_user_doc[\"email\"] = \"janedoe74@example2.com\"\n",
    "\n",
    "# run the update query\n",
    "# replace the matched document with the contents of new_user_doc\n",
    "client.twitterdb.users.replace_one({\"username\":\"janedoe\"}, new_user_doc)"
   ]
  },
  {
   "cell_type": "markdown",
   "metadata": {},
   "source": [
    "Building the whole replacement document can be cumbersome, and worse, can introduce race conditions. Imagine you want to increment the score property of the “janedoe” user. In order to achieve this with the replacement approach, you would have to first fetch the document, modify it with the incremented score, then write it back to\n",
    "the database. With that approach, you could easily lose other score changes if something else were to update the score in between you reading and writing it.\n",
    "\n",
    "In order to solve this problem, the update document supports an additional set of MongoDB operators called “update modifiers”. These update modifiers include operators such as atomic increment/decrement, atomic list push/pop and so on. It is very helpful to be aware of which update modifiers are available and what they can do when\n",
    "designing your application."
   ]
  },
  {
   "cell_type": "code",
   "execution_count": 87,
   "metadata": {
    "collapsed": false
   },
   "outputs": [
    {
     "data": {
      "text/plain": [
       "<pymongo.results.UpdateResult at 0x7f63dffeb0f0>"
      ]
     },
     "execution_count": 87,
     "metadata": {},
     "output_type": "execute_result"
    }
   ],
   "source": [
    "client.twitterdb.users.update_one({\"username\":\"janedoe\"},\n",
    "                {\"$set\":{\"email\":\"janedoe74@example2.com\"}})"
   ]
  },
  {
   "cell_type": "code",
   "execution_count": 92,
   "metadata": {
    "collapsed": false
   },
   "outputs": [
    {
     "data": {
      "text/plain": [
       "<pymongo.results.UpdateResult at 0x7f63dffeb190>"
      ]
     },
     "execution_count": 92,
     "metadata": {},
     "output_type": "execute_result"
    }
   ],
   "source": [
    "client.twitterdb.users.update_one({\"username\":\"janedoe\"},\n",
    "                 {\"$set\":{\"email\":\"janedoe74@example2.com\", \"score\":1}})"
   ]
  },
  {
   "cell_type": "code",
   "execution_count": 2,
   "metadata": {
    "collapsed": false
   },
   "outputs": [
    {
     "ename": "NameError",
     "evalue": "name 'client' is not defined",
     "output_type": "error",
     "traceback": [
      "\u001b[1;31m---------------------------------------------------------------------------\u001b[0m",
      "\u001b[1;31mNameError\u001b[0m                                 Traceback (most recent call last)",
      "\u001b[1;32m<ipython-input-2-090a123f6806>\u001b[0m in \u001b[0;36m<module>\u001b[1;34m()\u001b[0m\n\u001b[1;32m----> 1\u001b[1;33m result = client.twitterdb.users.update_one({\"username\":\"janedoe\"},\n\u001b[0m\u001b[0;32m      2\u001b[0m                  {\"$set\":{\"email\":\"janedoe74@example2.com\", \"score\":1}})\n\u001b[0;32m      3\u001b[0m \u001b[0mresult\u001b[0m\u001b[1;33m.\u001b[0m\u001b[0mmodified_count\u001b[0m\u001b[1;33m\u001b[0m\u001b[0m\n",
      "\u001b[1;31mNameError\u001b[0m: name 'client' is not defined"
     ]
    }
   ],
   "source": [
    "result = client.twitterdb.users.update_one({\"username\":\"janedoe\"},\n",
    "                 {\"$set\":{\"email\":\"janedoe74@example2.com\", \"score\":1}})\n",
    "result.modified_count"
   ]
  },
  {
   "cell_type": "markdown",
   "metadata": {},
   "source": [
    "### Delete"
   ]
  },
  {
   "cell_type": "code",
   "execution_count": 90,
   "metadata": {
    "collapsed": false
   },
   "outputs": [
    {
     "data": {
      "text/plain": [
       "<pymongo.results.DeleteResult at 0x7f63dffeb140>"
      ]
     },
     "execution_count": 90,
     "metadata": {},
     "output_type": "execute_result"
    }
   ],
   "source": [
    "client.twitterdb.users.delete_one({\"score\":1})"
   ]
  },
  {
   "cell_type": "markdown",
   "metadata": {},
   "source": [
    "# The Twitter API in Action"
   ]
  },
  {
   "cell_type": "markdown",
   "metadata": {},
   "source": [
    "## Organization of Twitter Data"
   ]
  },
  {
   "cell_type": "markdown",
   "metadata": {},
   "source": [
    "<img src=\"teamindia_tweet.png\">"
   ]
  },
  {
   "cell_type": "markdown",
   "metadata": {},
   "source": [
    "A Tweet contains:\n",
    "* date and time\n",
    "* links\n",
    "* user mentions (@)\n",
    "* hash tags (#)\n",
    "* retweets count\n",
    "* locale language\n",
    "* favorites count\n",
    "* geocode\n"
   ]
  },
  {
   "cell_type": "markdown",
   "metadata": {},
   "source": [
    "## Accessing Twitter Data"
   ]
  },
  {
   "cell_type": "markdown",
   "metadata": {},
   "source": [
    "### REST API"
   ]
  },
  {
   "cell_type": "markdown",
   "metadata": {},
   "source": [
    "* [Twitter REST API Documentation](https://dev.twitter.com/rest/public)"
   ]
  },
  {
   "cell_type": "markdown",
   "metadata": {},
   "source": [
    "### Streaming API"
   ]
  },
  {
   "cell_type": "markdown",
   "metadata": {},
   "source": [
    "* [Twitter Streaming API Documentation](https://dev.twitter.com/streaming/overview)"
   ]
  },
  {
   "cell_type": "markdown",
   "metadata": {},
   "source": [
    "### OAuth\n",
    "\n",
    "* [Twitter OAuth Documentation](https://dev.twitter.com/oauth)\n",
    "* Instructions for getting access:\n",
    "    - Create a Twitter account\n",
    "    - Go to https://apps.twitter.com/\n",
    "    - Create New App (button on top right corner(-ish))\n",
    "    - Fill out details in the next page. Value of *Website* doesn't matter right now (use http://google.com). Create your Twitter application.\n",
    "    - In the next screen, select the *KeyandAccessTokens* tab.\n",
    "    - Note down the following credentials:\n",
    "        * Consumer Key (API Key)\n",
    "        * Consumer Secret (API Secret)\n",
    "    - Click on *Create my access token*. After tokens are generated, note down the following credentials:\n",
    "        * Access Token\n",
    "        * Access Token Secret\n",
    "    - Add the credentials to *.profile*\n",
    "        * .profile vs .bashrc vs .Renviron"
   ]
  },
  {
   "cell_type": "markdown",
   "metadata": {},
   "source": [
    "## Introduction to Twython"
   ]
  },
  {
   "cell_type": "markdown",
   "metadata": {},
   "source": [
    "    pip install twython"
   ]
  },
  {
   "cell_type": "markdown",
   "metadata": {},
   "source": [
    "* [Official Twython Documentation](https://twython.readthedocs.org/en/latest/)\n",
    "* Supports both REST and Streaming APIs\n",
    "* For more wrappers, see https://dev.twitter.com/overview/api/twitter-libraries"
   ]
  },
  {
   "cell_type": "markdown",
   "metadata": {},
   "source": [
    "### Searching by Topic"
   ]
  },
  {
   "cell_type": "code",
   "execution_count": 30,
   "metadata": {
    "collapsed": false
   },
   "outputs": [],
   "source": [
    "import os\n",
    "TWITTER_CONSUMER_KEY = os.environ[\"TWITTER_CONSUMER_KEY\"]\n",
    "TWITTER_CONSUMER_SECRET = os.environ[\"TWITTER_CONSUMER_SECRET\"]\n",
    "TWITTER_ACCESS_TOKEN = os.environ[\"TWITTER_ACCESS_TOKEN\"]\n",
    "TWITTER_ACCESS_TOKEN_SECRET = os.environ[\"TWITTER_ACCESS_TOKEN_SECRET\"]"
   ]
  },
  {
   "cell_type": "code",
   "execution_count": 33,
   "metadata": {
    "collapsed": false
   },
   "outputs": [],
   "source": [
    "from twython import Twython\n",
    "twitter = Twython(TWITTER_CONSUMER_KEY, TWITTER_CONSUMER_SECRET, TWITTER_ACCESS_TOKEN, TWITTER_ACCESS_TOKEN_SECRET)"
   ]
  },
  {
   "cell_type": "code",
   "execution_count": 35,
   "metadata": {
    "collapsed": false
   },
   "outputs": [],
   "source": [
    "result = twitter.search(q=\"bigdata\")"
   ]
  },
  {
   "cell_type": "markdown",
   "metadata": {},
   "source": [
    "**Note**\n",
    "* If Twython fails to authenticate, result will have the following json as its value:\n",
    "        {\"errors\":[{\"message\":\"Bad Authentication data\", \"code\":215}]}\n",
    "* If successful, Twython will convert the JSON it receives to a native python object."
   ]
  },
  {
   "cell_type": "code",
   "execution_count": 36,
   "metadata": {
    "collapsed": false
   },
   "outputs": [
    {
     "name": "stdout",
     "output_type": "stream",
     "text": [
      "{u'contributors': None, u'truncated': False, u'text': u'RT @analyticbridge: Top LinkedIn Groups for Analytics, Big Data, and Data Science  \\nhttps://t.co/PrIONSq1pU https://t.co/zSXAoDo7aZ', u'is_quote_status': False, u'in_reply_to_status_id': None, u'id': 675102837379104768, u'favorite_count': 0, u'source': u'<a href=\"http://twitter.com\" rel=\"nofollow\">Twitter Web Client</a>', u'retweeted': False, u'coordinates': None, u'entities': {u'symbols': [], u'user_mentions': [{u'id': 14174897, u'indices': [3, 18], u'id_str': u'14174897', u'screen_name': u'analyticbridge', u'name': u'Big Data Science'}], u'hashtags': [], u'urls': [{u'url': u'https://t.co/PrIONSq1pU', u'indices': [84, 107], u'expanded_url': u'http://www.datasciencecentral.com/profiles/blogs/top-linkedin-groups-for-analytics-big-data-data-mining-and-data', u'display_url': u'datasciencecentral.com/profiles/blogs\\u2026'}], u'media': [{u'source_user_id': 14174897, u'source_status_id_str': u'675034264702988288', u'expanded_url': u'http://twitter.com/analyticbridge/status/675034264702988288/photo/1', u'display_url': u'pic.twitter.com/zSXAoDo7aZ', u'url': u'https://t.co/zSXAoDo7aZ', u'media_url_https': u'https://pbs.twimg.com/media/CV40Fh6W4AAWhNH.png', u'source_user_id_str': u'14174897', u'source_status_id': 675034264702988288, u'id_str': u'675034263759282176', u'sizes': {u'large': {u'h': 401, u'resize': u'fit', u'w': 750}, u'small': {u'h': 181, u'resize': u'fit', u'w': 340}, u'medium': {u'h': 320, u'resize': u'fit', u'w': 600}, u'thumb': {u'h': 150, u'resize': u'crop', u'w': 150}}, u'indices': [108, 131], u'type': u'photo', u'id': 675034263759282176, u'media_url': u'http://pbs.twimg.com/media/CV40Fh6W4AAWhNH.png'}]}, u'in_reply_to_screen_name': None, u'in_reply_to_user_id': None, u'retweet_count': 18, u'id_str': u'675102837379104768', u'favorited': False, u'retweeted_status': {u'contributors': None, u'truncated': False, u'text': u'Top LinkedIn Groups for Analytics, Big Data, and Data Science  \\nhttps://t.co/PrIONSq1pU https://t.co/zSXAoDo7aZ', u'is_quote_status': False, u'in_reply_to_status_id': None, u'id': 675034264702988288, u'favorite_count': 31, u'source': u'<a href=\"http://twitter.com\" rel=\"nofollow\">Twitter Web Client</a>', u'retweeted': False, u'coordinates': None, u'entities': {u'symbols': [], u'user_mentions': [], u'hashtags': [], u'urls': [{u'url': u'https://t.co/PrIONSq1pU', u'indices': [64, 87], u'expanded_url': u'http://www.datasciencecentral.com/profiles/blogs/top-linkedin-groups-for-analytics-big-data-data-mining-and-data', u'display_url': u'datasciencecentral.com/profiles/blogs\\u2026'}], u'media': [{u'expanded_url': u'http://twitter.com/analyticbridge/status/675034264702988288/photo/1', u'display_url': u'pic.twitter.com/zSXAoDo7aZ', u'url': u'https://t.co/zSXAoDo7aZ', u'media_url_https': u'https://pbs.twimg.com/media/CV40Fh6W4AAWhNH.png', u'id_str': u'675034263759282176', u'sizes': {u'large': {u'h': 401, u'resize': u'fit', u'w': 750}, u'small': {u'h': 181, u'resize': u'fit', u'w': 340}, u'medium': {u'h': 320, u'resize': u'fit', u'w': 600}, u'thumb': {u'h': 150, u'resize': u'crop', u'w': 150}}, u'indices': [88, 111], u'type': u'photo', u'id': 675034263759282176, u'media_url': u'http://pbs.twimg.com/media/CV40Fh6W4AAWhNH.png'}]}, u'in_reply_to_screen_name': None, u'in_reply_to_user_id': None, u'retweet_count': 18, u'id_str': u'675034264702988288', u'favorited': False, u'user': {u'follow_request_sent': False, u'has_extended_profile': False, u'profile_use_background_image': True, u'default_profile_image': False, u'id': 14174897, u'profile_background_image_url_https': u'https://pbs.twimg.com/profile_background_images/33516583/water10x.gif', u'verified': False, u'profile_text_color': u'3E4415', u'profile_image_url_https': u'https://pbs.twimg.com/profile_images/1198161733/analitycbridge_normal.png', u'profile_sidebar_fill_color': u'CAD9D8', u'entities': {u'url': {u'urls': [{u'url': u'http://t.co/43tj0Ez1jT', u'indices': [0, 22], u'expanded_url': u'http://www.datasciencecentral.com/profiles/blogs/check-out-our-dsc-newsletter', u'display_url': u'datasciencecentral.com/profiles/blogs\\u2026'}]}, u'description': {u'urls': []}}, u'followers_count': 124734, u'profile_sidebar_border_color': u'829D5E', u'id_str': u'14174897', u'profile_background_color': u'352726', u'listed_count': 3749, u'is_translation_enabled': False, u'utc_offset': -28800, u'statuses_count': 41295, u'description': u'Big data, machine learning, predictive modeling, R, Hadoop, Python, business analytics, data mining, IoT and operations research: resources, tutorials and more.', u'friends_count': 4234, u'location': u'Seattle, WA', u'profile_link_color': u'080808', u'profile_image_url': u'http://pbs.twimg.com/profile_images/1198161733/analitycbridge_normal.png', u'following': False, u'geo_enabled': False, u'profile_banner_url': u'https://pbs.twimg.com/profile_banners/14174897/1401028953', u'profile_background_image_url': u'http://pbs.twimg.com/profile_background_images/33516583/water10x.gif', u'screen_name': u'analyticbridge', u'lang': u'en', u'profile_background_tile': True, u'favourites_count': 1085, u'name': u'Big Data Science', u'notifications': False, u'url': u'http://t.co/43tj0Ez1jT', u'created_at': u'Wed Mar 19 05:26:29 +0000 2008', u'contributors_enabled': False, u'time_zone': u'Pacific Time (US & Canada)', u'protected': False, u'default_profile': False, u'is_translator': False}, u'geo': None, u'in_reply_to_user_id_str': None, u'possibly_sensitive': False, u'lang': u'en', u'created_at': u'Thu Dec 10 19:28:04 +0000 2015', u'in_reply_to_status_id_str': None, u'place': None, u'metadata': {u'iso_language_code': u'en', u'result_type': u'recent'}}, u'user': {u'follow_request_sent': False, u'has_extended_profile': False, u'profile_use_background_image': True, u'default_profile_image': False, u'id': 203263122, u'profile_background_image_url_https': u'https://pbs.twimg.com/profile_background_images/792712460/c4ab0ea280d6a514085872efc7eb7ce9.jpeg', u'verified': False, u'profile_text_color': u'333333', u'profile_image_url_https': u'https://pbs.twimg.com/profile_images/3371626819/ba3a6654983314b01f895aab632e483f_normal.png', u'profile_sidebar_fill_color': u'C0DFEC', u'entities': {u'url': {u'urls': [{u'url': u'http://t.co/VGbD0FjioB', u'indices': [0, 22], u'expanded_url': u'http://www.insideanalysis.com', u'display_url': u'insideanalysis.com'}]}, u'description': {u'urls': []}}, u'followers_count': 2677, u'profile_sidebar_border_color': u'FFFFFF', u'id_str': u'203263122', u'profile_background_color': u'022330', u'listed_count': 107, u'is_translation_enabled': False, u'utc_offset': -36000, u'statuses_count': 4088, u'description': u'Web-based multimedia to deliver vendor-neutral education that is designed to reveal the essential characteristics of information technologies.', u'friends_count': 2515, u'location': u'Austin, TX', u'profile_link_color': u'0084B4', u'profile_image_url': u'http://pbs.twimg.com/profile_images/3371626819/ba3a6654983314b01f895aab632e483f_normal.png', u'following': False, u'geo_enabled': False, u'profile_background_image_url': u'http://pbs.twimg.com/profile_background_images/792712460/c4ab0ea280d6a514085872efc7eb7ce9.jpeg', u'screen_name': u'Inside_BigData', u'lang': u'en', u'profile_background_tile': False, u'favourites_count': 111, u'name': u'Inside Analysis', u'notifications': False, u'url': u'http://t.co/VGbD0FjioB', u'created_at': u'Fri Oct 15 22:10:19 +0000 2010', u'contributors_enabled': False, u'time_zone': u'Hawaii', u'protected': False, u'default_profile': False, u'is_translator': False}, u'geo': None, u'in_reply_to_user_id_str': None, u'possibly_sensitive': False, u'lang': u'en', u'created_at': u'Fri Dec 11 00:00:33 +0000 2015', u'in_reply_to_status_id_str': None, u'place': None, u'metadata': {u'iso_language_code': u'en', u'result_type': u'recent'}}\n",
      "{u'contributors': None, u'truncated': False, u'text': u'What Is #IoT? Why it Matters and What You Should Do @HuffPostBiz https://t.co/ViuQMrNztM #InternetOfThings #BigData https://t.co/o9BP9bHnVq', u'is_quote_status': False, u'in_reply_to_status_id': None, u'id': 675102796786569216, u'favorite_count': 0, u'source': u'<a href=\"http://www.hootsuite.com\" rel=\"nofollow\">Hootsuite</a>', u'retweeted': False, u'coordinates': None, u'entities': {u'symbols': [], u'user_mentions': [{u'id': 27073265, u'indices': [52, 64], u'id_str': u'27073265', u'screen_name': u'HuffPostBiz', u'name': u'HuffPost Business'}], u'hashtags': [{u'indices': [8, 12], u'text': u'IoT'}, {u'indices': [89, 106], u'text': u'InternetOfThings'}, {u'indices': [107, 115], u'text': u'BigData'}], u'urls': [{u'url': u'https://t.co/ViuQMrNztM', u'indices': [65, 88], u'expanded_url': u'http://ow.ly/VJN7x', u'display_url': u'ow.ly/VJN7x'}], u'media': [{u'expanded_url': u'http://twitter.com/PodsystemM2M/status/675102796786569216/photo/1', u'display_url': u'pic.twitter.com/o9BP9bHnVq', u'url': u'https://t.co/o9BP9bHnVq', u'media_url_https': u'https://pbs.twimg.com/media/CV5yaooWIAIvl88.jpg', u'id_str': u'675102796060958722', u'sizes': {u'large': {u'h': 930, u'resize': u'fit', u'w': 930}, u'small': {u'h': 340, u'resize': u'fit', u'w': 340}, u'medium': {u'h': 600, u'resize': u'fit', u'w': 600}, u'thumb': {u'h': 150, u'resize': u'crop', u'w': 150}}, u'indices': [116, 139], u'type': u'photo', u'id': 675102796060958722, u'media_url': u'http://pbs.twimg.com/media/CV5yaooWIAIvl88.jpg'}]}, u'in_reply_to_screen_name': None, u'in_reply_to_user_id': None, u'retweet_count': 0, u'id_str': u'675102796786569216', u'favorited': False, u'user': {u'follow_request_sent': False, u'has_extended_profile': False, u'profile_use_background_image': False, u'default_profile_image': False, u'id': 587560451, u'profile_background_image_url_https': u'https://pbs.twimg.com/profile_background_images/559540186/New_logo.jpg', u'verified': False, u'profile_text_color': u'333333', u'profile_image_url_https': u'https://pbs.twimg.com/profile_images/2367470955/37fnetpvzakcmy2opszn_normal.jpeg', u'profile_sidebar_fill_color': u'DDEEF6', u'entities': {u'url': {u'urls': [{u'url': u'http://t.co/9Hm1pEDTfH', u'indices': [0, 22], u'expanded_url': u'http://www.podsystemm2m.com', u'display_url': u'podsystemm2m.com'}]}, u'description': {u'urls': []}}, u'followers_count': 916, u'profile_sidebar_border_color': u'C0DEED', u'id_str': u'587560451', u'profile_background_color': u'C0DEED', u'listed_count': 282, u'is_translation_enabled': False, u'utc_offset': 7200, u'statuses_count': 3148, u'description': u'Podsystem M2M offers data #SIM cards for the #M2M industry: global coverage, local prices and expert support.', u'friends_count': 1432, u'location': u'UK, US, Spain', u'profile_link_color': u'0084B4', u'profile_image_url': u'http://pbs.twimg.com/profile_images/2367470955/37fnetpvzakcmy2opszn_normal.jpeg', u'following': False, u'geo_enabled': True, u'profile_banner_url': u'https://pbs.twimg.com/profile_banners/587560451/1439245902', u'profile_background_image_url': u'http://pbs.twimg.com/profile_background_images/559540186/New_logo.jpg', u'screen_name': u'PodsystemM2M', u'lang': u'en', u'profile_background_tile': False, u'favourites_count': 210, u'name': u'Podsystem M2M', u'notifications': False, u'url': u'http://t.co/9Hm1pEDTfH', u'created_at': u'Tue May 22 16:41:21 +0000 2012', u'contributors_enabled': False, u'time_zone': u'Athens', u'protected': False, u'default_profile': False, u'is_translator': False}, u'geo': None, u'in_reply_to_user_id_str': None, u'possibly_sensitive': False, u'lang': u'en', u'created_at': u'Fri Dec 11 00:00:24 +0000 2015', u'in_reply_to_status_id_str': None, u'place': None, u'metadata': {u'iso_language_code': u'en', u'result_type': u'recent'}}\n",
      "{u'contributors': None, u'truncated': False, u'text': u'What Is #IoT? Why it Matters and What You Should Do @HuffPostBiz https://t.co/4OM6sOhz6H #InternetOfThings #BigData https://t.co/MJXUqI2br7', u'is_quote_status': False, u'in_reply_to_status_id': None, u'id': 675102788335083520, u'favorite_count': 0, u'source': u'<a href=\"http://www.hootsuite.com\" rel=\"nofollow\">Hootsuite</a>', u'retweeted': False, u'coordinates': None, u'entities': {u'symbols': [], u'user_mentions': [{u'id': 27073265, u'indices': [52, 64], u'id_str': u'27073265', u'screen_name': u'HuffPostBiz', u'name': u'HuffPost Business'}], u'hashtags': [{u'indices': [8, 12], u'text': u'IoT'}, {u'indices': [89, 106], u'text': u'InternetOfThings'}, {u'indices': [107, 115], u'text': u'BigData'}], u'urls': [{u'url': u'https://t.co/4OM6sOhz6H', u'indices': [65, 88], u'expanded_url': u'http://ow.ly/VJN2Q', u'display_url': u'ow.ly/VJN2Q'}, {u'url': u'https://t.co/MJXUqI2br7', u'indices': [116, 139], u'expanded_url': u'http://ow.ly/i/f8xin', u'display_url': u'ow.ly/i/f8xin'}]}, u'in_reply_to_screen_name': None, u'in_reply_to_user_id': None, u'retweet_count': 0, u'id_str': u'675102788335083520', u'favorited': False, u'user': {u'follow_request_sent': False, u'has_extended_profile': False, u'profile_use_background_image': True, u'default_profile_image': False, u'id': 2399381988, u'profile_background_image_url_https': u'https://abs.twimg.com/images/themes/theme1/bg.png', u'verified': False, u'profile_text_color': u'333333', u'profile_image_url_https': u'https://pbs.twimg.com/profile_images/482172943279988738/3LB5Z-Z1_normal.png', u'profile_sidebar_fill_color': u'DDEEF6', u'entities': {u'url': {u'urls': [{u'url': u'http://t.co/13m20IjAmN', u'indices': [0, 22], u'expanded_url': u'http://www.podsystem.com', u'display_url': u'podsystem.com'}]}, u'description': {u'urls': []}}, u'followers_count': 121, u'profile_sidebar_border_color': u'C0DEED', u'id_str': u'2399381988', u'profile_background_color': u'C0DEED', u'listed_count': 224, u'is_translation_enabled': False, u'utc_offset': 3600, u'statuses_count': 1921, u'description': u'Podsystem Group is an #independent Mobile Virtual Network Operator (#MVNO) that specialises in #mobile #data solutions for #M2M, #travel and #BusinessServices.', u'friends_count': 151, u'location': u'Buckingham, England', u'profile_link_color': u'0084B4', u'profile_image_url': u'http://pbs.twimg.com/profile_images/482172943279988738/3LB5Z-Z1_normal.png', u'following': False, u'geo_enabled': False, u'profile_banner_url': u'https://pbs.twimg.com/profile_banners/2399381988/1439246523', u'profile_background_image_url': u'http://abs.twimg.com/images/themes/theme1/bg.png', u'screen_name': u'Podsystem', u'lang': u'en', u'profile_background_tile': False, u'favourites_count': 73, u'name': u'Podsystem Group', u'notifications': False, u'url': u'http://t.co/13m20IjAmN', u'created_at': u'Thu Mar 20 10:14:34 +0000 2014', u'contributors_enabled': False, u'time_zone': u'Amsterdam', u'protected': False, u'default_profile': True, u'is_translator': False}, u'geo': None, u'in_reply_to_user_id_str': None, u'possibly_sensitive': False, u'lang': u'en', u'created_at': u'Fri Dec 11 00:00:22 +0000 2015', u'in_reply_to_status_id_str': None, u'place': None, u'metadata': {u'iso_language_code': u'en', u'result_type': u'recent'}}\n",
      "{u'contributors': None, u'truncated': False, u'text': u'RT @TheWebAnalytics: Basic Google Analytics Filters for Every Site https://t.co/bcL93342xX', u'is_quote_status': False, u'in_reply_to_status_id': None, u'id': 675102787630473216, u'favorite_count': 0, u'source': u'<a href=\"http://twitter.com\" rel=\"nofollow\">Twitter Web Client</a>', u'retweeted': False, u'coordinates': None, u'entities': {u'symbols': [], u'user_mentions': [{u'id': 454078183, u'indices': [3, 19], u'id_str': u'454078183', u'screen_name': u'TheWebAnalytics', u'name': u'The Web Analytics'}], u'hashtags': [], u'urls': [{u'url': u'https://t.co/bcL93342xX', u'indices': [67, 90], u'expanded_url': u'http://goo.gl/HZ1jTW', u'display_url': u'goo.gl/HZ1jTW'}]}, u'in_reply_to_screen_name': None, u'in_reply_to_user_id': None, u'retweet_count': 2, u'id_str': u'675102787630473216', u'favorited': False, u'retweeted_status': {u'contributors': None, u'truncated': False, u'text': u'Basic Google Analytics Filters for Every Site https://t.co/bcL93342xX', u'is_quote_status': False, u'in_reply_to_status_id': None, u'id': 675039195753259008, u'favorite_count': 1, u'source': u'<a href=\"http://www.wonderland.fm/\" rel=\"nofollow\">wonderland.fm Publisher</a>', u'retweeted': False, u'coordinates': None, u'entities': {u'symbols': [], u'user_mentions': [], u'hashtags': [], u'urls': [{u'url': u'https://t.co/bcL93342xX', u'indices': [46, 69], u'expanded_url': u'http://goo.gl/HZ1jTW', u'display_url': u'goo.gl/HZ1jTW'}]}, u'in_reply_to_screen_name': None, u'in_reply_to_user_id': None, u'retweet_count': 2, u'id_str': u'675039195753259008', u'favorited': False, u'user': {u'follow_request_sent': False, u'has_extended_profile': False, u'profile_use_background_image': False, u'default_profile_image': False, u'id': 454078183, u'profile_background_image_url_https': u'https://pbs.twimg.com/profile_background_images/393986119/WebAnalytics.jpg', u'verified': False, u'profile_text_color': u'333333', u'profile_image_url_https': u'https://pbs.twimg.com/profile_images/1732170362/WebAnalytics_normal.png', u'profile_sidebar_fill_color': u'DDEEF6', u'entities': {u'description': {u'urls': []}}, u'followers_count': 13446, u'profile_sidebar_border_color': u'000000', u'id_str': u'454078183', u'profile_background_color': u'DB5314', u'listed_count': 407, u'is_translation_enabled': False, u'utc_offset': 3600, u'statuses_count': 3360, u'description': u'Tips for Web Design, Landing Page, Website Usability and more!', u'friends_count': 14611, u'location': u'', u'profile_link_color': u'0084B4', u'profile_image_url': u'http://pbs.twimg.com/profile_images/1732170362/WebAnalytics_normal.png', u'following': False, u'geo_enabled': False, u'profile_background_image_url': u'http://pbs.twimg.com/profile_background_images/393986119/WebAnalytics.jpg', u'screen_name': u'TheWebAnalytics', u'lang': u'en', u'profile_background_tile': False, u'favourites_count': 0, u'name': u'The Web Analytics', u'notifications': False, u'url': None, u'created_at': u'Tue Jan 03 16:07:56 +0000 2012', u'contributors_enabled': False, u'time_zone': u'Madrid', u'protected': False, u'default_profile': False, u'is_translator': False}, u'geo': None, u'in_reply_to_user_id_str': None, u'possibly_sensitive': False, u'lang': u'en', u'created_at': u'Thu Dec 10 19:47:40 +0000 2015', u'in_reply_to_status_id_str': None, u'place': None, u'metadata': {u'iso_language_code': u'en', u'result_type': u'recent'}}, u'user': {u'follow_request_sent': False, u'has_extended_profile': False, u'profile_use_background_image': True, u'default_profile_image': False, u'id': 203263122, u'profile_background_image_url_https': u'https://pbs.twimg.com/profile_background_images/792712460/c4ab0ea280d6a514085872efc7eb7ce9.jpeg', u'verified': False, u'profile_text_color': u'333333', u'profile_image_url_https': u'https://pbs.twimg.com/profile_images/3371626819/ba3a6654983314b01f895aab632e483f_normal.png', u'profile_sidebar_fill_color': u'C0DFEC', u'entities': {u'url': {u'urls': [{u'url': u'http://t.co/VGbD0FjioB', u'indices': [0, 22], u'expanded_url': u'http://www.insideanalysis.com', u'display_url': u'insideanalysis.com'}]}, u'description': {u'urls': []}}, u'followers_count': 2677, u'profile_sidebar_border_color': u'FFFFFF', u'id_str': u'203263122', u'profile_background_color': u'022330', u'listed_count': 107, u'is_translation_enabled': False, u'utc_offset': -36000, u'statuses_count': 4088, u'description': u'Web-based multimedia to deliver vendor-neutral education that is designed to reveal the essential characteristics of information technologies.', u'friends_count': 2515, u'location': u'Austin, TX', u'profile_link_color': u'0084B4', u'profile_image_url': u'http://pbs.twimg.com/profile_images/3371626819/ba3a6654983314b01f895aab632e483f_normal.png', u'following': False, u'geo_enabled': False, u'profile_background_image_url': u'http://pbs.twimg.com/profile_background_images/792712460/c4ab0ea280d6a514085872efc7eb7ce9.jpeg', u'screen_name': u'Inside_BigData', u'lang': u'en', u'profile_background_tile': False, u'favourites_count': 111, u'name': u'Inside Analysis', u'notifications': False, u'url': u'http://t.co/VGbD0FjioB', u'created_at': u'Fri Oct 15 22:10:19 +0000 2010', u'contributors_enabled': False, u'time_zone': u'Hawaii', u'protected': False, u'default_profile': False, u'is_translator': False}, u'geo': None, u'in_reply_to_user_id_str': None, u'possibly_sensitive': False, u'lang': u'en', u'created_at': u'Fri Dec 11 00:00:22 +0000 2015', u'in_reply_to_status_id_str': None, u'place': None, u'metadata': {u'iso_language_code': u'en', u'result_type': u'recent'}}\n",
      "{u'contributors': None, u'truncated': False, u'text': u'#DataScience acknowledges causation to test scientifically. The reverse denies the scientific method and is called data magic. #bigdata #AI', u'is_quote_status': False, u'in_reply_to_status_id': None, u'id': 675102778277109761, u'favorite_count': 0, u'source': u'<a href=\"http://twitter.com\" rel=\"nofollow\">Twitter Web Client</a>', u'retweeted': False, u'coordinates': None, u'entities': {u'symbols': [], u'user_mentions': [], u'hashtags': [{u'indices': [0, 12], u'text': u'DataScience'}, {u'indices': [127, 135], u'text': u'bigdata'}, {u'indices': [136, 139], u'text': u'AI'}], u'urls': []}, u'in_reply_to_screen_name': None, u'in_reply_to_user_id': None, u'retweet_count': 0, u'id_str': u'675102778277109761', u'favorited': False, u'user': {u'follow_request_sent': False, u'has_extended_profile': False, u'profile_use_background_image': True, u'default_profile_image': False, u'id': 17333183, u'profile_background_image_url_https': u'https://pbs.twimg.com/profile_background_images/607325569/pmeflv53buwvnriryijz.jpeg', u'verified': True, u'profile_text_color': u'333333', u'profile_image_url_https': u'https://pbs.twimg.com/profile_images/616035815659933696/aQwat6Y0_normal.png', u'profile_sidebar_fill_color': u'F6FFD1', u'entities': {u'url': {u'urls': [{u'url': u'http://t.co/lYVZkj4NCi', u'indices': [0, 22], u'expanded_url': u'http://www.BroadListening.com', u'display_url': u'BroadListening.com'}]}, u'description': {u'urls': []}}, u'followers_count': 23009, u'profile_sidebar_border_color': u'FFF8AD', u'id_str': u'17333183', u'profile_background_color': u'DDDDDD', u'listed_count': 741, u'is_translation_enabled': False, u'utc_offset': -32400, u'statuses_count': 4836, u'description': u\"CEO and Founder @BroadListening / @JohnsHopkins Data Scientist, Forbes 30 Under 30, Vanity Fair's Americas Tweetheart, SAP Hacker of the Year\", u'friends_count': 4592, u'location': u'San Jose, CA', u'profile_link_color': u'8A9849', u'profile_image_url': u'http://pbs.twimg.com/profile_images/616035815659933696/aQwat6Y0_normal.png', u'following': False, u'geo_enabled': True, u'profile_banner_url': u'https://pbs.twimg.com/profile_banners/17333183/1428953876', u'profile_background_image_url': u'http://pbs.twimg.com/profile_background_images/607325569/pmeflv53buwvnriryijz.jpeg', u'screen_name': u'sarahaustin', u'lang': u'en', u'profile_background_tile': False, u'favourites_count': 1957, u'name': u'Sarah Austin', u'notifications': False, u'url': u'http://t.co/lYVZkj4NCi', u'created_at': u'Wed Nov 12 05:53:53 +0000 2008', u'contributors_enabled': False, u'time_zone': u'Alaska', u'protected': False, u'default_profile': False, u'is_translator': False}, u'geo': None, u'in_reply_to_user_id_str': None, u'lang': u'en', u'created_at': u'Fri Dec 11 00:00:19 +0000 2015', u'in_reply_to_status_id_str': None, u'place': {u'full_name': u'San Jose, CA', u'url': u'https://api.twitter.com/1.1/geo/id/7d62cffe6f98f349.json', u'country': u'United States', u'place_type': u'city', u'bounding_box': {u'type': u'Polygon', u'coordinates': [[[-122.035311, 37.193164], [-121.71215, 37.193164], [-121.71215, 37.469154], [-122.035311, 37.469154]]]}, u'contained_within': [], u'country_code': u'US', u'attributes': {}, u'id': u'7d62cffe6f98f349', u'name': u'San Jose'}, u'metadata': {u'iso_language_code': u'en', u'result_type': u'recent'}}\n",
      "{u'contributors': None, u'truncated': False, u'text': u'RT @BigdataProfiles: Atlanta Hawks Select RetailNext For In-Store Retail Analytics Solutions https://t.co/OtV99dWZii', u'is_quote_status': False, u'in_reply_to_status_id': None, u'id': 675102767069978625, u'favorite_count': 0, u'source': u'<a href=\"http://twitter.com\" rel=\"nofollow\">Twitter Web Client</a>', u'retweeted': False, u'coordinates': None, u'entities': {u'symbols': [], u'user_mentions': [{u'id': 1949391637, u'indices': [3, 19], u'id_str': u'1949391637', u'screen_name': u'BigdataProfiles', u'name': u'Bigdata|VBProfiles'}], u'hashtags': [], u'urls': [{u'url': u'https://t.co/OtV99dWZii', u'indices': [93, 116], u'expanded_url': u'http://dlvr.it/CzBPcL', u'display_url': u'dlvr.it/CzBPcL'}]}, u'in_reply_to_screen_name': None, u'in_reply_to_user_id': None, u'retweet_count': 1, u'id_str': u'675102767069978625', u'favorited': False, u'retweeted_status': {u'contributors': None, u'truncated': False, u'text': u'Atlanta Hawks Select RetailNext For In-Store Retail Analytics Solutions https://t.co/OtV99dWZii', u'is_quote_status': False, u'in_reply_to_status_id': None, u'id': 675044072474701827, u'favorite_count': 2, u'source': u'<a href=\"http://dlvr.it\" rel=\"nofollow\">dlvr.it</a>', u'retweeted': False, u'coordinates': None, u'entities': {u'symbols': [], u'user_mentions': [], u'hashtags': [], u'urls': [{u'url': u'https://t.co/OtV99dWZii', u'indices': [72, 95], u'expanded_url': u'http://dlvr.it/CzBPcL', u'display_url': u'dlvr.it/CzBPcL'}]}, u'in_reply_to_screen_name': None, u'in_reply_to_user_id': None, u'retweet_count': 1, u'id_str': u'675044072474701827', u'favorited': False, u'user': {u'follow_request_sent': False, u'has_extended_profile': False, u'profile_use_background_image': True, u'default_profile_image': False, u'id': 1949391637, u'profile_background_image_url_https': u'https://abs.twimg.com/images/themes/theme1/bg.png', u'verified': False, u'profile_text_color': u'333333', u'profile_image_url_https': u'https://pbs.twimg.com/profile_images/634844527476342784/s3bKYYRS_normal.png', u'profile_sidebar_fill_color': u'DDEEF6', u'entities': {u'url': {u'urls': [{u'url': u'http://t.co/rGccPjD2rH', u'indices': [0, 22], u'expanded_url': u'http://bit.ly/1Lfb9U7', u'display_url': u'bit.ly/1Lfb9U7'}]}, u'description': {u'urls': [{u'url': u'http://t.co/xyGlLPQKgW', u'indices': [110, 132], u'expanded_url': u'http://www.vbprofiles.com', u'display_url': u'vbprofiles.com'}]}}, u'followers_count': 9807, u'profile_sidebar_border_color': u'C0DEED', u'id_str': u'1949391637', u'profile_background_color': u'C0DEED', u'listed_count': 369, u'is_translation_enabled': False, u'utc_offset': -28800, u'statuses_count': 7773, u'description': u'Bigdata_Profiles surfaces news about #BigData funding, people, companies, investors, influencers (provided by http://t.co/xyGlLPQKgW)', u'friends_count': 8849, u'location': u'San Francisco', u'profile_link_color': u'0084B4', u'profile_image_url': u'http://pbs.twimg.com/profile_images/634844527476342784/s3bKYYRS_normal.png', u'following': False, u'geo_enabled': False, u'profile_banner_url': u'https://pbs.twimg.com/profile_banners/1949391637/1442363962', u'profile_background_image_url': u'http://abs.twimg.com/images/themes/theme1/bg.png', u'screen_name': u'BigdataProfiles', u'lang': u'en', u'profile_background_tile': False, u'favourites_count': 3702, u'name': u'Bigdata|VBProfiles', u'notifications': False, u'url': u'http://t.co/rGccPjD2rH', u'created_at': u'Wed Oct 09 14:15:22 +0000 2013', u'contributors_enabled': False, u'time_zone': u'Pacific Time (US & Canada)', u'protected': False, u'default_profile': True, u'is_translator': False}, u'geo': None, u'in_reply_to_user_id_str': None, u'possibly_sensitive': False, u'lang': u'en', u'created_at': u'Thu Dec 10 20:07:03 +0000 2015', u'in_reply_to_status_id_str': None, u'place': None, u'metadata': {u'iso_language_code': u'en', u'result_type': u'recent'}}, u'user': {u'follow_request_sent': False, u'has_extended_profile': False, u'profile_use_background_image': True, u'default_profile_image': False, u'id': 203263122, u'profile_background_image_url_https': u'https://pbs.twimg.com/profile_background_images/792712460/c4ab0ea280d6a514085872efc7eb7ce9.jpeg', u'verified': False, u'profile_text_color': u'333333', u'profile_image_url_https': u'https://pbs.twimg.com/profile_images/3371626819/ba3a6654983314b01f895aab632e483f_normal.png', u'profile_sidebar_fill_color': u'C0DFEC', u'entities': {u'url': {u'urls': [{u'url': u'http://t.co/VGbD0FjioB', u'indices': [0, 22], u'expanded_url': u'http://www.insideanalysis.com', u'display_url': u'insideanalysis.com'}]}, u'description': {u'urls': []}}, u'followers_count': 2677, u'profile_sidebar_border_color': u'FFFFFF', u'id_str': u'203263122', u'profile_background_color': u'022330', u'listed_count': 107, u'is_translation_enabled': False, u'utc_offset': -36000, u'statuses_count': 4088, u'description': u'Web-based multimedia to deliver vendor-neutral education that is designed to reveal the essential characteristics of information technologies.', u'friends_count': 2515, u'location': u'Austin, TX', u'profile_link_color': u'0084B4', u'profile_image_url': u'http://pbs.twimg.com/profile_images/3371626819/ba3a6654983314b01f895aab632e483f_normal.png', u'following': False, u'geo_enabled': False, u'profile_background_image_url': u'http://pbs.twimg.com/profile_background_images/792712460/c4ab0ea280d6a514085872efc7eb7ce9.jpeg', u'screen_name': u'Inside_BigData', u'lang': u'en', u'profile_background_tile': False, u'favourites_count': 111, u'name': u'Inside Analysis', u'notifications': False, u'url': u'http://t.co/VGbD0FjioB', u'created_at': u'Fri Oct 15 22:10:19 +0000 2010', u'contributors_enabled': False, u'time_zone': u'Hawaii', u'protected': False, u'default_profile': False, u'is_translator': False}, u'geo': None, u'in_reply_to_user_id_str': None, u'possibly_sensitive': False, u'lang': u'en', u'created_at': u'Fri Dec 11 00:00:17 +0000 2015', u'in_reply_to_status_id_str': None, u'place': None, u'metadata': {u'iso_language_code': u'en', u'result_type': u'recent'}}\n",
      "{u'contributors': None, u'truncated': False, u'text': u\"RT @ActiveDEMAND: Are your campaigns effective? Know what's working and what isn't with Analytics. #analytics   https://t.co/7fPVx2cSyD\", u'is_quote_status': False, u'in_reply_to_status_id': None, u'id': 675102739731513344, u'favorite_count': 0, u'source': u'<a href=\"http://twitter.com\" rel=\"nofollow\">Twitter Web Client</a>', u'retweeted': False, u'coordinates': None, u'entities': {u'symbols': [], u'user_mentions': [{u'id': 863255394, u'indices': [3, 16], u'id_str': u'863255394', u'screen_name': u'ActiveDEMAND', u'name': u'ActiveDEMAND'}], u'hashtags': [{u'indices': [99, 109], u'text': u'analytics'}], u'urls': [{u'url': u'https://t.co/7fPVx2cSyD', u'indices': [112, 135], u'expanded_url': u'http://1jp.cc/s/KrL28', u'display_url': u'1jp.cc/s/KrL28'}]}, u'in_reply_to_screen_name': None, u'in_reply_to_user_id': None, u'retweet_count': 87, u'id_str': u'675102739731513344', u'favorited': False, u'retweeted_status': {u'contributors': None, u'truncated': False, u'text': u\"Are your campaigns effective? Know what's working and what isn't with Analytics. #analytics   https://t.co/7fPVx2cSyD\", u'is_quote_status': False, u'in_reply_to_status_id': None, u'id': 675057403952545793, u'favorite_count': 94, u'source': u'<a href=\"http://www.activedemand.com\" rel=\"nofollow\">ActiveDEMAND</a>', u'retweeted': False, u'coordinates': None, u'entities': {u'symbols': [], u'user_mentions': [], u'hashtags': [{u'indices': [81, 91], u'text': u'analytics'}], u'urls': [{u'url': u'https://t.co/7fPVx2cSyD', u'indices': [94, 117], u'expanded_url': u'http://1jp.cc/s/KrL28', u'display_url': u'1jp.cc/s/KrL28'}]}, u'in_reply_to_screen_name': None, u'in_reply_to_user_id': None, u'retweet_count': 87, u'id_str': u'675057403952545793', u'favorited': False, u'user': {u'follow_request_sent': False, u'has_extended_profile': False, u'profile_use_background_image': True, u'default_profile_image': False, u'id': 863255394, u'profile_background_image_url_https': u'https://pbs.twimg.com/profile_background_images/656863350001790976/ldswESuL.jpg', u'verified': False, u'profile_text_color': u'333333', u'profile_image_url_https': u'https://pbs.twimg.com/profile_images/611963799038357504/5JMrwrT0_normal.png', u'profile_sidebar_fill_color': u'DDEEF6', u'entities': {u'url': {u'urls': [{u'url': u'https://t.co/GS8qtxIsNq', u'indices': [0, 23], u'expanded_url': u'https://www.ActiveDEMAND.com', u'display_url': u'ActiveDEMAND.com'}]}, u'description': {u'urls': []}}, u'followers_count': 19636, u'profile_sidebar_border_color': u'FFFFFF', u'id_str': u'863255394', u'profile_background_color': u'FFFFFF', u'listed_count': 60, u'is_translation_enabled': False, u'utc_offset': -21600, u'statuses_count': 3248, u'description': u'Get robust analytics, email marketing, event marketing, webinars, call tracking, & more with ActiveDEMAND\\u2019s powerful, easy-to-use marketing tool for businesses.', u'friends_count': 2189, u'location': u'', u'profile_link_color': u'FF5900', u'profile_image_url': u'http://pbs.twimg.com/profile_images/611963799038357504/5JMrwrT0_normal.png', u'following': False, u'geo_enabled': False, u'profile_banner_url': u'https://pbs.twimg.com/profile_banners/863255394/1445443538', u'profile_background_image_url': u'http://pbs.twimg.com/profile_background_images/656863350001790976/ldswESuL.jpg', u'screen_name': u'ActiveDEMAND', u'lang': u'en', u'profile_background_tile': False, u'favourites_count': 62, u'name': u'ActiveDEMAND', u'notifications': False, u'url': u'https://t.co/GS8qtxIsNq', u'created_at': u'Fri Oct 05 15:49:52 +0000 2012', u'contributors_enabled': False, u'time_zone': u'Central Time (US & Canada)', u'protected': False, u'default_profile': False, u'is_translator': False}, u'geo': None, u'in_reply_to_user_id_str': None, u'possibly_sensitive': False, u'lang': u'en', u'created_at': u'Thu Dec 10 21:00:01 +0000 2015', u'in_reply_to_status_id_str': None, u'place': None, u'metadata': {u'iso_language_code': u'en', u'result_type': u'recent'}}, u'user': {u'follow_request_sent': False, u'has_extended_profile': False, u'profile_use_background_image': True, u'default_profile_image': False, u'id': 203263122, u'profile_background_image_url_https': u'https://pbs.twimg.com/profile_background_images/792712460/c4ab0ea280d6a514085872efc7eb7ce9.jpeg', u'verified': False, u'profile_text_color': u'333333', u'profile_image_url_https': u'https://pbs.twimg.com/profile_images/3371626819/ba3a6654983314b01f895aab632e483f_normal.png', u'profile_sidebar_fill_color': u'C0DFEC', u'entities': {u'url': {u'urls': [{u'url': u'http://t.co/VGbD0FjioB', u'indices': [0, 22], u'expanded_url': u'http://www.insideanalysis.com', u'display_url': u'insideanalysis.com'}]}, u'description': {u'urls': []}}, u'followers_count': 2677, u'profile_sidebar_border_color': u'FFFFFF', u'id_str': u'203263122', u'profile_background_color': u'022330', u'listed_count': 107, u'is_translation_enabled': False, u'utc_offset': -36000, u'statuses_count': 4088, u'description': u'Web-based multimedia to deliver vendor-neutral education that is designed to reveal the essential characteristics of information technologies.', u'friends_count': 2515, u'location': u'Austin, TX', u'profile_link_color': u'0084B4', u'profile_image_url': u'http://pbs.twimg.com/profile_images/3371626819/ba3a6654983314b01f895aab632e483f_normal.png', u'following': False, u'geo_enabled': False, u'profile_background_image_url': u'http://pbs.twimg.com/profile_background_images/792712460/c4ab0ea280d6a514085872efc7eb7ce9.jpeg', u'screen_name': u'Inside_BigData', u'lang': u'en', u'profile_background_tile': False, u'favourites_count': 111, u'name': u'Inside Analysis', u'notifications': False, u'url': u'http://t.co/VGbD0FjioB', u'created_at': u'Fri Oct 15 22:10:19 +0000 2010', u'contributors_enabled': False, u'time_zone': u'Hawaii', u'protected': False, u'default_profile': False, u'is_translator': False}, u'geo': None, u'in_reply_to_user_id_str': None, u'possibly_sensitive': False, u'lang': u'en', u'created_at': u'Fri Dec 11 00:00:10 +0000 2015', u'in_reply_to_status_id_str': None, u'place': None, u'metadata': {u'iso_language_code': u'en', u'result_type': u'recent'}}\n",
      "{u'contributors': None, u'truncated': False, u'text': u'@geofeedia #BigData: 517 Cos, $24.9B funding, 10k+ people. Stay on top of it https://t.co/WGAJCgyztD https://t.co/4XJ9YBVhQK', u'is_quote_status': False, u'in_reply_to_status_id': None, u'id': 675102736090796033, u'favorite_count': 0, u'source': u'<a href=\"http://bufferapp.com\" rel=\"nofollow\">Buffer</a>', u'retweeted': False, u'coordinates': None, u'entities': {u'symbols': [], u'user_mentions': [{u'id': 538418266, u'indices': [0, 10], u'id_str': u'538418266', u'screen_name': u'geofeedia', u'name': u'Geofeedia'}], u'hashtags': [{u'indices': [11, 19], u'text': u'BigData'}], u'urls': [{u'url': u'https://t.co/4XJ9YBVhQK', u'indices': [101, 124], u'expanded_url': u'http://bit.ly/1W7Aymy', u'display_url': u'bit.ly/1W7Aymy'}], u'media': [{u'source_user_id': 3518589553, u'source_status_id_str': u'657368786694082561', u'expanded_url': u'http://twitter.com/FinTechProfiles/status/657368786694082561/photo/1', u'display_url': u'pic.twitter.com/WGAJCgyztD', u'url': u'https://t.co/WGAJCgyztD', u'media_url_https': u'https://pbs.twimg.com/media/CR9xbZyU8AAwmdj.png', u'source_user_id_str': u'3518589553', u'source_status_id': 657368786694082561, u'id_str': u'657368786211762176', u'sizes': {u'small': {u'h': 283, u'resize': u'fit', u'w': 340}, u'large': {u'h': 605, u'resize': u'fit', u'w': 726}, u'medium': {u'h': 500, u'resize': u'fit', u'w': 600}, u'thumb': {u'h': 150, u'resize': u'crop', u'w': 150}}, u'indices': [77, 100], u'type': u'photo', u'id': 657368786211762176, u'media_url': u'http://pbs.twimg.com/media/CR9xbZyU8AAwmdj.png'}]}, u'in_reply_to_screen_name': u'geofeedia', u'in_reply_to_user_id': 538418266, u'retweet_count': 0, u'id_str': u'675102736090796033', u'favorited': False, u'user': {u'follow_request_sent': False, u'has_extended_profile': False, u'profile_use_background_image': True, u'default_profile_image': False, u'id': 1949391637, u'profile_background_image_url_https': u'https://abs.twimg.com/images/themes/theme1/bg.png', u'verified': False, u'profile_text_color': u'333333', u'profile_image_url_https': u'https://pbs.twimg.com/profile_images/634844527476342784/s3bKYYRS_normal.png', u'profile_sidebar_fill_color': u'DDEEF6', u'entities': {u'url': {u'urls': [{u'url': u'http://t.co/rGccPjD2rH', u'indices': [0, 22], u'expanded_url': u'http://bit.ly/1Lfb9U7', u'display_url': u'bit.ly/1Lfb9U7'}]}, u'description': {u'urls': [{u'url': u'http://t.co/xyGlLPQKgW', u'indices': [110, 132], u'expanded_url': u'http://www.vbprofiles.com', u'display_url': u'vbprofiles.com'}]}}, u'followers_count': 9807, u'profile_sidebar_border_color': u'C0DEED', u'id_str': u'1949391637', u'profile_background_color': u'C0DEED', u'listed_count': 369, u'is_translation_enabled': False, u'utc_offset': -28800, u'statuses_count': 7773, u'description': u'Bigdata_Profiles surfaces news about #BigData funding, people, companies, investors, influencers (provided by http://t.co/xyGlLPQKgW)', u'friends_count': 8849, u'location': u'San Francisco', u'profile_link_color': u'0084B4', u'profile_image_url': u'http://pbs.twimg.com/profile_images/634844527476342784/s3bKYYRS_normal.png', u'following': False, u'geo_enabled': False, u'profile_banner_url': u'https://pbs.twimg.com/profile_banners/1949391637/1442363962', u'profile_background_image_url': u'http://abs.twimg.com/images/themes/theme1/bg.png', u'screen_name': u'BigdataProfiles', u'lang': u'en', u'profile_background_tile': False, u'favourites_count': 3702, u'name': u'Bigdata|VBProfiles', u'notifications': False, u'url': u'http://t.co/rGccPjD2rH', u'created_at': u'Wed Oct 09 14:15:22 +0000 2013', u'contributors_enabled': False, u'time_zone': u'Pacific Time (US & Canada)', u'protected': False, u'default_profile': True, u'is_translator': False}, u'geo': None, u'in_reply_to_user_id_str': u'538418266', u'possibly_sensitive': False, u'lang': u'en', u'created_at': u'Fri Dec 11 00:00:09 +0000 2015', u'in_reply_to_status_id_str': None, u'place': None, u'metadata': {u'iso_language_code': u'en', u'result_type': u'recent'}}\n",
      "{u'contributors': None, u'truncated': False, u'text': u'Top Tweets from #BigData Experts https://t.co/Y9f9GQmUdj', u'is_quote_status': False, u'in_reply_to_status_id': None, u'id': 675102735713361924, u'favorite_count': 0, u'source': u'<a href=\"http://www.tweetedtimes.com\" rel=\"nofollow\">The Tweeted Times</a>', u'retweeted': False, u'coordinates': None, u'entities': {u'symbols': [], u'user_mentions': [], u'hashtags': [{u'indices': [16, 24], u'text': u'BigData'}], u'urls': [{u'url': u'https://t.co/Y9f9GQmUdj', u'indices': [33, 56], u'expanded_url': u'http://tweetedtimes.com/v/1859?s=rgp', u'display_url': u'tweetedtimes.com/v/1859?s=rgp'}]}, u'in_reply_to_screen_name': None, u'in_reply_to_user_id': None, u'retweet_count': 0, u'id_str': u'675102735713361924', u'favorited': False, u'user': {u'follow_request_sent': False, u'has_extended_profile': True, u'profile_use_background_image': True, u'default_profile_image': False, u'id': 15150700, u'profile_background_image_url_https': u'https://abs.twimg.com/images/themes/theme14/bg.gif', u'verified': False, u'profile_text_color': u'333333', u'profile_image_url_https': u'https://pbs.twimg.com/profile_images/378800000657323963/7a2c02c57189cf6a7e73133150dde1f7_normal.jpeg', u'profile_sidebar_fill_color': u'EFEFEF', u'entities': {u'url': {u'urls': [{u'url': u'http://t.co/FFACN2w5Ul', u'indices': [0, 22], u'expanded_url': u'http://www.mikepluta.com', u'display_url': u'mikepluta.com'}]}, u'description': {u'urls': [{u'url': u'http://t.co/8LvxHDLe8o', u'indices': [99, 121], u'expanded_url': u'http://www.aabdp.org', u'display_url': u'aabdp.org'}]}}, u'followers_count': 1515, u'profile_sidebar_border_color': u'EEEEEE', u'id_str': u'15150700', u'profile_background_color': u'131516', u'listed_count': 460, u'is_translation_enabled': False, u'utc_offset': -21600, u'statuses_count': 19801, u'description': u'Analytics Platform Architect at @DSTLeadership - #BigData, #MachineLearning, #PredictiveAnalytics. http://t.co/8LvxHDLe8o Advisory Board, #BBBT member', u'friends_count': 1223, u'location': u'Kansas City, MO', u'profile_link_color': u'994F00', u'profile_image_url': u'http://pbs.twimg.com/profile_images/378800000657323963/7a2c02c57189cf6a7e73133150dde1f7_normal.jpeg', u'following': False, u'geo_enabled': True, u'profile_banner_url': u'https://pbs.twimg.com/profile_banners/15150700/1397755457', u'profile_background_image_url': u'http://abs.twimg.com/images/themes/theme14/bg.gif', u'screen_name': u'mikepluta', u'lang': u'en', u'profile_background_tile': True, u'favourites_count': 799, u'name': u'Mike Pluta', u'notifications': False, u'url': u'http://t.co/FFACN2w5Ul', u'created_at': u'Tue Jun 17 21:31:18 +0000 2008', u'contributors_enabled': False, u'time_zone': u'Central Time (US & Canada)', u'protected': False, u'default_profile': False, u'is_translator': False}, u'geo': None, u'in_reply_to_user_id_str': None, u'possibly_sensitive': False, u'lang': u'en', u'created_at': u'Fri Dec 11 00:00:09 +0000 2015', u'in_reply_to_status_id_str': None, u'place': None, u'metadata': {u'iso_language_code': u'en', u'result_type': u'recent'}}\n",
      "{u'contributors': None, u'truncated': False, u'text': u'RT @StephaneSuisse: Disease surveillance, new method to track the flu via Internet search data, more promising than #GFT https://t.co/yDZTF\\u2026', u'is_quote_status': False, u'in_reply_to_status_id': None, u'id': 675102723419803648, u'favorite_count': 0, u'source': u'<a href=\"http://twitter.com\" rel=\"nofollow\">Twitter Web Client</a>', u'retweeted': False, u'coordinates': None, u'entities': {u'symbols': [], u'user_mentions': [{u'id': 50366979, u'indices': [3, 18], u'id_str': u'50366979', u'screen_name': u'StephaneSuisse', u'name': u'Stephane Suisse'}], u'hashtags': [{u'indices': [116, 120], u'text': u'GFT'}, {u'indices': [139, 140], u'text': u'bigdata'}], u'urls': [{u'url': u'https://t.co/yDZTFRvJvJ', u'indices': [121, 140], u'expanded_url': u'http://news.harvard.edu/gazette/story/2015/11/on-top-of-the-flu/', u'display_url': u'news.harvard.edu/gazette/story/\\u2026'}]}, u'in_reply_to_screen_name': None, u'in_reply_to_user_id': None, u'retweet_count': 1, u'id_str': u'675102723419803648', u'favorited': False, u'retweeted_status': {u'contributors': None, u'truncated': False, u'text': u'Disease surveillance, new method to track the flu via Internet search data, more promising than #GFT https://t.co/yDZTFRvJvJ #bigdata', u'is_quote_status': False, u'in_reply_to_status_id': None, u'id': 668731336249634816, u'favorite_count': 0, u'source': u'<a href=\"http://twitter.com\" rel=\"nofollow\">Twitter Web Client</a>', u'retweeted': False, u'coordinates': None, u'entities': {u'symbols': [], u'user_mentions': [], u'hashtags': [{u'indices': [96, 100], u'text': u'GFT'}, {u'indices': [125, 133], u'text': u'bigdata'}], u'urls': [{u'url': u'https://t.co/yDZTFRvJvJ', u'indices': [101, 124], u'expanded_url': u'http://news.harvard.edu/gazette/story/2015/11/on-top-of-the-flu/', u'display_url': u'news.harvard.edu/gazette/story/\\u2026'}]}, u'in_reply_to_screen_name': None, u'in_reply_to_user_id': None, u'retweet_count': 1, u'id_str': u'668731336249634816', u'favorited': False, u'user': {u'follow_request_sent': False, u'has_extended_profile': False, u'profile_use_background_image': True, u'default_profile_image': False, u'id': 50366979, u'profile_background_image_url_https': u'https://pbs.twimg.com/profile_background_images/559928425/3.jpg', u'verified': False, u'profile_text_color': u'3E4415', u'profile_image_url_https': u'https://pbs.twimg.com/profile_images/2555456217/zvpbn8hd8egnk1k6bloz_normal.jpeg', u'profile_sidebar_fill_color': u'99CC33', u'entities': {u'url': {u'urls': [{u'url': u'http://t.co/AxDxZ3aaxb', u'indices': [0, 22], u'expanded_url': u'http://linkedin.com/in/stephanesuisse', u'display_url': u'linkedin.com/in/stephanesui\\u2026'}]}, u'description': {u'urls': []}}, u'followers_count': 1429, u'profile_sidebar_border_color': u'829D5E', u'id_str': u'50366979', u'profile_background_color': u'000000', u'listed_count': 254, u'is_translation_enabled': False, u'utc_offset': 3600, u'statuses_count': 2872, u'description': u'Social Media Strategist, Data Analyst & Dataviz Enthusiast with strong interests in #health #dataviz #socialmedia #entrepreneurship #art', u'friends_count': 1020, u'location': u'Lyon - France', u'profile_link_color': u'3B94D9', u'profile_image_url': u'http://pbs.twimg.com/profile_images/2555456217/zvpbn8hd8egnk1k6bloz_normal.jpeg', u'following': False, u'geo_enabled': True, u'profile_banner_url': u'https://pbs.twimg.com/profile_banners/50366979/1446656441', u'profile_background_image_url': u'http://pbs.twimg.com/profile_background_images/559928425/3.jpg', u'screen_name': u'StephaneSuisse', u'lang': u'en', u'profile_background_tile': False, u'favourites_count': 1193, u'name': u'Stephane Suisse', u'notifications': False, u'url': u'http://t.co/AxDxZ3aaxb', u'created_at': u'Wed Jun 24 17:13:12 +0000 2009', u'contributors_enabled': False, u'time_zone': u'Paris', u'protected': False, u'default_profile': False, u'is_translator': False}, u'geo': None, u'in_reply_to_user_id_str': None, u'possibly_sensitive': False, u'lang': u'en', u'created_at': u'Mon Nov 23 10:02:29 +0000 2015', u'in_reply_to_status_id_str': None, u'place': {u'full_name': u'France', u'url': u'https://api.twitter.com/1.1/geo/id/f3bfc7dcc928977f.json', u'country': u'France', u'place_type': u'country', u'bounding_box': {u'type': u'Polygon', u'coordinates': [[[-5.1415925, 41.3646279], [9.5598311, 41.3646279], [9.5598311, 51.0887708], [-5.1415925, 51.0887708]]]}, u'contained_within': [], u'country_code': u'FR', u'attributes': {}, u'id': u'f3bfc7dcc928977f', u'name': u'France'}, u'metadata': {u'iso_language_code': u'en', u'result_type': u'recent'}}, u'user': {u'follow_request_sent': False, u'has_extended_profile': False, u'profile_use_background_image': True, u'default_profile_image': False, u'id': 75616478, u'profile_background_image_url_https': u'https://abs.twimg.com/images/themes/theme1/bg.png', u'verified': False, u'profile_text_color': u'333333', u'profile_image_url_https': u'https://pbs.twimg.com/profile_images/512358835474821120/4r4Vv4Fk_normal.jpeg', u'profile_sidebar_fill_color': u'DDEEF6', u'entities': {u'url': {u'urls': [{u'url': u'http://t.co/a5hULHDFxk', u'indices': [0, 22], u'expanded_url': u'http://www.SeanYoungPhD.com', u'display_url': u'SeanYoungPhD.com'}]}, u'description': {u'urls': [{u'url': u'http://t.co/RaYplk2yKP', u'indices': [135, 157], u'expanded_url': u'http://digitalbehavior.ucla.edu', u'display_url': u'digitalbehavior.ucla.edu'}]}}, u'followers_count': 1808, u'profile_sidebar_border_color': u'C0DEED', u'id_str': u'75616478', u'profile_background_color': u'C0DEED', u'listed_count': 111, u'is_translation_enabled': False, u'utc_offset': -28800, u'statuses_count': 1868, u'description': u'I help people with life, health, and business by teaching about human behavior. | Executive Director, UCLA Center for Digital Behavior http://t.co/RaYplk2yKP', u'friends_count': 1903, u'location': u'Los Angeles', u'profile_link_color': u'0084B4', u'profile_image_url': u'http://pbs.twimg.com/profile_images/512358835474821120/4r4Vv4Fk_normal.jpeg', u'following': False, u'geo_enabled': False, u'profile_banner_url': u'https://pbs.twimg.com/profile_banners/75616478/1411022762', u'profile_background_image_url': u'http://abs.twimg.com/images/themes/theme1/bg.png', u'screen_name': u'SeanYoungPhD', u'lang': u'en', u'profile_background_tile': False, u'favourites_count': 1080, u'name': u'Sean Young, PhD', u'notifications': False, u'url': u'http://t.co/a5hULHDFxk', u'created_at': u'Sat Sep 19 18:57:16 +0000 2009', u'contributors_enabled': False, u'time_zone': u'Pacific Time (US & Canada)', u'protected': False, u'default_profile': True, u'is_translator': False}, u'geo': None, u'in_reply_to_user_id_str': None, u'possibly_sensitive': False, u'lang': u'en', u'created_at': u'Fri Dec 11 00:00:06 +0000 2015', u'in_reply_to_status_id_str': None, u'place': None, u'metadata': {u'iso_language_code': u'en', u'result_type': u'recent'}}\n",
      "{u'contributors': None, u'truncated': False, u'text': u'RT @Skrobola: Choosing the Right Vendor for your Big Data Needs - The Predictive Analytics Times https://t.co/5SMMy0TIc1', u'is_quote_status': False, u'in_reply_to_status_id': None, u'id': 675102716176240641, u'favorite_count': 0, u'source': u'<a href=\"http://twitter.com\" rel=\"nofollow\">Twitter Web Client</a>', u'retweeted': False, u'coordinates': None, u'entities': {u'symbols': [], u'user_mentions': [{u'id': 59513832, u'indices': [3, 12], u'id_str': u'59513832', u'screen_name': u'Skrobola', u'name': u'Mark Skrobola'}], u'hashtags': [], u'urls': [{u'url': u'https://t.co/5SMMy0TIc1', u'indices': [97, 120], u'expanded_url': u'http://ow.ly/38JPgx', u'display_url': u'ow.ly/38JPgx'}]}, u'in_reply_to_screen_name': None, u'in_reply_to_user_id': None, u'retweet_count': 1, u'id_str': u'675102716176240641', u'favorited': False, u'retweeted_status': {u'contributors': None, u'truncated': False, u'text': u'Choosing the Right Vendor for your Big Data Needs - The Predictive Analytics Times https://t.co/5SMMy0TIc1', u'is_quote_status': False, u'in_reply_to_status_id': None, u'id': 675073257016598528, u'favorite_count': 1, u'source': u'<a href=\"http://www.hootsuite.com\" rel=\"nofollow\">Hootsuite</a>', u'retweeted': False, u'coordinates': None, u'entities': {u'symbols': [], u'user_mentions': [], u'hashtags': [], u'urls': [{u'url': u'https://t.co/5SMMy0TIc1', u'indices': [83, 106], u'expanded_url': u'http://ow.ly/38JPgx', u'display_url': u'ow.ly/38JPgx'}]}, u'in_reply_to_screen_name': None, u'in_reply_to_user_id': None, u'retweet_count': 1, u'id_str': u'675073257016598528', u'favorited': False, u'user': {u'follow_request_sent': False, u'has_extended_profile': False, u'profile_use_background_image': True, u'default_profile_image': False, u'id': 59513832, u'profile_background_image_url_https': u'https://abs.twimg.com/images/themes/theme2/bg.gif', u'verified': False, u'profile_text_color': u'663B12', u'profile_image_url_https': u'https://pbs.twimg.com/profile_images/1532115290/Me150_normal.png', u'profile_sidebar_fill_color': u'DAECF4', u'entities': {u'url': {u'urls': [{u'url': u'http://t.co/cb4krF1UVp', u'indices': [0, 22], u'expanded_url': u'http://www.linkedin.com/in/markskrobola', u'display_url': u'linkedin.com/in/markskrobola'}]}, u'description': {u'urls': []}}, u'followers_count': 949, u'profile_sidebar_border_color': u'C6E2EE', u'id_str': u'59513832', u'profile_background_color': u'C6E2EE', u'listed_count': 48, u'is_translation_enabled': False, u'utc_offset': -18000, u'statuses_count': 2975, u'description': u'IT Professional specializing in #ERP,  #ITIL Service Operations, #WebDev,  Data Analytics  ...', u'friends_count': 785, u'location': u'New Jersey, USA', u'profile_link_color': u'1F98C7', u'profile_image_url': u'http://pbs.twimg.com/profile_images/1532115290/Me150_normal.png', u'following': False, u'geo_enabled': True, u'profile_banner_url': u'https://pbs.twimg.com/profile_banners/59513832/1398455484', u'profile_background_image_url': u'http://abs.twimg.com/images/themes/theme2/bg.gif', u'screen_name': u'Skrobola', u'lang': u'en', u'profile_background_tile': False, u'favourites_count': 20, u'name': u'Mark Skrobola', u'notifications': False, u'url': u'http://t.co/cb4krF1UVp', u'created_at': u'Thu Jul 23 16:31:00 +0000 2009', u'contributors_enabled': False, u'time_zone': u'Eastern Time (US & Canada)', u'protected': False, u'default_profile': False, u'is_translator': False}, u'geo': None, u'in_reply_to_user_id_str': None, u'possibly_sensitive': False, u'lang': u'en', u'created_at': u'Thu Dec 10 22:03:01 +0000 2015', u'in_reply_to_status_id_str': None, u'place': None, u'metadata': {u'iso_language_code': u'en', u'result_type': u'recent'}}, u'user': {u'follow_request_sent': False, u'has_extended_profile': False, u'profile_use_background_image': True, u'default_profile_image': False, u'id': 203263122, u'profile_background_image_url_https': u'https://pbs.twimg.com/profile_background_images/792712460/c4ab0ea280d6a514085872efc7eb7ce9.jpeg', u'verified': False, u'profile_text_color': u'333333', u'profile_image_url_https': u'https://pbs.twimg.com/profile_images/3371626819/ba3a6654983314b01f895aab632e483f_normal.png', u'profile_sidebar_fill_color': u'C0DFEC', u'entities': {u'url': {u'urls': [{u'url': u'http://t.co/VGbD0FjioB', u'indices': [0, 22], u'expanded_url': u'http://www.insideanalysis.com', u'display_url': u'insideanalysis.com'}]}, u'description': {u'urls': []}}, u'followers_count': 2677, u'profile_sidebar_border_color': u'FFFFFF', u'id_str': u'203263122', u'profile_background_color': u'022330', u'listed_count': 107, u'is_translation_enabled': False, u'utc_offset': -36000, u'statuses_count': 4088, u'description': u'Web-based multimedia to deliver vendor-neutral education that is designed to reveal the essential characteristics of information technologies.', u'friends_count': 2515, u'location': u'Austin, TX', u'profile_link_color': u'0084B4', u'profile_image_url': u'http://pbs.twimg.com/profile_images/3371626819/ba3a6654983314b01f895aab632e483f_normal.png', u'following': False, u'geo_enabled': False, u'profile_background_image_url': u'http://pbs.twimg.com/profile_background_images/792712460/c4ab0ea280d6a514085872efc7eb7ce9.jpeg', u'screen_name': u'Inside_BigData', u'lang': u'en', u'profile_background_tile': False, u'favourites_count': 111, u'name': u'Inside Analysis', u'notifications': False, u'url': u'http://t.co/VGbD0FjioB', u'created_at': u'Fri Oct 15 22:10:19 +0000 2010', u'contributors_enabled': False, u'time_zone': u'Hawaii', u'protected': False, u'default_profile': False, u'is_translator': False}, u'geo': None, u'in_reply_to_user_id_str': None, u'possibly_sensitive': False, u'lang': u'en', u'created_at': u'Fri Dec 11 00:00:04 +0000 2015', u'in_reply_to_status_id_str': None, u'place': None, u'metadata': {u'iso_language_code': u'en', u'result_type': u'recent'}}\n",
      "{u'contributors': None, u'truncated': False, u'text': u'See how @ConservationOrg used #HPE #Vertica + #BigData to raise awareness of wildlife: https://t.co/S56aQ8Y2Jq https://t.co/01lGijcm5S', u'is_quote_status': False, u'in_reply_to_status_id': None, u'id': 675102715849138176, u'favorite_count': 0, u'source': u'<a href=\"http://www.sprinklr.com\" rel=\"nofollow\">Sprinklr</a>', u'retweeted': False, u'coordinates': None, u'entities': {u'symbols': [], u'user_mentions': [{u'id': 19940791, u'indices': [8, 24], u'id_str': u'19940791', u'screen_name': u'ConservationOrg', u'name': u'Conservation Intl'}], u'hashtags': [{u'indices': [30, 34], u'text': u'HPE'}, {u'indices': [35, 43], u'text': u'Vertica'}, {u'indices': [46, 54], u'text': u'BigData'}], u'urls': [{u'url': u'https://t.co/S56aQ8Y2Jq', u'indices': [87, 110], u'expanded_url': u'http://hpe.to/6017BTWE1', u'display_url': u'hpe.to/6017BTWE1'}], u'media': [{u'expanded_url': u'http://twitter.com/HPE_BigData/status/675102715849138176/photo/1', u'display_url': u'pic.twitter.com/01lGijcm5S', u'url': u'https://t.co/01lGijcm5S', u'media_url_https': u'https://pbs.twimg.com/media/CV5yV7bWoAMwWJ6.jpg', u'id_str': u'675102715207393283', u'sizes': {u'small': {u'h': 227, u'resize': u'fit', u'w': 340}, u'large': {u'h': 267, u'resize': u'fit', u'w': 399}, u'medium': {u'h': 267, u'resize': u'fit', u'w': 399}, u'thumb': {u'h': 150, u'resize': u'crop', u'w': 150}}, u'indices': [111, 134], u'type': u'photo', u'id': 675102715207393283, u'media_url': u'http://pbs.twimg.com/media/CV5yV7bWoAMwWJ6.jpg'}]}, u'in_reply_to_screen_name': None, u'in_reply_to_user_id': None, u'retweet_count': 0, u'id_str': u'675102715849138176', u'favorited': False, u'user': {u'follow_request_sent': False, u'has_extended_profile': False, u'profile_use_background_image': False, u'default_profile_image': False, u'id': 166216871, u'profile_background_image_url_https': u'https://pbs.twimg.com/profile_background_images/681165617/bcbb93e7cf457bb108135768075b5c80.jpeg', u'verified': False, u'profile_text_color': u'002F55', u'profile_image_url_https': u'https://pbs.twimg.com/profile_images/659055806210400256/7_V7I-r__normal.png', u'profile_sidebar_fill_color': u'FDFDFD', u'entities': {u'url': {u'urls': [{u'url': u'http://t.co/V8Ip3fK93s', u'indices': [0, 22], u'expanded_url': u'http://www8.hp.com/us/en/software-solutions/big-data-analytics-software.html', u'display_url': u'www8.hp.com/us/en/software\\u2026'}]}, u'description': {u'urls': []}}, u'followers_count': 7238, u'profile_sidebar_border_color': u'FFFFFF', u'id_str': u'166216871', u'profile_background_color': u'FFFFFF', u'listed_count': 517, u'is_translation_enabled': False, u'utc_offset': -28800, u'statuses_count': 6964, u'description': u'HPE #BigData helps your enterprise store, analyze, explore + predict 100% of data. #SeizetheData #Vertica', u'friends_count': 2078, u'location': u'Sunnyvale, CA', u'profile_link_color': u'007DBA', u'profile_image_url': u'http://pbs.twimg.com/profile_images/659055806210400256/7_V7I-r__normal.png', u'following': False, u'geo_enabled': True, u'profile_banner_url': u'https://pbs.twimg.com/profile_banners/166216871/1445966136', u'profile_background_image_url': u'http://pbs.twimg.com/profile_background_images/681165617/bcbb93e7cf457bb108135768075b5c80.jpeg', u'screen_name': u'HPE_BigData', u'lang': u'en', u'profile_background_tile': False, u'favourites_count': 816, u'name': u'HPE Big Data', u'notifications': False, u'url': u'http://t.co/V8Ip3fK93s', u'created_at': u'Tue Jul 13 16:36:38 +0000 2010', u'contributors_enabled': False, u'time_zone': u'Pacific Time (US & Canada)', u'protected': False, u'default_profile': False, u'is_translator': False}, u'geo': None, u'in_reply_to_user_id_str': None, u'possibly_sensitive': False, u'lang': u'en', u'created_at': u'Fri Dec 11 00:00:04 +0000 2015', u'in_reply_to_status_id_str': None, u'place': None, u'metadata': {u'iso_language_code': u'en', u'result_type': u'recent'}}\n",
      "{u'contributors': None, u'truncated': False, u'text': u'\"Data strategy is not about all the things that you can do... it\\u2019s about what you wish to accomplish.\" #bigdata\\nhttps://t.co/yJC8u5eXaj', u'is_quote_status': False, u'in_reply_to_status_id': None, u'id': 675102706005123074, u'favorite_count': 0, u'source': u'<a href=\"http://www.sprinklr.com\" rel=\"nofollow\">Sprinklr</a>', u'retweeted': False, u'coordinates': None, u'entities': {u'symbols': [], u'user_mentions': [], u'hashtags': [{u'indices': [103, 111], u'text': u'bigdata'}], u'urls': [{u'url': u'https://t.co/yJC8u5eXaj', u'indices': [112, 135], u'expanded_url': u'http://2.sas.com/6016BrAcE', u'display_url': u'2.sas.com/6016BrAcE'}]}, u'in_reply_to_screen_name': None, u'in_reply_to_user_id': None, u'retweet_count': 0, u'id_str': u'675102706005123074', u'favorited': False, u'user': {u'follow_request_sent': False, u'has_extended_profile': False, u'profile_use_background_image': True, u'default_profile_image': False, u'id': 126525057, u'profile_background_image_url_https': u'https://pbs.twimg.com/profile_background_images/811501125/9b79d43de5e4bbb360fb19910d9c6894.jpeg', u'verified': False, u'profile_text_color': u'000000', u'profile_image_url_https': u'https://pbs.twimg.com/profile_images/663481722357477376/qKgaXF-B_normal.jpg', u'profile_sidebar_fill_color': u'97C0E6', u'entities': {u'description': {u'urls': [{u'url': u'http://t.co/dfySgrR0Lv', u'indices': [107, 129], u'expanded_url': u'http://www.sas.com/au', u'display_url': u'sas.com/au'}, {u'url': u'http://t.co/0SU56RJwtR', u'indices': [130, 152], u'expanded_url': u'http://www.sas.com/nz', u'display_url': u'sas.com/nz'}]}}, u'followers_count': 1429, u'profile_sidebar_border_color': u'FFFFFF', u'id_str': u'126525057', u'profile_background_color': u'0D2F67', u'listed_count': 171, u'is_translation_enabled': False, u'utc_offset': 39600, u'statuses_count': 2912, u'description': u'Keep up to date with SAS Australia and New Zealand, the leader in business #analytics software & services. http://t.co/dfySgrR0Lv http://t.co/0SU56RJwtR #SASanz', u'friends_count': 1003, u'location': u'Australia and New Zealand', u'profile_link_color': u'007CC3', u'profile_image_url': u'http://pbs.twimg.com/profile_images/663481722357477376/qKgaXF-B_normal.jpg', u'following': False, u'geo_enabled': False, u'profile_banner_url': u'https://pbs.twimg.com/profile_banners/126525057/1398898673', u'profile_background_image_url': u'http://pbs.twimg.com/profile_background_images/811501125/9b79d43de5e4bbb360fb19910d9c6894.jpeg', u'screen_name': u'sas_anz', u'lang': u'en', u'profile_background_tile': False, u'favourites_count': 615, u'name': u'SAS Australia and NZ', u'notifications': False, u'url': None, u'created_at': u'Fri Mar 26 04:15:45 +0000 2010', u'contributors_enabled': False, u'time_zone': u'Sydney', u'protected': False, u'default_profile': False, u'is_translator': False}, u'geo': None, u'in_reply_to_user_id_str': None, u'possibly_sensitive': False, u'lang': u'en', u'created_at': u'Fri Dec 11 00:00:02 +0000 2015', u'in_reply_to_status_id_str': None, u'place': None, u'metadata': {u'iso_language_code': u'en', u'result_type': u'recent'}}\n",
      "{u'contributors': None, u'truncated': False, u'text': u'RT @dinisguarda: The problem and paradox is that governments are so uncoordinated that cannot align any #bigdata at all...  https://t.co/Sh\\u2026', u'is_quote_status': True, u'in_reply_to_status_id': None, u'id': 675102704721596417, u'favorite_count': 0, u'source': u'<a href=\"http://null.hosemedownwithdata.us\" rel=\"nofollow\">HoseMeDownWithData</a>', u'retweeted': False, u'coordinates': None, u'entities': {u'symbols': [], u'user_mentions': [{u'id': 20222744, u'indices': [3, 15], u'id_str': u'20222744', u'screen_name': u'dinisguarda', u'name': u'dinis guarda'}], u'hashtags': [{u'indices': [104, 112], u'text': u'bigdata'}], u'urls': [{u'url': u'https://t.co/ShAwCa9ve4', u'indices': [124, 140], u'expanded_url': u'https://twitter.com/stephenhuppert/status/674462496141524992', u'display_url': u'twitter.com/stephenhuppert\\u2026'}]}, u'in_reply_to_screen_name': None, u'in_reply_to_user_id': None, u'retweet_count': 4, u'id_str': u'675102704721596417', u'favorited': False, u'retweeted_status': {u'contributors': None, u'truncated': False, u'text': u'The problem and paradox is that governments are so uncoordinated that cannot align any #bigdata at all...  https://t.co/ShAwCa9ve4', u'is_quote_status': True, u'in_reply_to_status_id': None, u'id': 675006493402537984, u'favorite_count': 2, u'entities': {u'symbols': [], u'user_mentions': [], u'hashtags': [{u'indices': [87, 95], u'text': u'bigdata'}], u'urls': [{u'url': u'https://t.co/ShAwCa9ve4', u'indices': [107, 130], u'expanded_url': u'https://twitter.com/stephenhuppert/status/674462496141524992', u'display_url': u'twitter.com/stephenhuppert\\u2026'}]}, u'quoted_status_id': 674462496141524992, u'retweeted': False, u'coordinates': None, u'quoted_status': {u'contributors': None, u'truncated': False, u'text': u'Learn what government agencies can learn from your smartphone #MetaData? https://t.co/OEFcUV0Fm0 HT @LindaRegber https://t.co/XE5sz82wAZ', u'is_quote_status': False, u'in_reply_to_status_id': None, u'id': 674462496141524992, u'favorite_count': 4, u'source': u'<a href=\"http://bufferapp.com\" rel=\"nofollow\">Buffer</a>', u'retweeted': False, u'coordinates': None, u'entities': {u'symbols': [], u'user_mentions': [{u'id': 2535455623, u'indices': [100, 112], u'id_str': u'2535455623', u'screen_name': u'LindaRegber', u'name': u'DataStories'}], u'hashtags': [{u'indices': [62, 71], u'text': u'MetaData'}], u'urls': [{u'url': u'https://t.co/OEFcUV0Fm0', u'indices': [73, 96], u'expanded_url': u'http://bit.ly/21o3wE7', u'display_url': u'bit.ly/21o3wE7'}], u'media': [{u'expanded_url': u'http://twitter.com/stephenhuppert/status/674462496141524992/photo/1', u'display_url': u'pic.twitter.com/XE5sz82wAZ', u'url': u'https://t.co/XE5sz82wAZ', u'media_url_https': u'https://pbs.twimg.com/media/CVwsEQ9WUAAtkN7.png', u'id_str': u'674462495982112768', u'sizes': {u'large': {u'h': 607, u'resize': u'fit', u'w': 904}, u'small': {u'h': 228, u'resize': u'fit', u'w': 340}, u'medium': {u'h': 402, u'resize': u'fit', u'w': 600}, u'thumb': {u'h': 150, u'resize': u'crop', u'w': 150}}, u'indices': [113, 136], u'type': u'photo', u'id': 674462495982112768, u'media_url': u'http://pbs.twimg.com/media/CVwsEQ9WUAAtkN7.png'}]}, u'in_reply_to_screen_name': None, u'in_reply_to_user_id': None, u'retweet_count': 3, u'id_str': u'674462496141524992', u'favorited': False, u'geo': None, u'in_reply_to_user_id_str': None, u'possibly_sensitive': False, u'lang': u'en', u'created_at': u'Wed Dec 09 05:36:04 +0000 2015', u'in_reply_to_status_id_str': None, u'place': None, u'metadata': {u'iso_language_code': u'en', u'result_type': u'recent'}}, u'source': u'<a href=\"http://twitter.com\" rel=\"nofollow\">Twitter Web Client</a>', u'in_reply_to_screen_name': None, u'in_reply_to_user_id': None, u'retweet_count': 4, u'id_str': u'675006493402537984', u'favorited': False, u'user': {u'follow_request_sent': False, u'has_extended_profile': False, u'profile_use_background_image': True, u'default_profile_image': False, u'id': 20222744, u'profile_background_image_url_https': u'https://pbs.twimg.com/profile_background_images/378800000024324762/8dce05f934a2f35b79d0fd9e1fc7a416.gif', u'verified': False, u'profile_text_color': u'663B12', u'profile_image_url_https': u'https://pbs.twimg.com/profile_images/3437503613/c6d8c138a5424b6b03c2f51860e58124_normal.jpeg', u'profile_sidebar_fill_color': u'DAECF4', u'entities': {u'url': {u'urls': [{u'url': u'http://t.co/XQmT2OT4Xh', u'indices': [0, 22], u'expanded_url': u'http://www.intelligenthq.com', u'display_url': u'intelligenthq.com'}]}, u'description': {u'urls': []}}, u'followers_count': 31170, u'profile_sidebar_border_color': u'FFFFFF', u'id_str': u'20222744', u'profile_background_color': u'00BBFB', u'listed_count': 1588, u'is_translation_enabled': False, u'utc_offset': 3600, u'statuses_count': 39565, u'description': u'CEO Founder @Ztudium @IntelligentHQ @gozoacom @HedgeThink @tradersdna #Writer #SM #socialenterprise #Business #Strategy #Innovation #Creativity #Fintech #edu', u'friends_count': 15413, u'location': u'London / NY world', u'profile_link_color': u'1F98C7', u'profile_image_url': u'http://pbs.twimg.com/profile_images/3437503613/c6d8c138a5424b6b03c2f51860e58124_normal.jpeg', u'following': False, u'geo_enabled': True, u'profile_banner_url': u'https://pbs.twimg.com/profile_banners/20222744/1444870253', u'profile_background_image_url': u'http://pbs.twimg.com/profile_background_images/378800000024324762/8dce05f934a2f35b79d0fd9e1fc7a416.gif', u'screen_name': u'dinisguarda', u'lang': u'en', u'profile_background_tile': False, u'favourites_count': 1003, u'name': u'dinis guarda', u'notifications': False, u'url': u'http://t.co/XQmT2OT4Xh', u'created_at': u'Fri Feb 06 08:12:16 +0000 2009', u'contributors_enabled': False, u'time_zone': u'Copenhagen', u'protected': False, u'default_profile': False, u'is_translator': False}, u'geo': None, u'in_reply_to_user_id_str': None, u'possibly_sensitive': False, u'lang': u'en', u'created_at': u'Thu Dec 10 17:37:43 +0000 2015', u'quoted_status_id_str': u'674462496141524992', u'in_reply_to_status_id_str': None, u'place': None, u'metadata': {u'iso_language_code': u'en', u'result_type': u'recent'}}, u'user': {u'follow_request_sent': False, u'has_extended_profile': False, u'profile_use_background_image': True, u'default_profile_image': False, u'id': 3161843418, u'profile_background_image_url_https': u'https://abs.twimg.com/images/themes/theme1/bg.png', u'verified': False, u'profile_text_color': u'333333', u'profile_image_url_https': u'https://pbs.twimg.com/profile_images/589281797348798465/_SuW60Pm_normal.jpg', u'profile_sidebar_fill_color': u'DDEEF6', u'entities': {u'description': {u'urls': []}}, u'followers_count': 438, u'profile_sidebar_border_color': u'C0DEED', u'id_str': u'3161843418', u'profile_background_color': u'C0DEED', u'listed_count': 1103, u'is_translation_enabled': False, u'utc_offset': None, u'statuses_count': 34160, u'description': u'', u'friends_count': 0, u'location': u'', u'profile_link_color': u'0084B4', u'profile_image_url': u'http://pbs.twimg.com/profile_images/589281797348798465/_SuW60Pm_normal.jpg', u'following': False, u'geo_enabled': False, u'profile_background_image_url': u'http://abs.twimg.com/images/themes/theme1/bg.png', u'screen_name': u'dataproblems', u'lang': u'en', u'profile_background_tile': False, u'favourites_count': 5, u'name': u'RA Fisher', u'notifications': False, u'url': None, u'created_at': u'Sat Apr 18 04:15:08 +0000 2015', u'contributors_enabled': False, u'time_zone': None, u'protected': False, u'default_profile': True, u'is_translator': False}, u'geo': None, u'in_reply_to_user_id_str': None, u'possibly_sensitive': False, u'lang': u'en', u'created_at': u'Fri Dec 11 00:00:02 +0000 2015', u'in_reply_to_status_id_str': None, u'place': None, u'metadata': {u'iso_language_code': u'en', u'result_type': u'recent'}}\n",
      "{u'contributors': None, u'truncated': False, u'text': u'\"Data strategy is not about all the things that you can do... it\\u2019s about what you wish to accomplish.\" #bigdata\\nhttps://t.co/mJr2b5lRJj', u'is_quote_status': False, u'in_reply_to_status_id': None, u'id': 675102704503492608, u'favorite_count': 0, u'source': u'<a href=\"http://www.sprinklr.com\" rel=\"nofollow\">Sprinklr</a>', u'retweeted': False, u'coordinates': None, u'entities': {u'symbols': [], u'user_mentions': [], u'hashtags': [{u'indices': [103, 111], u'text': u'bigdata'}], u'urls': [{u'url': u'https://t.co/mJr2b5lRJj', u'indices': [112, 135], u'expanded_url': u'http://2.sas.com/6017BrAc1', u'display_url': u'2.sas.com/6017BrAc1'}]}, u'in_reply_to_screen_name': None, u'in_reply_to_user_id': None, u'retweet_count': 0, u'id_str': u'675102704503492608', u'favorited': False, u'user': {u'follow_request_sent': False, u'has_extended_profile': False, u'profile_use_background_image': True, u'default_profile_image': False, u'id': 301265201, u'profile_background_image_url_https': u'https://pbs.twimg.com/profile_background_images/378800000060354648/f067f85b0e79656ce7bb1abbf9867eb6.jpeg', u'verified': False, u'profile_text_color': u'333333', u'profile_image_url_https': u'https://pbs.twimg.com/profile_images/378800000367022287/c272fa2558acf3ae342ea3c3aecc5892_normal.png', u'profile_sidebar_fill_color': u'DDEEF6', u'entities': {u'url': {u'urls': [{u'url': u'http://t.co/6Xxt6YhV0W', u'indices': [0, 22], u'expanded_url': u'http://www.sas.com', u'display_url': u'sas.com'}]}, u'description': {u'urls': []}}, u'followers_count': 897, u'profile_sidebar_border_color': u'FFFFFF', u'id_str': u'301265201', u'profile_background_color': u'C0DEED', u'listed_count': 89, u'is_translation_enabled': False, u'utc_offset': 39600, u'statuses_count': 1694, u'description': u'News, info & best practices on analytics software for Risk, Marketing and IT. Official Twitter feed for SAS Asia Pacific by @marniedavey', u'friends_count': 905, u'location': u'', u'profile_link_color': u'0084B4', u'profile_image_url': u'http://pbs.twimg.com/profile_images/378800000367022287/c272fa2558acf3ae342ea3c3aecc5892_normal.png', u'following': False, u'geo_enabled': False, u'profile_banner_url': u'https://pbs.twimg.com/profile_banners/301265201/1377565201', u'profile_background_image_url': u'http://pbs.twimg.com/profile_background_images/378800000060354648/f067f85b0e79656ce7bb1abbf9867eb6.jpeg', u'screen_name': u'SASAsiaPacific', u'lang': u'en', u'profile_background_tile': True, u'favourites_count': 1, u'name': u'SAS Asia Pacific', u'notifications': False, u'url': u'http://t.co/6Xxt6YhV0W', u'created_at': u'Thu May 19 05:17:32 +0000 2011', u'contributors_enabled': False, u'time_zone': u'Sydney', u'protected': False, u'default_profile': False, u'is_translator': False}, u'geo': None, u'in_reply_to_user_id_str': None, u'possibly_sensitive': False, u'lang': u'en', u'created_at': u'Fri Dec 11 00:00:02 +0000 2015', u'in_reply_to_status_id_str': None, u'place': None, u'metadata': {u'iso_language_code': u'en', u'result_type': u'recent'}}\n"
     ]
    }
   ],
   "source": [
    "for status in result[\"statuses\"]:\n",
    "    print(status)"
   ]
  },
  {
   "cell_type": "code",
   "execution_count": 39,
   "metadata": {
    "collapsed": false,
    "scrolled": true
   },
   "outputs": [
    {
     "name": "stdout",
     "output_type": "stream",
     "text": [
      "user: Inside Analysis text: RT @analyticbridge: Top LinkedIn Groups for Analytics, Big Data, and Data Science  \n",
      "https://t.co/PrIONSq1pU https://t.co/zSXAoDo7aZ\n",
      "user: Podsystem M2M text: What Is #IoT? Why it Matters and What You Should Do @HuffPostBiz https://t.co/ViuQMrNztM #InternetOfThings #BigData https://t.co/o9BP9bHnVq\n",
      "user: Podsystem Group text: What Is #IoT? Why it Matters and What You Should Do @HuffPostBiz https://t.co/4OM6sOhz6H #InternetOfThings #BigData https://t.co/MJXUqI2br7\n",
      "user: Inside Analysis text: RT @TheWebAnalytics: Basic Google Analytics Filters for Every Site https://t.co/bcL93342xX\n",
      "user: Sarah Austin text: #DataScience acknowledges causation to test scientifically. The reverse denies the scientific method and is called data magic. #bigdata #AI\n",
      "user: Inside Analysis text: RT @BigdataProfiles: Atlanta Hawks Select RetailNext For In-Store Retail Analytics Solutions https://t.co/OtV99dWZii\n",
      "user: Inside Analysis text: RT @ActiveDEMAND: Are your campaigns effective? Know what's working and what isn't with Analytics. #analytics   https://t.co/7fPVx2cSyD\n",
      "user: Bigdata|VBProfiles text: @geofeedia #BigData: 517 Cos, $24.9B funding, 10k+ people. Stay on top of it https://t.co/WGAJCgyztD https://t.co/4XJ9YBVhQK\n",
      "user: Mike Pluta text: Top Tweets from #BigData Experts https://t.co/Y9f9GQmUdj\n"
     ]
    },
    {
     "ename": "UnicodeEncodeError",
     "evalue": "'ascii' codec can't encode character u'\\u2026' in position 139: ordinal not in range(128)",
     "output_type": "error",
     "traceback": [
      "\u001b[1;31m---------------------------------------------------------------------------\u001b[0m",
      "\u001b[1;31mUnicodeEncodeError\u001b[0m                        Traceback (most recent call last)",
      "\u001b[1;32m<ipython-input-39-da469e656597>\u001b[0m in \u001b[0;36m<module>\u001b[1;34m()\u001b[0m\n\u001b[0;32m      1\u001b[0m \u001b[1;32mfor\u001b[0m \u001b[0mstatus\u001b[0m \u001b[1;32min\u001b[0m \u001b[0mresult\u001b[0m\u001b[1;33m[\u001b[0m\u001b[1;34m\"statuses\"\u001b[0m\u001b[1;33m]\u001b[0m\u001b[1;33m:\u001b[0m\u001b[1;33m\u001b[0m\u001b[0m\n\u001b[1;32m----> 2\u001b[1;33m     \u001b[1;32mprint\u001b[0m\u001b[1;33m(\u001b[0m\u001b[1;34m\"user: {0} text: {1}\"\u001b[0m\u001b[1;33m.\u001b[0m\u001b[0mformat\u001b[0m\u001b[1;33m(\u001b[0m\u001b[0mstatus\u001b[0m\u001b[1;33m[\u001b[0m\u001b[1;34m\"user\"\u001b[0m\u001b[1;33m]\u001b[0m\u001b[1;33m[\u001b[0m\u001b[1;34m\"name\"\u001b[0m\u001b[1;33m]\u001b[0m\u001b[1;33m,\u001b[0m \u001b[0mstatus\u001b[0m\u001b[1;33m[\u001b[0m\u001b[1;34m\"text\"\u001b[0m\u001b[1;33m]\u001b[0m\u001b[1;33m)\u001b[0m\u001b[1;33m)\u001b[0m\u001b[1;33m\u001b[0m\u001b[0m\n\u001b[0m",
      "\u001b[1;31mUnicodeEncodeError\u001b[0m: 'ascii' codec can't encode character u'\\u2026' in position 139: ordinal not in range(128)"
     ]
    }
   ],
   "source": [
    "for status in result[\"statuses\"]:\n",
    "    print(\"user: {0} text: {1}\".format(status[\"user\"][\"name\"], \n",
    "                                       status[\"text\"]))"
   ]
  },
  {
   "cell_type": "code",
   "execution_count": 48,
   "metadata": {
    "collapsed": false
   },
   "outputs": [
    {
     "name": "stdout",
     "output_type": "stream",
     "text": [
      "user: Jojari CannonEdwards \n",
      " text: RT @HostingSocial: Cleversafe Founder Donates $7.6M to Computer Science at Illinois Tech: The founder of big data storage provide... https:… \n",
      "\n",
      "user: Hossam Hassanien \n",
      " text: RT @DataScience_Top: Follow the top Data Science stories for Dec 11 on our topical page: https://t.co/aGhVGWKd6k \n",
      "\n",
      "user: Angelo N Ferrara DC \n",
      " text: SCIENCE BASED HYPOTHESIS AND METHOD SUPPORTED BY EMPIRICAL DATA AND CONFIRMED BY CLINICAL DOCUMENTED   RESULTS \n",
      "\n",
      "user: kazuhiro arai \n",
      " text: RT @O_S_M: New @O_S_M Biological Data: https://t.co/VCUlwmXp96 including compounds made by @SydneyChemistry @Sydney_Science UG! #openscience \n",
      "\n",
      "user: DataScienceTopNews \n",
      " text: Follow the top Data Science stories for Dec 11 on our topical page: https://t.co/aGhVGWKd6k \n",
      "\n",
      "user: Inside Analysis \n",
      " text: RT @Ronald_vanLoon: 30 Cant miss Harvard Business Review articles on Data Science, Big Data and Analytics | #Da… https://t.co/pcTrbZhdhl ht… \n",
      "\n",
      "user: parvez ahmed \n",
      " text: RT @SmartDataCo: 4 Effortless Tactics to Be a #DataScience Success in Business, via @DamianMingle https://t.co/vZXvBy2lyq \n",
      "\n",
      "user: Shiraz Hemani \n",
      " text: How the Alan Turing Institute is leading research in data science https://t.co/BUPnU4SAPK #IT https://t.co/SN6Ntj44lR \n",
      "\n",
      "user: Top Course Deals \n",
      " text: 95% off Tableau 9 For Data Science: REAL-Life Data Science Exercises: https://t.co/a4W28Z3zFz ... #udemy #bigdata \n",
      "\n",
      "user: Marcus Tan Ho Meng \n",
      " text: How IBM Is Using #BigData To Battle Air Pollution In Cities https://t.co/GvNDTd9SoI #smog #climate #IBMResearch \n",
      "\n",
      "user: Jobs Saint Louis \n",
      " text: New #job opening at Yoh in #St.Louis - #Data #Science Analyst Job #jobs https://t.co/DY6aXLPwGV \n",
      "\n",
      "user: Jobs Dublin \n",
      " text: Web Summit is looking for a #Data #Science Associate - Software in #Dublin, apply now! #jobs https://t.co/hLSnwQcENn \n",
      "\n",
      "user: Ludmila MorozovaBuss \n",
      " text: \"Encourage #vision through long-term thinking!\" #quote @jonmcneill https://t.co/9ABizgzbSl #Innovation #business #data #science #BigData \n",
      "\n",
      "user: Inside Analysis \n",
      " text: RT @analyticbridge: Top LinkedIn Groups for Analytics, Big Data, and Data Science  \n",
      "https://t.co/PrIONSq1pU https://t.co/zSXAoDo7aZ \n",
      "\n",
      "user: CatalystFive Jobs \n",
      " text: Clinical Data Manager #REMOTE #Jobs https://t.co/8CRc6E5xoT \n",
      "\n"
     ]
    }
   ],
   "source": [
    "result = twitter.search(q=\"data science\")\n",
    "for status in result[\"statuses\"]:\n",
    "    print(\"user: {0} \\n text: {1} \\n\".format(status[\"user\"][\"name\"].encode(\"utf-8\"), \n",
    "                                             status[\"text\"].encode(\"utf-8\")))"
   ]
  },
  {
   "cell_type": "markdown",
   "metadata": {},
   "source": [
    "More documentation at https://dev.twitter.com/rest/reference/get/search/tweets"
   ]
  },
  {
   "cell_type": "markdown",
   "metadata": {},
   "source": [
    "### Retrieving Timeline (your own)"
   ]
  },
  {
   "cell_type": "code",
   "execution_count": 52,
   "metadata": {
    "collapsed": true
   },
   "outputs": [],
   "source": [
    "timeline = twitter.get_home_timeline()"
   ]
  },
  {
   "cell_type": "code",
   "execution_count": 64,
   "metadata": {
    "collapsed": false
   },
   "outputs": [
    {
     "name": "stdout",
     "output_type": "stream",
     "text": [
      " User: Anuj More \n",
      " Created: Fri Dec 11 00:01:45 +0000 2015 \n",
      " Text: The proof for this one is surprisingly difficult:\n",
      "3x + 1 conjecture: https://t.co/lgNUgEZC6f \n",
      "\n",
      " User: Vinay Pathak \n",
      " Created: Thu Dec 10 23:46:23 +0000 2015 \n",
      " Text: https://t.co/RBEtnj2wn7 via youtube\n",
      "Thank you @ravishndtv for an authentic journalistic and liberal view! We def need more like you ! 👍🏽👏🏽 \n",
      "\n",
      " User: John Myles White \n",
      " Created: Thu Dec 10 23:36:46 +0000 2015 \n",
      " Text: This makes me want to spend my holidays doing RL coding: https://t.co/Zeys4mISfI \n",
      "\n",
      " User: Data Science Central \n",
      " Created: Thu Dec 10 23:05:40 +0000 2015 \n",
      " Text: Enterprises that Have Truly Mastered Customer Experience https://t.co/7cUM3EjbQp \n",
      "\n",
      " User: Cloudera \n",
      " Created: Thu Dec 10 23:00:05 +0000 2015 \n",
      " Text: Only 24 hrs left to help shape our #BigData Predictions! Tell us how your org's use of #BigData is evolving https://t.co/UG2PgZF5H2 \n",
      "\n",
      " User: David Smith \n",
      " Created: Thu Dec 10 22:39:59 +0000 2015 \n",
      " Text: RT @EricKnorr: Matt Asay nails it: The secret to #Microsoft ’s rising fortunes https://t.co/DvuKBXDS2m @infoworld #Azure \n",
      "\n",
      " User: JavaScript Live \n",
      " Created: Thu Dec 10 22:23:11 +0000 2015 \n",
      " Text: Hunting a Ghost - Finding a Memory Leak in Node.js: https://t.co/Z9H5lk04Vr \n",
      "\n",
      " User: David Smith \n",
      " Created: Thu Dec 10 21:58:29 +0000 2015 \n",
      " Text: Got experience building analytics applications (say, with R/Python)? We're looking for Solutions Architects in US: https://t.co/kRQowBynFO \n",
      "\n",
      " User: Kaggle \n",
      " Created: Thu Dec 10 21:30:29 +0000 2015 \n",
      " Text: DSSG 2016 apps are open: a great opportunity for young data scientists to make a difference https://t.co/wmv86uJH81 https://t.co/i3LTs9Z4MS \n",
      "\n",
      " User: Yhat, Inc. \n",
      " Created: Thu Dec 10 21:23:12 +0000 2015 \n",
      " Text: “Statisticians, like artists, have the bad habit of falling in love with their models.” - George Box \n",
      "\n",
      " User: JavaScript Live \n",
      " Created: Thu Dec 10 21:20:35 +0000 2015 \n",
      " Text: RT @OReillyMedia: Dive deep on web tech at #FluentConf 2016 in SF. Register by midnight PT to get Best Price: https://t.co/EqMbrgWVP9 https… \n",
      "\n",
      " User: Data Science Central \n",
      " Created: Thu Dec 10 21:16:06 +0000 2015 \n",
      " Text: Control: The \"Uncle Fester\" of the Data Science Family (part 1--The Knowledge Pyramid) https://t.co/9PorzUvC6f https://t.co/zLkcNENEFD \n",
      "\n",
      " User: Yhat, Inc. \n",
      " Created: Thu Dec 10 20:34:06 +0000 2015 \n",
      " Text: [PAPER] State of the Art Control of Atari Games Using Shallow Reinforcement Learning | https://t.co/8oKxuBOmdO \n",
      "\n",
      " User: JavaScript Live \n",
      " Created: Thu Dec 10 20:07:16 +0000 2015 \n",
      " Text: Node v5.2.0 (Stable) Released: https://t.co/5KIh1yV0Vx \n",
      "\n",
      " User: Cloudera \n",
      " Created: Thu Dec 10 20:00:34 +0000 2015 \n",
      " Text: What Is #IoT? Why it Matters and What You Should Do! https://t.co/Dm7iaP9dk4 via @HuffPostBiz \n",
      "\n",
      " User: Kaggle \n",
      " Created: Thu Dec 10 19:55:10 +0000 2015 \n",
      " Text: Our fav code shared on Kaggle in Nov: Jupyter Notebooks &amp; why NLP isn't a trivial affair https://t.co/YSrCBN7ZDt https://t.co/wx3uv8C7py \n",
      "\n",
      " User: Data Science Central \n",
      " Created: Thu Dec 10 19:46:08 +0000 2015 \n",
      " Text: Top 5: Optical fiber myths https://t.co/vPzHmRgYMQ \n",
      "\n",
      " User: Nathan Yau \n",
      " Created: Thu Dec 10 19:45:10 +0000 2015 \n",
      " Text: Do all roads really lead to Rome? The @moovelLab was curious, so they looked into it https://t.co/BkHhHoMDUY https://t.co/EUReKNRZ1q \n",
      "\n",
      " User: Yhat, Inc. \n",
      " Created: Thu Dec 10 19:25:06 +0000 2015 \n",
      " Text: [SLIDES] NIPS’2015 Deep Learning tutorial by Yann Lecun and Yoshua Bengio | https://t.co/5NBIF8lwkL \n",
      "\n",
      " User: kartik krishnan \n",
      " Created: Thu Dec 10 19:14:25 +0000 2015 \n",
      " Text: Justice Chaudhary https://t.co/DfK3PAQ9xz \n",
      "\n"
     ]
    }
   ],
   "source": [
    "for tweet in timeline:\n",
    "    print(\" User: {0} \\n Created: {1} \\n Text: {2} \\n\".format(tweet[\"user\"][\"name\"].encode(\"utf-8\"), \n",
    "                                                            tweet[\"created_at\"].encode(\"utf-8\"), \n",
    "                                                            tweet[\"text\"].encode(\"utf-8\")))"
   ]
  },
  {
   "cell_type": "markdown",
   "metadata": {},
   "source": [
    "### Retrieving Timeline (other users)"
   ]
  },
  {
   "cell_type": "code",
   "execution_count": 65,
   "metadata": {
    "collapsed": false
   },
   "outputs": [
    {
     "name": "stdout",
     "output_type": "stream",
     "text": [
      " User: Shah Rukh Khan \n",
      " Created: Thu Dec 10 23:40:07 +0000 2015 \n",
      " Text: It’s exactly the same!!! Well done. https://t.co/tseZAzxUaR \n",
      "\n",
      " User: Shah Rukh Khan \n",
      " Created: Thu Dec 10 23:16:20 +0000 2015 \n",
      " Text: Yes does look like mine!! https://t.co/siY2EzkhbH \n",
      "\n",
      " User: Shah Rukh Khan \n",
      " Created: Thu Dec 10 22:26:32 +0000 2015 \n",
      " Text: Thank you Pritamda. My favourite mad man.  https://t.co/Xm5414woJO \n",
      "\n",
      " User: Shah Rukh Khan \n",
      " Created: Thu Dec 10 22:24:59 +0000 2015 \n",
      " Text: I wish u the best my brother.  https://t.co/m4ClJnOvYp \n",
      "\n",
      " User: Shah Rukh Khan \n",
      " Created: Thu Dec 10 22:10:04 +0000 2015 \n",
      " Text: How beautiful are you!!! https://t.co/qwYJso9WjF \n",
      "\n"
     ]
    }
   ],
   "source": [
    "tl = twitter.get_user_timeline(screen_name = \"iamsrk\", count = 5)\n",
    "for tweet in tl:\n",
    "    print(\" User: {0} \\n Created: {1} \\n Text: {2} \\n\".format(tweet[\"user\"][\"name\"].encode(\"utf-8\"),\n",
    "                                                            tweet[\"created_at\"].encode(\"utf-8\"),\n",
    "                                                            tweet[\"text\"].encode(\"utf-8\")))"
   ]
  },
  {
   "cell_type": "markdown",
   "metadata": {},
   "source": [
    "* [Official Documentation for home timeline](https://dev.twitter.com/rest/reference/get/statuses/home_timeline)\n",
    "* [Offician Documentation for (other) user timeline](https://dev.twitter.com/rest/reference/get/statuses/user_timeline)"
   ]
  },
  {
   "cell_type": "markdown",
   "metadata": {},
   "source": [
    "### Get a list of followers"
   ]
  },
  {
   "cell_type": "code",
   "execution_count": 66,
   "metadata": {
    "collapsed": true
   },
   "outputs": [],
   "source": [
    "followers = twitter.get_followers_list(screen_name=\"dataBiryani\")"
   ]
  },
  {
   "cell_type": "code",
   "execution_count": 67,
   "metadata": {
    "collapsed": false,
    "scrolled": true
   },
   "outputs": [
    {
     "name": "stdout",
     "output_type": "stream",
     "text": [
      " {u'follow_request_sent': False, u'has_extended_profile': True, u'profile_use_background_image': True, u'default_profile_image': False, u'id': 4319212154, u'profile_background_image_url_https': u'https://abs.twimg.com/images/themes/theme1/bg.png', u'verified': False, u'blocked_by': False, u'profile_text_color': u'333333', u'muting': False, u'profile_image_url_https': u'https://pbs.twimg.com/profile_images/668283219041583105/uwLl7mid_normal.jpg', u'profile_sidebar_fill_color': u'DDEEF6', u'entities': {u'description': {u'urls': []}}, u'followers_count': 10, u'profile_sidebar_border_color': u'C0DEED', u'id_str': u'4319212154', u'profile_background_color': u'C0DEED', u'listed_count': 0, u'status': {u'contributors': None, u'truncated': False, u'text': u'https://t.co/RknemKN92V', u'in_reply_to_status_id': None, u'id': 668322466410790912, u'favorite_count': 0, u'source': u'<a href=\"http://twitter.com/download/android\" rel=\"nofollow\">Twitter for Android</a>', u'retweeted': False, u'coordinates': None, u'entities': {u'symbols': [], u'user_mentions': [], u'hashtags': [], u'urls': [], u'media': [{u'expanded_url': u'http://twitter.com/ArmanRathod3/status/668322466410790912/photo/1', u'display_url': u'pic.twitter.com/RknemKN92V', u'url': u'https://t.co/RknemKN92V', u'media_url_https': u'https://pbs.twimg.com/media/CUZbtmjUwAARIIf.jpg', u'id_str': u'668322433712046080', u'sizes': {u'large': {u'h': 473, u'resize': u'fit', u'w': 720}, u'small': {u'h': 223, u'resize': u'fit', u'w': 340}, u'medium': {u'h': 394, u'resize': u'fit', u'w': 600}, u'thumb': {u'h': 150, u'resize': u'crop', u'w': 150}}, u'indices': [0, 23], u'type': u'photo', u'id': 668322433712046080, u'media_url': u'http://pbs.twimg.com/media/CUZbtmjUwAARIIf.jpg'}]}, u'in_reply_to_screen_name': None, u'id_str': u'668322466410790912', u'retweet_count': 0, u'in_reply_to_user_id': None, u'favorited': False, u'geo': None, u'in_reply_to_user_id_str': None, u'possibly_sensitive': False, u'lang': u'und', u'created_at': u'Sun Nov 22 06:57:47 +0000 2015', u'in_reply_to_status_id_str': None, u'place': None}, u'is_translation_enabled': False, u'utc_offset': None, u'statuses_count': 1, u'description': u'', u'friends_count': 261, u'location': u'Sanskar Nagar, Bhuj', u'profile_link_color': u'0084B4', u'profile_image_url': u'http://pbs.twimg.com/profile_images/668283219041583105/uwLl7mid_normal.jpg', u'following': False, u'geo_enabled': False, u'blocking': False, u'profile_background_image_url': u'http://abs.twimg.com/images/themes/theme1/bg.png', u'screen_name': u'ArmanRathod3', u'lang': u'en', u'profile_background_tile': False, u'favourites_count': 6, u'name': u'paritosh bhandarkar', u'notifications': False, u'url': None, u'created_at': u'Sun Nov 22 04:20:20 +0000 2015', u'contributors_enabled': False, u'time_zone': None, u'protected': False, u'default_profile': True, u'is_translator': False} \n",
      " \n",
      " {u'follow_request_sent': False, u'has_extended_profile': False, u'profile_use_background_image': True, u'default_profile_image': True, u'id': 4142476342, u'profile_background_image_url_https': u'https://abs.twimg.com/images/themes/theme1/bg.png', u'verified': False, u'blocked_by': False, u'profile_text_color': u'333333', u'muting': False, u'profile_image_url_https': u'https://abs.twimg.com/sticky/default_profile_images/default_profile_4_normal.png', u'profile_sidebar_fill_color': u'DDEEF6', u'entities': {u'description': {u'urls': []}}, u'followers_count': 1, u'profile_sidebar_border_color': u'C0DEED', u'id_str': u'4142476342', u'profile_background_color': u'C0DEED', u'listed_count': 0, u'status': {u'contributors': None, u'truncated': False, u'text': u'#analyzeyouremail #immersionmit #datavisualization https://t.co/NO4gt6aPGk', u'in_reply_to_status_id': None, u'id': 674795999928279042, u'favorite_count': 0, u'source': u'<a href=\"http://twitter.com\" rel=\"nofollow\">Twitter Web Client</a>', u'retweeted': False, u'coordinates': None, u'entities': {u'symbols': [], u'user_mentions': [], u'hashtags': [{u'indices': [0, 17], u'text': u'analyzeyouremail'}, {u'indices': [18, 31], u'text': u'immersionmit'}, {u'indices': [32, 50], u'text': u'datavisualization'}], u'urls': [{u'url': u'https://t.co/NO4gt6aPGk', u'indices': [51, 74], u'expanded_url': u'https://immersion.media.mit.edu/', u'display_url': u'immersion.media.mit.edu'}]}, u'in_reply_to_screen_name': None, u'id_str': u'674795999928279042', u'retweet_count': 0, u'in_reply_to_user_id': None, u'favorited': False, u'geo': None, u'in_reply_to_user_id_str': None, u'possibly_sensitive': False, u'lang': u'und', u'created_at': u'Thu Dec 10 03:41:18 +0000 2015', u'in_reply_to_status_id_str': None, u'place': None}, u'is_translation_enabled': False, u'utc_offset': -28800, u'statuses_count': 3, u'description': u'', u'friends_count': 17, u'location': u'', u'profile_link_color': u'0084B4', u'profile_image_url': u'http://abs.twimg.com/sticky/default_profile_images/default_profile_4_normal.png', u'following': False, u'geo_enabled': False, u'blocking': False, u'profile_background_image_url': u'http://abs.twimg.com/images/themes/theme1/bg.png', u'screen_name': u'RiddhikRathod', u'lang': u'en', u'profile_background_tile': False, u'favourites_count': 0, u'name': u'Riddhik Rathod', u'notifications': False, u'url': None, u'created_at': u'Sun Nov 08 14:59:11 +0000 2015', u'contributors_enabled': False, u'time_zone': u'Pacific Time (US & Canada)', u'protected': False, u'default_profile': True, u'is_translator': False} \n",
      " \n",
      " {u'follow_request_sent': False, u'has_extended_profile': False, u'profile_use_background_image': True, u'default_profile_image': False, u'id': 44570203, u'profile_background_image_url_https': u'https://abs.twimg.com/images/themes/theme1/bg.png', u'verified': False, u'blocked_by': False, u'profile_text_color': u'333333', u'muting': False, u'profile_image_url_https': u'https://pbs.twimg.com/profile_images/1083446242/Hitesh_B_Jirawla_5_normal.png', u'profile_sidebar_fill_color': u'DDEEF6', u'entities': {u'description': {u'urls': []}}, u'followers_count': 95, u'profile_sidebar_border_color': u'C0DEED', u'id_str': u'44570203', u'profile_background_color': u'C0DEED', u'listed_count': 0, u'status': {u'contributors': None, u'truncated': False, u'text': u'Crazzy #trafficjam on #westernexpress 120 mins to cover 4kms #sad #donttravel travelling from #goregoan towards town https://t.co/5NIMnfIMJb', u'in_reply_to_status_id': None, u'id': 672723590043852800, u'favorite_count': 0, u'source': u'<a href=\"http://twitter.com/download/android\" rel=\"nofollow\">Twitter for Android</a>', u'retweeted': False, u'coordinates': None, u'entities': {u'symbols': [], u'user_mentions': [], u'hashtags': [{u'indices': [7, 18], u'text': u'trafficjam'}, {u'indices': [22, 37], u'text': u'westernexpress'}, {u'indices': [61, 65], u'text': u'sad'}, {u'indices': [66, 77], u'text': u'donttravel'}, {u'indices': [94, 103], u'text': u'goregoan'}], u'urls': [], u'media': [{u'expanded_url': u'http://twitter.com/hiteshbjirawla/status/672723590043852800/photo/1', u'display_url': u'pic.twitter.com/5NIMnfIMJb', u'url': u'https://t.co/5NIMnfIMJb', u'media_url_https': u'https://pbs.twimg.com/media/CVX-hc-WsAAOISg.jpg', u'id_str': u'672723570028621824', u'sizes': {u'large': {u'h': 960, u'resize': u'fit', u'w': 720}, u'small': {u'h': 453, u'resize': u'fit', u'w': 340}, u'medium': {u'h': 800, u'resize': u'fit', u'w': 600}, u'thumb': {u'h': 150, u'resize': u'crop', u'w': 150}}, u'indices': [117, 140], u'type': u'photo', u'id': 672723570028621824, u'media_url': u'http://pbs.twimg.com/media/CVX-hc-WsAAOISg.jpg'}]}, u'in_reply_to_screen_name': None, u'id_str': u'672723590043852800', u'retweet_count': 0, u'in_reply_to_user_id': None, u'favorited': False, u'geo': None, u'in_reply_to_user_id_str': None, u'possibly_sensitive': False, u'lang': u'en', u'created_at': u'Fri Dec 04 10:26:17 +0000 2015', u'in_reply_to_status_id_str': None, u'place': None}, u'is_translation_enabled': False, u'utc_offset': 19800, u'statuses_count': 17, u'description': u'Tech Entreprenuer', u'friends_count': 165, u'location': u'Mumbai, India', u'profile_link_color': u'0084B4', u'profile_image_url': u'http://pbs.twimg.com/profile_images/1083446242/Hitesh_B_Jirawla_5_normal.png', u'following': True, u'geo_enabled': False, u'blocking': False, u'profile_background_image_url': u'http://abs.twimg.com/images/themes/theme1/bg.png', u'screen_name': u'hiteshbjirawla', u'lang': u'en', u'profile_background_tile': False, u'favourites_count': 0, u'name': u'Hitesh B Jirawla', u'notifications': False, u'url': None, u'created_at': u'Thu Jun 04 07:47:55 +0000 2009', u'contributors_enabled': False, u'time_zone': u'Mumbai', u'protected': False, u'default_profile': True, u'is_translator': False} \n",
      " \n",
      " {u'follow_request_sent': False, u'has_extended_profile': False, u'profile_use_background_image': True, u'default_profile_image': True, u'id': 68347018, u'profile_background_image_url_https': u'https://abs.twimg.com/images/themes/theme1/bg.png', u'verified': False, u'blocked_by': False, u'profile_text_color': u'333333', u'muting': False, u'profile_image_url_https': u'https://abs.twimg.com/sticky/default_profile_images/default_profile_5_normal.png', u'profile_sidebar_fill_color': u'DDEEF6', u'entities': {u'description': {u'urls': []}}, u'followers_count': 2, u'profile_sidebar_border_color': u'C0DEED', u'id_str': u'68347018', u'profile_background_color': u'C0DEED', u'listed_count': 0, u'status': {u'lang': u'en', u'favorited': False, u'entities': {u'symbols': [], u'user_mentions': [], u'hashtags': [], u'urls': []}, u'contributors': None, u'truncated': False, u'text': u'python,seems very slippery to hold on to.but will catch it!!', u'created_at': u'Tue Nov 10 05:23:15 +0000 2015', u'retweeted': False, u'in_reply_to_status_id_str': None, u'coordinates': None, u'in_reply_to_user_id_str': None, u'source': u'<a href=\"http://twitter.com\" rel=\"nofollow\">Twitter Web Client</a>', u'in_reply_to_status_id': None, u'in_reply_to_screen_name': None, u'id_str': u'663950020605947904', u'place': None, u'retweet_count': 0, u'geo': None, u'id': 663950020605947904, u'favorite_count': 0, u'in_reply_to_user_id': None}, u'is_translation_enabled': False, u'utc_offset': None, u'statuses_count': 3, u'description': u'', u'friends_count': 8, u'location': u'', u'profile_link_color': u'0084B4', u'profile_image_url': u'http://abs.twimg.com/sticky/default_profile_images/default_profile_5_normal.png', u'following': False, u'geo_enabled': False, u'blocking': False, u'profile_background_image_url': u'http://abs.twimg.com/images/themes/theme1/bg.png', u'screen_name': u'chiraggambhira', u'lang': u'en', u'profile_background_tile': False, u'favourites_count': 0, u'name': u'chirag gambhira', u'notifications': False, u'url': None, u'created_at': u'Mon Aug 24 06:41:18 +0000 2009', u'contributors_enabled': False, u'time_zone': None, u'protected': False, u'default_profile': True, u'is_translator': False} \n",
      " \n",
      " {u'follow_request_sent': False, u'has_extended_profile': False, u'profile_use_background_image': True, u'default_profile_image': True, u'id': 4136877800, u'profile_background_image_url_https': u'https://abs.twimg.com/images/themes/theme1/bg.png', u'verified': False, u'blocked_by': False, u'profile_text_color': u'333333', u'muting': False, u'profile_image_url_https': u'https://abs.twimg.com/sticky/default_profile_images/default_profile_6_normal.png', u'profile_sidebar_fill_color': u'DDEEF6', u'entities': {u'description': {u'urls': []}}, u'followers_count': 3, u'profile_sidebar_border_color': u'C0DEED', u'id_str': u'4136877800', u'profile_background_color': u'C0DEED', u'listed_count': 0, u'is_translation_enabled': False, u'utc_offset': None, u'statuses_count': 0, u'description': u'', u'friends_count': 120, u'location': u'', u'profile_link_color': u'0084B4', u'profile_image_url': u'http://abs.twimg.com/sticky/default_profile_images/default_profile_6_normal.png', u'following': False, u'geo_enabled': False, u'blocking': False, u'profile_background_image_url': u'http://abs.twimg.com/images/themes/theme1/bg.png', u'screen_name': u'SaiBundel', u'lang': u'en', u'profile_background_tile': False, u'favourites_count': 0, u'name': u'Sai Singh Bundel', u'notifications': False, u'url': None, u'created_at': u'Thu Nov 05 16:43:33 +0000 2015', u'contributors_enabled': False, u'time_zone': None, u'protected': False, u'default_profile': True, u'is_translator': False} \n",
      " \n",
      " {u'follow_request_sent': False, u'has_extended_profile': False, u'profile_use_background_image': True, u'default_profile_image': False, u'id': 4079634678, u'profile_background_image_url_https': u'https://abs.twimg.com/images/themes/theme1/bg.png', u'verified': False, u'blocked_by': False, u'profile_text_color': u'333333', u'muting': False, u'profile_image_url_https': u'https://pbs.twimg.com/profile_images/660479279126327296/_lT96QB6_normal.jpg', u'profile_sidebar_fill_color': u'DDEEF6', u'entities': {u'description': {u'urls': []}}, u'followers_count': 2, u'profile_sidebar_border_color': u'C0DEED', u'id_str': u'4079634678', u'profile_background_color': u'C0DEED', u'listed_count': 0, u'status': {u'contributors': None, u'truncated': False, u'text': u'@BeingSalmanKhan @prdp https://t.co/YvgjQHCHxd', u'in_reply_to_status_id': 665795765965627392, u'id': 666695554118852612, u'favorite_count': 0, u'source': u'<a href=\"http://twitter.com/download/android\" rel=\"nofollow\">Twitter for Android</a>', u'retweeted': False, u'coordinates': None, u'entities': {u'symbols': [], u'user_mentions': [{u'id': 132385468, u'indices': [0, 16], u'id_str': u'132385468', u'screen_name': u'BeingSalmanKhan', u'name': u'Salman Khan'}, {u'id': 3439469566, u'indices': [17, 22], u'id_str': u'3439469566', u'screen_name': u'prdp', u'name': u'Prem Ratan Dhan Payo'}], u'hashtags': [], u'urls': [], u'media': [{u'expanded_url': u'http://twitter.com/singhsaloni1151/status/666695554118852612/photo/1', u'display_url': u'pic.twitter.com/YvgjQHCHxd', u'url': u'https://t.co/YvgjQHCHxd', u'media_url_https': u'https://pbs.twimg.com/media/CUCUElYVEAAutPA.jpg', u'id_str': u'666695551325376512', u'sizes': {u'large': {u'h': 800, u'resize': u'fit', u'w': 480}, u'small': {u'h': 566, u'resize': u'fit', u'w': 340}, u'medium': {u'h': 800, u'resize': u'fit', u'w': 480}, u'thumb': {u'h': 150, u'resize': u'crop', u'w': 150}}, u'indices': [23, 46], u'type': u'photo', u'id': 666695551325376512, u'media_url': u'http://pbs.twimg.com/media/CUCUElYVEAAutPA.jpg'}]}, u'in_reply_to_screen_name': u'BeingSalmanKhan', u'id_str': u'666695554118852612', u'retweet_count': 0, u'in_reply_to_user_id': 132385468, u'favorited': False, u'geo': None, u'in_reply_to_user_id_str': u'132385468', u'possibly_sensitive': False, u'lang': u'und', u'created_at': u'Tue Nov 17 19:13:01 +0000 2015', u'in_reply_to_status_id_str': u'665795765965627392', u'place': None}, u'is_translation_enabled': False, u'utc_offset': None, u'statuses_count': 2, u'description': u'', u'friends_count': 83, u'location': u'', u'profile_link_color': u'0084B4', u'profile_image_url': u'http://pbs.twimg.com/profile_images/660479279126327296/_lT96QB6_normal.jpg', u'following': False, u'geo_enabled': False, u'blocking': False, u'profile_background_image_url': u'http://abs.twimg.com/images/themes/theme1/bg.png', u'screen_name': u'singhsaloni1151', u'lang': u'en', u'profile_background_tile': False, u'favourites_count': 2, u'name': u'singhsaloni', u'notifications': False, u'url': None, u'created_at': u'Sat Oct 31 12:40:11 +0000 2015', u'contributors_enabled': False, u'time_zone': None, u'protected': False, u'default_profile': True, u'is_translator': False} \n",
      " \n",
      " {u'follow_request_sent': False, u'has_extended_profile': False, u'profile_use_background_image': True, u'default_profile_image': False, u'id': 784697640, u'profile_background_image_url_https': u'https://abs.twimg.com/images/themes/theme1/bg.png', u'verified': False, u'blocked_by': False, u'profile_text_color': u'333333', u'muting': False, u'profile_image_url_https': u'https://pbs.twimg.com/profile_images/2548919186/SB_I_-_Abhijit_Khuperkar_normal.jpg', u'profile_sidebar_fill_color': u'DDEEF6', u'entities': {u'description': {u'urls': []}}, u'followers_count': 48, u'profile_sidebar_border_color': u'C0DEED', u'id_str': u'784697640', u'profile_background_color': u'C0DEED', u'listed_count': 17, u'status': {u'contributors': None, u'truncated': False, u'text': u\"8 cities showing you how the world's #FutureCities  can be like https://t.co/1i1ygU5bLj via @WIRED\", u'in_reply_to_status_id': None, u'id': 674776602849374214, u'favorite_count': 1, u'source': u'<a href=\"http://twitter.com/download/android\" rel=\"nofollow\">Twitter for Android</a>', u'retweeted': False, u'coordinates': None, u'entities': {u'symbols': [], u'user_mentions': [{u'id': 1344951, u'indices': [92, 98], u'id_str': u'1344951', u'screen_name': u'WIRED', u'name': u'WIRED'}], u'hashtags': [{u'indices': [37, 50], u'text': u'FutureCities'}], u'urls': [{u'url': u'https://t.co/1i1ygU5bLj', u'indices': [64, 87], u'expanded_url': u'http://www.wired.com/2015/09/design-issue-future-of-cities/', u'display_url': u'wired.com/2015/09/design\\u2026'}]}, u'in_reply_to_screen_name': None, u'id_str': u'674776602849374214', u'retweet_count': 1, u'in_reply_to_user_id': None, u'favorited': False, u'geo': None, u'in_reply_to_user_id_str': None, u'possibly_sensitive': False, u'lang': u'en', u'created_at': u'Thu Dec 10 02:24:13 +0000 2015', u'in_reply_to_status_id_str': None, u'place': None}, u'is_translation_enabled': False, u'utc_offset': None, u'statuses_count': 130, u'description': u'', u'friends_count': 189, u'location': u'', u'profile_link_color': u'0084B4', u'profile_image_url': u'http://pbs.twimg.com/profile_images/2548919186/SB_I_-_Abhijit_Khuperkar_normal.jpg', u'following': False, u'geo_enabled': False, u'blocking': False, u'profile_background_image_url': u'http://abs.twimg.com/images/themes/theme1/bg.png', u'screen_name': u'akhuperkar', u'lang': u'en', u'profile_background_tile': False, u'favourites_count': 85, u'name': u'Abhijit Khuperkar', u'notifications': False, u'url': None, u'created_at': u'Mon Aug 27 13:46:18 +0000 2012', u'contributors_enabled': False, u'time_zone': None, u'protected': False, u'default_profile': True, u'is_translator': False} \n",
      " \n",
      " {u'follow_request_sent': False, u'has_extended_profile': True, u'profile_use_background_image': True, u'default_profile_image': False, u'id': 91078221, u'profile_background_image_url_https': u'https://pbs.twimg.com/profile_background_images/378800000116019488/d3832fe2829b78df3a86d3c828e507a8.jpeg', u'verified': False, u'blocked_by': False, u'profile_text_color': u'3C3940', u'muting': False, u'profile_image_url_https': u'https://pbs.twimg.com/profile_images/675019967838879744/ns29pen9_normal.jpg', u'profile_sidebar_fill_color': u'95E8EC', u'entities': {u'description': {u'urls': []}}, u'followers_count': 68, u'profile_sidebar_border_color': u'000000', u'id_str': u'91078221', u'profile_background_color': u'0099B9', u'listed_count': 4, u'status': {u'contributors': None, u'truncated': False, u'text': u'Holding on for life \\U0001f3b8 @elliegoulding https://t.co/7CEt3ZpDbK', u'in_reply_to_status_id': None, u'id': 675019431366385668, u'favorite_count': 1, u'source': u'<a href=\"http://twitter.com/download/android\" rel=\"nofollow\">Twitter for Android</a>', u'retweeted': False, u'coordinates': None, u'entities': {u'symbols': [], u'user_mentions': [{u'id': 20565284, u'indices': [22, 36], u'id_str': u'20565284', u'screen_name': u'elliegoulding', u'name': u'Ellie Goulding'}], u'hashtags': [], u'urls': [], u'media': [{u'expanded_url': u'http://twitter.com/shash_007/status/675019431366385668/photo/1', u'display_url': u'pic.twitter.com/7CEt3ZpDbK', u'url': u'https://t.co/7CEt3ZpDbK', u'media_url_https': u'https://pbs.twimg.com/media/CV4mlBgU4AANVYz.jpg', u'id_str': u'675019411653189632', u'sizes': {u'large': {u'h': 1006, u'resize': u'fit', u'w': 720}, u'small': {u'h': 475, u'resize': u'fit', u'w': 340}, u'medium': {u'h': 838, u'resize': u'fit', u'w': 600}, u'thumb': {u'h': 150, u'resize': u'crop', u'w': 150}}, u'indices': [37, 60], u'type': u'photo', u'id': 675019411653189632, u'media_url': u'http://pbs.twimg.com/media/CV4mlBgU4AANVYz.jpg'}]}, u'in_reply_to_screen_name': None, u'id_str': u'675019431366385668', u'retweet_count': 0, u'in_reply_to_user_id': None, u'favorited': False, u'geo': None, u'in_reply_to_user_id_str': None, u'possibly_sensitive': False, u'lang': u'en', u'created_at': u'Thu Dec 10 18:29:08 +0000 2015', u'in_reply_to_status_id_str': None, u'place': None}, u'is_translation_enabled': False, u'utc_offset': -36000, u'statuses_count': 1117, u'description': u'#DataScientist : \\nLearning how to swim in the sea of #BigData', u'friends_count': 369, u'location': u'Mumbai ', u'profile_link_color': u'4A913C', u'profile_image_url': u'http://pbs.twimg.com/profile_images/675019967838879744/ns29pen9_normal.jpg', u'following': False, u'geo_enabled': True, u'profile_banner_url': u'https://pbs.twimg.com/profile_banners/91078221/1442039105', u'blocking': False, u'profile_background_image_url': u'http://pbs.twimg.com/profile_background_images/378800000116019488/d3832fe2829b78df3a86d3c828e507a8.jpeg', u'screen_name': u'shash_007', u'lang': u'en', u'profile_background_tile': True, u'favourites_count': 467, u'name': u'Shashwat Chaturvedi', u'notifications': False, u'url': None, u'created_at': u'Thu Nov 19 10:37:42 +0000 2009', u'contributors_enabled': False, u'time_zone': u'Hawaii', u'protected': False, u'default_profile': False, u'is_translator': False} \n",
      " \n",
      " {u'follow_request_sent': False, u'has_extended_profile': False, u'profile_use_background_image': True, u'default_profile_image': False, u'id': 4070090058, u'profile_background_image_url_https': u'https://abs.twimg.com/images/themes/theme1/bg.png', u'verified': False, u'blocked_by': False, u'profile_text_color': u'333333', u'muting': False, u'profile_image_url_https': u'https://pbs.twimg.com/profile_images/660456430726594561/54sEr7WG_normal.png', u'profile_sidebar_fill_color': u'DDEEF6', u'entities': {u'url': {u'urls': [{u'url': u'https://t.co/JmtxagocxY', u'indices': [0, 23], u'expanded_url': u'http://bit.ly/ChaturBalakOnYouTube', u'display_url': u'bit.ly/ChaturBalakOnY\\u2026'}]}, u'description': {u'urls': []}}, u'followers_count': 21, u'profile_sidebar_border_color': u'C0DEED', u'id_str': u'4070090058', u'profile_background_color': u'C0DEED', u'listed_count': 1, u'status': {u'contributors': None, u'truncated': False, u'text': u'@vaibhavtalwar New YT channel. Your feedback. Everything you need to know about #BCCI Presidential Election https://t.co/zkSgpJaqIZ', u'in_reply_to_status_id': None, u'id': 673181182864064512, u'favorite_count': 0, u'source': u'<a href=\"http://twitter.com/download/iphone\" rel=\"nofollow\">Twitter for iPhone</a>', u'retweeted': False, u'coordinates': None, u'entities': {u'symbols': [], u'user_mentions': [{u'id': 106745070, u'indices': [0, 14], u'id_str': u'106745070', u'screen_name': u'vaibhavtalwar', u'name': u'vaibhav talwar'}], u'hashtags': [{u'indices': [80, 85], u'text': u'BCCI'}], u'urls': [{u'url': u'https://t.co/zkSgpJaqIZ', u'indices': [108, 131], u'expanded_url': u'http://bit.ly/BCCIPresidentElection', u'display_url': u'bit.ly/BCCIPresidentE\\u2026'}]}, u'in_reply_to_screen_name': u'vaibhavtalwar', u'id_str': u'673181182864064512', u'retweet_count': 0, u'in_reply_to_user_id': 106745070, u'favorited': False, u'geo': None, u'in_reply_to_user_id_str': u'106745070', u'possibly_sensitive': False, u'lang': u'en', u'created_at': u'Sat Dec 05 16:44:35 +0000 2015', u'in_reply_to_status_id_str': None, u'place': None}, u'is_translation_enabled': False, u'utc_offset': 19800, u'statuses_count': 20, u'description': u'Evolve from where you were yesterday', u'friends_count': 27, u'location': u'', u'profile_link_color': u'0084B4', u'profile_image_url': u'http://pbs.twimg.com/profile_images/660456430726594561/54sEr7WG_normal.png', u'following': True, u'geo_enabled': False, u'blocking': False, u'profile_background_image_url': u'http://abs.twimg.com/images/themes/theme1/bg.png', u'screen_name': u'ChaturBalakSays', u'lang': u'en', u'profile_background_tile': False, u'favourites_count': 2, u'name': u'Chatur Balak', u'notifications': False, u'url': u'https://t.co/JmtxagocxY', u'created_at': u'Fri Oct 30 15:57:25 +0000 2015', u'contributors_enabled': False, u'time_zone': u'Mumbai', u'protected': False, u'default_profile': True, u'is_translator': False} \n",
      " \n",
      " {u'follow_request_sent': False, u'has_extended_profile': False, u'profile_use_background_image': True, u'default_profile_image': False, u'id': 1553033706, u'profile_background_image_url_https': u'https://abs.twimg.com/images/themes/theme1/bg.png', u'verified': False, u'blocked_by': False, u'profile_text_color': u'333333', u'muting': False, u'profile_image_url_https': u'https://pbs.twimg.com/profile_images/448705623958360064/fZj_wKMF_normal.jpeg', u'profile_sidebar_fill_color': u'DDEEF6', u'entities': {u'url': {u'urls': [{u'url': u'http://t.co/4C09mezEO6', u'indices': [0, 22], u'expanded_url': u'http://www.meetup.com/MumbaiRB/', u'display_url': u'meetup.com/MumbaiRB/'}]}, u'description': {u'urls': []}}, u'followers_count': 242, u'profile_sidebar_border_color': u'C0DEED', u'id_str': u'1553033706', u'profile_background_color': u'C0DEED', u'listed_count': 11, u'status': {u'contributors': None, u'truncated': False, u'text': u'RT @BilalBudhani: I wrote a blog post on \"How to create self hosted Heroku like server in 5 simple steps\" https://t.co/0yIZBGsyVQ', u'in_reply_to_status_id': None, u'id': 674509547910774784, u'favorite_count': 0, u'source': u'<a href=\"http://twitter.com/download/iphone\" rel=\"nofollow\">Twitter for iPhone</a>', u'retweeted': False, u'coordinates': None, u'entities': {u'symbols': [], u'user_mentions': [{u'id': 120755450, u'indices': [3, 16], u'id_str': u'120755450', u'screen_name': u'BilalBudhani', u'name': u'Bilal Budhani'}], u'hashtags': [], u'urls': [{u'url': u'https://t.co/0yIZBGsyVQ', u'indices': [106, 129], u'expanded_url': u'https://medium.com/@bilalbudhani/how-to-create-self-hosted-heroku-like-server-in-5-simple-steps-fd100e4e0cbd', u'display_url': u'medium.com/@bilalbudhani/\\u2026'}]}, u'in_reply_to_screen_name': None, u'id_str': u'674509547910774784', u'retweet_count': 1, u'in_reply_to_user_id': None, u'favorited': False, u'retweeted_status': {u'contributors': None, u'truncated': False, u'text': u'I wrote a blog post on \"How to create self hosted Heroku like server in 5 simple steps\" https://t.co/0yIZBGsyVQ', u'in_reply_to_status_id': None, u'id': 672747450109677568, u'favorite_count': 7, u'source': u'<a href=\"http://twitter.com\" rel=\"nofollow\">Twitter Web Client</a>', u'retweeted': False, u'coordinates': None, u'entities': {u'symbols': [], u'user_mentions': [], u'hashtags': [], u'urls': [{u'url': u'https://t.co/0yIZBGsyVQ', u'indices': [88, 111], u'expanded_url': u'https://medium.com/@bilalbudhani/how-to-create-self-hosted-heroku-like-server-in-5-simple-steps-fd100e4e0cbd', u'display_url': u'medium.com/@bilalbudhani/\\u2026'}]}, u'in_reply_to_screen_name': None, u'id_str': u'672747450109677568', u'retweet_count': 1, u'in_reply_to_user_id': None, u'favorited': False, u'geo': None, u'in_reply_to_user_id_str': None, u'possibly_sensitive': False, u'lang': u'en', u'created_at': u'Fri Dec 04 12:01:05 +0000 2015', u'in_reply_to_status_id_str': None, u'place': None}, u'geo': None, u'in_reply_to_user_id_str': None, u'possibly_sensitive': False, u'lang': u'en', u'created_at': u'Wed Dec 09 08:43:02 +0000 2015', u'in_reply_to_status_id_str': None, u'place': None}, u'is_translation_enabled': False, u'utc_offset': 19800, u'statuses_count': 209, u'description': u'A community for Mumbai rubyist and devs.', u'friends_count': 51, u'location': u'Mumbai', u'profile_link_color': u'0084B4', u'profile_image_url': u'http://pbs.twimg.com/profile_images/448705623958360064/fZj_wKMF_normal.jpeg', u'following': True, u'geo_enabled': False, u'profile_banner_url': u'https://pbs.twimg.com/profile_banners/1553033706/1403361675', u'blocking': False, u'profile_background_image_url': u'http://abs.twimg.com/images/themes/theme1/bg.png', u'screen_name': u'Mumbairb', u'lang': u'en', u'profile_background_tile': False, u'favourites_count': 15, u'name': u'Mumbai Ruby Group', u'notifications': False, u'url': u'http://t.co/4C09mezEO6', u'created_at': u'Fri Jun 28 13:08:10 +0000 2013', u'contributors_enabled': False, u'time_zone': u'Mumbai', u'protected': False, u'default_profile': True, u'is_translator': False} \n",
      " \n",
      " {u'follow_request_sent': False, u'has_extended_profile': False, u'profile_use_background_image': True, u'default_profile_image': False, u'id': 4026866234, u'profile_background_image_url_https': u'https://abs.twimg.com/images/themes/theme1/bg.png', u'verified': False, u'blocked_by': False, u'profile_text_color': u'333333', u'muting': False, u'profile_image_url_https': u'https://pbs.twimg.com/profile_images/658712486510653440/aKglYOap_normal.jpg', u'profile_sidebar_fill_color': u'DDEEF6', u'entities': {u'description': {u'urls': []}}, u'followers_count': 28, u'profile_sidebar_border_color': u'C0DEED', u'id_str': u'4026866234', u'profile_background_color': u'C0DEED', u'listed_count': 0, u'status': {u'contributors': None, u'truncated': False, u'text': u'RT @Thalaajith_page: #Vedalam Movie Cast Update \\U0001f44d \\r\\r#ThalaDiwali #TherikkaVidalaama https://t.co/MOYaKl10KM', u'in_reply_to_status_id': None, u'id': 658711493387550720, u'favorite_count': 0, u'source': u'<a href=\"http://twitter.com/download/android\" rel=\"nofollow\">Twitter for Android</a>', u'retweeted': False, u'coordinates': None, u'entities': {u'symbols': [], u'user_mentions': [{u'id': 734819694, u'indices': [3, 19], u'id_str': u'734819694', u'screen_name': u'Thalaajith_page', u'name': u'Thala Ajith'}], u'hashtags': [{u'indices': [21, 29], u'text': u'Vedalam'}, {u'indices': [52, 64], u'text': u'ThalaDiwali'}, {u'indices': [65, 83], u'text': u'TherikkaVidalaama'}], u'urls': [], u'media': [{u'source_user_id': 734819694, u'source_status_id_str': u'658286702885126144', u'expanded_url': u'http://twitter.com/Thalaajith_page/status/658286702885126144/photo/1', u'display_url': u'pic.twitter.com/MOYaKl10KM', u'url': u'https://t.co/MOYaKl10KM', u'media_url_https': u'https://pbs.twimg.com/media/CSK0Pw9UwAAfO2m.jpg', u'source_user_id_str': u'734819694', u'source_status_id': 658286702885126144, u'id_str': u'658286678482665472', u'sizes': {u'small': {u'h': 567, u'resize': u'fit', u'w': 340}, u'large': {u'h': 1024, u'resize': u'fit', u'w': 613}, u'medium': {u'h': 1002, u'resize': u'fit', u'w': 600}, u'thumb': {u'h': 150, u'resize': u'crop', u'w': 150}}, u'indices': [84, 107], u'type': u'photo', u'id': 658286678482665472, u'media_url': u'http://pbs.twimg.com/media/CSK0Pw9UwAAfO2m.jpg'}]}, u'in_reply_to_screen_name': None, u'id_str': u'658711493387550720', u'retweet_count': 96, u'in_reply_to_user_id': None, u'favorited': False, u'retweeted_status': {u'contributors': None, u'truncated': False, u'text': u'#Vedalam Movie Cast Update \\U0001f44d \\r\\r#ThalaDiwali #TherikkaVidalaama https://t.co/MOYaKl10KM', u'in_reply_to_status_id': None, u'id': 658286702885126144, u'favorite_count': 137, u'source': u'<a href=\"http://twitter.com/download/iphone\" rel=\"nofollow\">Twitter for iPhone</a>', u'retweeted': False, u'coordinates': None, u'entities': {u'symbols': [], u'user_mentions': [], u'hashtags': [{u'indices': [0, 8], u'text': u'Vedalam'}, {u'indices': [31, 43], u'text': u'ThalaDiwali'}, {u'indices': [44, 62], u'text': u'TherikkaVidalaama'}], u'urls': [], u'media': [{u'expanded_url': u'http://twitter.com/Thalaajith_page/status/658286702885126144/photo/1', u'display_url': u'pic.twitter.com/MOYaKl10KM', u'url': u'https://t.co/MOYaKl10KM', u'media_url_https': u'https://pbs.twimg.com/media/CSK0Pw9UwAAfO2m.jpg', u'id_str': u'658286678482665472', u'sizes': {u'small': {u'h': 567, u'resize': u'fit', u'w': 340}, u'large': {u'h': 1024, u'resize': u'fit', u'w': 613}, u'medium': {u'h': 1002, u'resize': u'fit', u'w': 600}, u'thumb': {u'h': 150, u'resize': u'crop', u'w': 150}}, u'indices': [63, 86], u'type': u'photo', u'id': 658286678482665472, u'media_url': u'http://pbs.twimg.com/media/CSK0Pw9UwAAfO2m.jpg'}]}, u'in_reply_to_screen_name': None, u'id_str': u'658286702885126144', u'retweet_count': 96, u'in_reply_to_user_id': None, u'favorited': False, u'geo': None, u'in_reply_to_user_id_str': None, u'possibly_sensitive': False, u'lang': u'en', u'created_at': u'Sun Oct 25 14:19:15 +0000 2015', u'in_reply_to_status_id_str': None, u'place': None}, u'geo': None, u'in_reply_to_user_id_str': None, u'possibly_sensitive': False, u'lang': u'en', u'created_at': u'Mon Oct 26 18:27:12 +0000 2015', u'in_reply_to_status_id_str': None, u'place': None}, u'is_translation_enabled': False, u'utc_offset': None, u'statuses_count': 2, u'description': u'', u'friends_count': 315, u'location': u'', u'profile_link_color': u'0084B4', u'profile_image_url': u'http://pbs.twimg.com/profile_images/658712486510653440/aKglYOap_normal.jpg', u'following': False, u'geo_enabled': False, u'blocking': False, u'profile_background_image_url': u'http://abs.twimg.com/images/themes/theme1/bg.png', u'screen_name': u'JawaharKeerthi', u'lang': u'en', u'profile_background_tile': False, u'favourites_count': 2, u'name': u'Jawahar, keerthi', u'notifications': False, u'url': None, u'created_at': u'Mon Oct 26 17:59:53 +0000 2015', u'contributors_enabled': False, u'time_zone': None, u'protected': False, u'default_profile': True, u'is_translator': False} \n",
      " \n",
      " {u'follow_request_sent': False, u'has_extended_profile': False, u'profile_use_background_image': True, u'default_profile_image': False, u'id': 3220011176, u'profile_background_image_url_https': u'https://abs.twimg.com/images/themes/theme1/bg.png', u'verified': False, u'blocked_by': False, u'profile_text_color': u'333333', u'muting': False, u'profile_image_url_https': u'https://pbs.twimg.com/profile_images/669500687701577729/Ec-RCXNS_normal.jpg', u'profile_sidebar_fill_color': u'DDEEF6', u'entities': {u'description': {u'urls': []}}, u'followers_count': 14, u'profile_sidebar_border_color': u'C0DEED', u'id_str': u'3220011176', u'profile_background_color': u'C0DEED', u'listed_count': 0, u'status': {u'contributors': None, u'truncated': False, u'text': u'RT @htTweets: Smoke signals: E-cigarettes cause severe respiratory diseases https://t.co/uWhiWbMBRu https://t.co/2GLqhJkOY9', u'in_reply_to_status_id': None, u'id': 674834068790517760, u'favorite_count': 0, u'source': u'<a href=\"http://twitter.com/download/android\" rel=\"nofollow\">Twitter for Android</a>', u'retweeted': False, u'coordinates': None, u'entities': {u'symbols': [], u'user_mentions': [{u'id': 36327407, u'indices': [3, 12], u'id_str': u'36327407', u'screen_name': u'htTweets', u'name': u'Hindustan Times'}], u'hashtags': [], u'urls': [{u'url': u'https://t.co/uWhiWbMBRu', u'indices': [76, 99], u'expanded_url': u'http://read.ht/yBp', u'display_url': u'read.ht/yBp'}], u'media': [{u'source_user_id': 36327407, u'source_status_id_str': u'674657312410238976', u'expanded_url': u'http://twitter.com/htTweets/status/674657312410238976/photo/1', u'display_url': u'pic.twitter.com/2GLqhJkOY9', u'url': u'https://t.co/2GLqhJkOY9', u'media_url_https': u'https://pbs.twimg.com/media/CVybGbUW4AQ43Jk.jpg', u'source_user_id_str': u'36327407', u'source_status_id': 674657312410238976, u'id_str': u'674584578913394692', u'sizes': {u'small': {u'h': 192, u'resize': u'fit', u'w': 340}, u'large': {u'h': 362, u'resize': u'fit', u'w': 640}, u'medium': {u'h': 339, u'resize': u'fit', u'w': 600}, u'thumb': {u'h': 150, u'resize': u'crop', u'w': 150}}, u'indices': [100, 123], u'type': u'photo', u'id': 674584578913394692, u'media_url': u'http://pbs.twimg.com/media/CVybGbUW4AQ43Jk.jpg'}]}, u'in_reply_to_screen_name': None, u'id_str': u'674834068790517760', u'retweet_count': 24, u'in_reply_to_user_id': None, u'favorited': False, u'retweeted_status': {u'contributors': None, u'truncated': False, u'text': u'Smoke signals: E-cigarettes cause severe respiratory diseases https://t.co/uWhiWbMBRu https://t.co/2GLqhJkOY9', u'in_reply_to_status_id': None, u'id': 674657312410238976, u'favorite_count': 17, u'source': u'<a href=\"https://about.twitter.com/products/tweetdeck\" rel=\"nofollow\">TweetDeck</a>', u'retweeted': False, u'coordinates': None, u'entities': {u'symbols': [], u'user_mentions': [], u'hashtags': [], u'urls': [{u'url': u'https://t.co/uWhiWbMBRu', u'indices': [62, 85], u'expanded_url': u'http://read.ht/yBp', u'display_url': u'read.ht/yBp'}], u'media': [{u'expanded_url': u'http://twitter.com/htTweets/status/674657312410238976/photo/1', u'display_url': u'pic.twitter.com/2GLqhJkOY9', u'url': u'https://t.co/2GLqhJkOY9', u'media_url_https': u'https://pbs.twimg.com/media/CVybGbUW4AQ43Jk.jpg', u'id_str': u'674584578913394692', u'sizes': {u'small': {u'h': 192, u'resize': u'fit', u'w': 340}, u'large': {u'h': 362, u'resize': u'fit', u'w': 640}, u'medium': {u'h': 339, u'resize': u'fit', u'w': 600}, u'thumb': {u'h': 150, u'resize': u'crop', u'w': 150}}, u'indices': [86, 109], u'type': u'photo', u'id': 674584578913394692, u'media_url': u'http://pbs.twimg.com/media/CVybGbUW4AQ43Jk.jpg'}]}, u'in_reply_to_screen_name': None, u'id_str': u'674657312410238976', u'retweet_count': 24, u'in_reply_to_user_id': None, u'favorited': False, u'geo': None, u'in_reply_to_user_id_str': None, u'possibly_sensitive': False, u'lang': u'en', u'created_at': u'Wed Dec 09 18:30:12 +0000 2015', u'in_reply_to_status_id_str': None, u'place': None}, u'geo': None, u'in_reply_to_user_id_str': None, u'possibly_sensitive': False, u'lang': u'en', u'created_at': u'Thu Dec 10 06:12:34 +0000 2015', u'in_reply_to_status_id_str': None, u'place': None}, u'is_translation_enabled': False, u'utc_offset': None, u'statuses_count': 26, u'description': u'', u'friends_count': 169, u'location': u'', u'profile_link_color': u'0084B4', u'profile_image_url': u'http://pbs.twimg.com/profile_images/669500687701577729/Ec-RCXNS_normal.jpg', u'following': False, u'geo_enabled': False, u'profile_banner_url': u'https://pbs.twimg.com/profile_banners/3220011176/1434366263', u'blocking': False, u'profile_background_image_url': u'http://abs.twimg.com/images/themes/theme1/bg.png', u'screen_name': u'cskofjbims', u'lang': u'en', u'profile_background_tile': False, u'favourites_count': 40, u'name': u'Chandrashekhar SK', u'notifications': False, u'url': None, u'created_at': u'Tue May 19 05:15:17 +0000 2015', u'contributors_enabled': False, u'time_zone': None, u'protected': False, u'default_profile': True, u'is_translator': False} \n",
      " \n",
      " {u'follow_request_sent': False, u'has_extended_profile': False, u'profile_use_background_image': True, u'default_profile_image': True, u'id': 3961969454, u'profile_background_image_url_https': u'https://abs.twimg.com/images/themes/theme1/bg.png', u'verified': False, u'blocked_by': False, u'profile_text_color': u'333333', u'muting': False, u'profile_image_url_https': u'https://abs.twimg.com/sticky/default_profile_images/default_profile_2_normal.png', u'profile_sidebar_fill_color': u'DDEEF6', u'entities': {u'description': {u'urls': []}}, u'followers_count': 0, u'profile_sidebar_border_color': u'C0DEED', u'id_str': u'3961969454', u'profile_background_color': u'C0DEED', u'listed_count': 0, u'is_translation_enabled': False, u'utc_offset': None, u'statuses_count': 0, u'description': u'', u'friends_count': 10, u'location': u'', u'profile_link_color': u'0084B4', u'profile_image_url': u'http://abs.twimg.com/sticky/default_profile_images/default_profile_2_normal.png', u'following': False, u'geo_enabled': False, u'blocking': False, u'profile_background_image_url': u'http://abs.twimg.com/images/themes/theme1/bg.png', u'screen_name': u'17lokeshm', u'lang': u'en', u'profile_background_tile': False, u'favourites_count': 0, u'name': u'lokesh kumar luha', u'notifications': False, u'url': None, u'created_at': u'Tue Oct 20 21:10:15 +0000 2015', u'contributors_enabled': False, u'time_zone': None, u'protected': False, u'default_profile': True, u'is_translator': False} \n",
      " \n",
      " {u'follow_request_sent': False, u'has_extended_profile': False, u'profile_use_background_image': False, u'default_profile_image': False, u'id': 56971464, u'profile_background_image_url_https': u'https://abs.twimg.com/images/themes/theme14/bg.gif', u'verified': False, u'blocked_by': False, u'profile_text_color': u'000000', u'muting': False, u'profile_image_url_https': u'https://pbs.twimg.com/profile_images/636604706878427136/my40fnvC_normal.jpg', u'profile_sidebar_fill_color': u'000000', u'entities': {u'description': {u'urls': []}}, u'followers_count': 137, u'profile_sidebar_border_color': u'000000', u'id_str': u'56971464', u'profile_background_color': u'000000', u'listed_count': 4, u'status': {u'contributors': None, u'truncated': False, u'text': u'RT @BelongCo: Use LinkedIn to show off what a great company you are to work for, like @InMobi https://t.co/WdVaLTmMjH #branding #HR', u'in_reply_to_status_id': None, u'id': 670219316713750528, u'favorite_count': 0, u'source': u'<a href=\"http://twitter.com/download/android\" rel=\"nofollow\">Twitter for Android</a>', u'retweeted': False, u'coordinates': None, u'entities': {u'symbols': [], u'user_mentions': [{u'id': 3155110458, u'indices': [3, 12], u'id_str': u'3155110458', u'screen_name': u'BelongCo', u'name': u'Belong.co'}, {u'id': 37620562, u'indices': [86, 93], u'id_str': u'37620562', u'screen_name': u'InMobi', u'name': u'InMobi'}], u'hashtags': [{u'indices': [118, 127], u'text': u'branding'}, {u'indices': [128, 131], u'text': u'HR'}], u'urls': [{u'url': u'https://t.co/WdVaLTmMjH', u'indices': [94, 117], u'expanded_url': u'http://belo.ng/1X2dZFx', u'display_url': u'belo.ng/1X2dZFx'}]}, u'in_reply_to_screen_name': None, u'id_str': u'670219316713750528', u'retweet_count': 2, u'in_reply_to_user_id': None, u'favorited': False, u'retweeted_status': {u'contributors': None, u'truncated': False, u'text': u'Use LinkedIn to show off what a great company you are to work for, like @InMobi https://t.co/WdVaLTmMjH #branding #HR', u'in_reply_to_status_id': None, u'id': 670158382326808576, u'favorite_count': 4, u'source': u'<a href=\"http://www.hubspot.com/\" rel=\"nofollow\">HubSpot</a>', u'retweeted': False, u'coordinates': None, u'entities': {u'symbols': [], u'user_mentions': [{u'id': 37620562, u'indices': [72, 79], u'id_str': u'37620562', u'screen_name': u'InMobi', u'name': u'InMobi'}], u'hashtags': [{u'indices': [104, 113], u'text': u'branding'}, {u'indices': [114, 117], u'text': u'HR'}], u'urls': [{u'url': u'https://t.co/WdVaLTmMjH', u'indices': [80, 103], u'expanded_url': u'http://belo.ng/1X2dZFx', u'display_url': u'belo.ng/1X2dZFx'}]}, u'in_reply_to_screen_name': None, u'id_str': u'670158382326808576', u'retweet_count': 2, u'in_reply_to_user_id': None, u'favorited': False, u'geo': None, u'in_reply_to_user_id_str': None, u'possibly_sensitive': False, u'lang': u'en', u'created_at': u'Fri Nov 27 08:33:03 +0000 2015', u'in_reply_to_status_id_str': None, u'place': None}, u'geo': None, u'in_reply_to_user_id_str': None, u'possibly_sensitive': False, u'lang': u'en', u'created_at': u'Fri Nov 27 12:35:11 +0000 2015', u'in_reply_to_status_id_str': None, u'place': None}, u'is_translation_enabled': False, u'utc_offset': 19800, u'statuses_count': 54, u'description': u'Data Scientist @BelongCo , IIT Kharagpur. Gunner fan. Interests are Math and Music ;Travel and Technology. Think and strive to make lives better & safe for all', u'friends_count': 203, u'location': u'Bengaluru, Karnataka', u'profile_link_color': u'3B94D9', u'profile_image_url': u'http://pbs.twimg.com/profile_images/636604706878427136/my40fnvC_normal.jpg', u'following': False, u'geo_enabled': True, u'blocking': False, u'profile_background_image_url': u'http://abs.twimg.com/images/themes/theme14/bg.gif', u'screen_name': u'nayangupta21', u'lang': u'en', u'profile_background_tile': False, u'favourites_count': 6, u'name': u'NAYAN GUPTA', u'notifications': False, u'url': None, u'created_at': u'Wed Jul 15 09:17:51 +0000 2009', u'contributors_enabled': False, u'time_zone': u'New Delhi', u'protected': False, u'default_profile': False, u'is_translator': False} \n",
      " \n",
      " {u'follow_request_sent': False, u'has_extended_profile': False, u'profile_use_background_image': True, u'default_profile_image': False, u'id': 90575481, u'profile_background_image_url_https': u'https://abs.twimg.com/images/themes/theme1/bg.png', u'verified': False, u'blocked_by': False, u'profile_text_color': u'333333', u'muting': False, u'profile_image_url_https': u'https://pbs.twimg.com/profile_images/665864765982400512/cAzkJjnf_normal.jpg', u'profile_sidebar_fill_color': u'DDEEF6', u'entities': {u'description': {u'urls': []}}, u'followers_count': 229, u'profile_sidebar_border_color': u'C0DEED', u'id_str': u'90575481', u'profile_background_color': u'C0DEED', u'listed_count': 13, u'status': {u'contributors': None, u'truncated': False, u'text': u'RT @ShereenBhan: We commit Rs 260 cr to flood relief, rehab efforts in Chennai @Cognizant talks to us on #ibhlive on the 4 pronged plan @CN\\u2026', u'in_reply_to_status_id': None, u'id': 674610528900149252, u'favorite_count': 0, u'source': u'<a href=\"http://twitter.com/download/android\" rel=\"nofollow\">Twitter for Android</a>', u'retweeted': False, u'coordinates': None, u'entities': {u'symbols': [], u'user_mentions': [{u'id': 96087281, u'indices': [3, 15], u'id_str': u'96087281', u'screen_name': u'ShereenBhan', u'name': u'Shereen Bhan '}, {u'id': 69687111, u'indices': [79, 89], u'id_str': u'69687111', u'screen_name': u'Cognizant', u'name': u'Cognizant'}, {u'id': 44839509, u'indices': [136, 140], u'id_str': u'44839509', u'screen_name': u'CNBCTV18Live', u'name': u'CNBC-TV18'}], u'hashtags': [{u'indices': [105, 113], u'text': u'ibhlive'}], u'urls': []}, u'in_reply_to_screen_name': None, u'id_str': u'674610528900149252', u'retweet_count': 23, u'in_reply_to_user_id': None, u'favorited': False, u'retweeted_status': {u'lang': u'en', u'favorited': False, u'entities': {u'symbols': [], u'user_mentions': [{u'id': 69687111, u'indices': [62, 72], u'id_str': u'69687111', u'screen_name': u'Cognizant', u'name': u'Cognizant'}, {u'id': 44839509, u'indices': [119, 132], u'id_str': u'44839509', u'screen_name': u'CNBCTV18Live', u'name': u'CNBC-TV18'}], u'hashtags': [{u'indices': [88, 96], u'text': u'ibhlive'}], u'urls': []}, u'contributors': None, u'truncated': False, u'text': u'We commit Rs 260 cr to flood relief, rehab efforts in Chennai @Cognizant talks to us on #ibhlive on the 4 pronged plan @CNBCTV18Live', u'created_at': u'Tue Dec 08 15:36:31 +0000 2015', u'retweeted': False, u'in_reply_to_status_id_str': None, u'coordinates': None, u'in_reply_to_user_id_str': None, u'source': u'<a href=\"http://twitter.com/download/iphone\" rel=\"nofollow\">Twitter for iPhone</a>', u'in_reply_to_status_id': None, u'in_reply_to_screen_name': None, u'id_str': u'674251216029749249', u'place': None, u'retweet_count': 23, u'geo': None, u'id': 674251216029749249, u'favorite_count': 19, u'in_reply_to_user_id': None}, u'geo': None, u'in_reply_to_user_id_str': None, u'lang': u'en', u'created_at': u'Wed Dec 09 15:24:18 +0000 2015', u'in_reply_to_status_id_str': None, u'place': None}, u'is_translation_enabled': False, u'utc_offset': None, u'statuses_count': 4374, u'description': u'Figuring out who I am', u'friends_count': 106, u'location': u'', u'profile_link_color': u'0084B4', u'profile_image_url': u'http://pbs.twimg.com/profile_images/665864765982400512/cAzkJjnf_normal.jpg', u'following': False, u'geo_enabled': True, u'blocking': False, u'profile_background_image_url': u'http://abs.twimg.com/images/themes/theme1/bg.png', u'screen_name': u'TrlManoj', u'lang': u'en', u'profile_background_tile': False, u'favourites_count': 6005, u'name': u'Manoj Amarchand Jain', u'notifications': False, u'url': None, u'created_at': u'Tue Nov 17 06:16:42 +0000 2009', u'contributors_enabled': False, u'time_zone': None, u'protected': False, u'default_profile': True, u'is_translator': False} \n",
      " \n",
      " {u'follow_request_sent': False, u'has_extended_profile': False, u'profile_use_background_image': True, u'default_profile_image': False, u'id': 807397338, u'profile_background_image_url_https': u'https://abs.twimg.com/images/themes/theme1/bg.png', u'verified': False, u'blocked_by': False, u'profile_text_color': u'333333', u'muting': False, u'profile_image_url_https': u'https://pbs.twimg.com/profile_images/585443681781415936/taIC2-LV_normal.jpg', u'profile_sidebar_fill_color': u'DDEEF6', u'entities': {u'description': {u'urls': []}}, u'followers_count': 13, u'profile_sidebar_border_color': u'C0DEED', u'id_str': u'807397338', u'profile_background_color': u'C0DEED', u'listed_count': 0, u'status': {u'lang': u'en', u'favorited': False, u'entities': {u'symbols': [], u'user_mentions': [{u'id': 61180382, u'indices': [0, 11], u'id_str': u'61180382', u'screen_name': u'VodafoneIN', u'name': u'Vodafone India'}], u'hashtags': [], u'urls': []}, u'contributors': None, u'truncated': False, u'text': u'@VodafoneIN I hope all OTPs SMS I have used for buying them are able to convince u in case of bill dispute for coming bill cycle.', u'created_at': u'Wed Sep 30 14:17:59 +0000 2015', u'retweeted': False, u'in_reply_to_status_id_str': u'649226122559811585', u'coordinates': None, u'in_reply_to_user_id_str': u'807397338', u'source': u'<a href=\"http://twitter.com/download/android\" rel=\"nofollow\">Twitter for Android</a>', u'in_reply_to_status_id': 649226122559811585, u'in_reply_to_screen_name': u'GeeteshArun', u'id_str': u'649226689633910784', u'place': None, u'retweet_count': 0, u'geo': None, u'id': 649226689633910784, u'favorite_count': 0, u'in_reply_to_user_id': 807397338}, u'is_translation_enabled': False, u'utc_offset': None, u'statuses_count': 102, u'description': u'', u'friends_count': 95, u'location': u'India', u'profile_link_color': u'0084B4', u'profile_image_url': u'http://pbs.twimg.com/profile_images/585443681781415936/taIC2-LV_normal.jpg', u'following': False, u'geo_enabled': False, u'blocking': False, u'profile_background_image_url': u'http://abs.twimg.com/images/themes/theme1/bg.png', u'screen_name': u'GeeteshArun', u'lang': u'en', u'profile_background_tile': False, u'favourites_count': 0, u'name': u'Arun', u'notifications': False, u'url': None, u'created_at': u'Thu Sep 06 18:55:00 +0000 2012', u'contributors_enabled': False, u'time_zone': None, u'protected': False, u'default_profile': True, u'is_translator': False} \n",
      " \n",
      " {u'follow_request_sent': False, u'has_extended_profile': False, u'profile_use_background_image': True, u'default_profile_image': False, u'id': 1878820603, u'profile_background_image_url_https': u'https://abs.twimg.com/images/themes/theme9/bg.gif', u'verified': False, u'blocked_by': False, u'profile_text_color': u'666666', u'muting': False, u'profile_image_url_https': u'https://pbs.twimg.com/profile_images/471962667507130370/Ok8QrakO_normal.jpeg', u'profile_sidebar_fill_color': u'252429', u'entities': {u'description': {u'urls': []}}, u'followers_count': 63, u'profile_sidebar_border_color': u'181A1E', u'id_str': u'1878820603', u'profile_background_color': u'1A1B1F', u'listed_count': 0, u'status': {u'contributors': None, u'truncated': False, u'text': u'RT @Akhilesh: @__bangpypers__ @BelongCo Office! https://t.co/MtAp9NlUMb', u'in_reply_to_status_id': None, u'id': 657874603738464256, u'favorite_count': 0, u'source': u'<a href=\"http://twitter.com\" rel=\"nofollow\">Twitter Web Client</a>', u'retweeted': False, u'coordinates': None, u'entities': {u'symbols': [], u'user_mentions': [{u'id': 8892362, u'indices': [3, 12], u'id_str': u'8892362', u'screen_name': u'Akhilesh', u'name': u'Akhilesh Ravishankar'}, {u'id': 2888874756, u'indices': [14, 29], u'id_str': u'2888874756', u'screen_name': u'__bangpypers__', u'name': u'BangPypers'}, {u'id': 3155110458, u'indices': [30, 39], u'id_str': u'3155110458', u'screen_name': u'BelongCo', u'name': u'Belong.co'}], u'hashtags': [], u'urls': [], u'media': [{u'source_user_id': 8892362, u'source_status_id_str': u'657809735131906048', u'expanded_url': u'http://twitter.com/Akhilesh/status/657809735131906048/photo/1', u'display_url': u'pic.twitter.com/MtAp9NlUMb', u'url': u'https://t.co/MtAp9NlUMb', u'media_url_https': u'https://pbs.twimg.com/media/CSECd__UwAAlOl8.jpg', u'source_user_id_str': u'8892362', u'source_status_id': 657809735131906048, u'id_str': u'657809734989299712', u'sizes': {u'large': {u'h': 768, u'resize': u'fit', u'w': 1024}, u'small': {u'h': 255, u'resize': u'fit', u'w': 340}, u'medium': {u'h': 450, u'resize': u'fit', u'w': 600}, u'thumb': {u'h': 150, u'resize': u'crop', u'w': 150}}, u'indices': [48, 71], u'type': u'photo', u'id': 657809734989299712, u'media_url': u'http://pbs.twimg.com/media/CSECd__UwAAlOl8.jpg'}]}, u'in_reply_to_screen_name': None, u'id_str': u'657874603738464256', u'retweet_count': 2, u'in_reply_to_user_id': None, u'favorited': False, u'retweeted_status': {u'contributors': None, u'truncated': False, u'text': u'@__bangpypers__ @BelongCo Office! https://t.co/MtAp9NlUMb', u'in_reply_to_status_id': None, u'id': 657809735131906048, u'favorite_count': 0, u'source': u'<a href=\"http://twitter.com/download/iphone\" rel=\"nofollow\">Twitter for iPhone</a>', u'retweeted': False, u'coordinates': None, u'entities': {u'symbols': [], u'user_mentions': [{u'id': 2888874756, u'indices': [0, 15], u'id_str': u'2888874756', u'screen_name': u'__bangpypers__', u'name': u'BangPypers'}, {u'id': 3155110458, u'indices': [16, 25], u'id_str': u'3155110458', u'screen_name': u'BelongCo', u'name': u'Belong.co'}], u'hashtags': [], u'urls': [], u'media': [{u'expanded_url': u'http://twitter.com/Akhilesh/status/657809735131906048/photo/1', u'display_url': u'pic.twitter.com/MtAp9NlUMb', u'url': u'https://t.co/MtAp9NlUMb', u'media_url_https': u'https://pbs.twimg.com/media/CSECd__UwAAlOl8.jpg', u'id_str': u'657809734989299712', u'sizes': {u'large': {u'h': 768, u'resize': u'fit', u'w': 1024}, u'small': {u'h': 255, u'resize': u'fit', u'w': 340}, u'medium': {u'h': 450, u'resize': u'fit', u'w': 600}, u'thumb': {u'h': 150, u'resize': u'crop', u'w': 150}}, u'indices': [34, 57], u'type': u'photo', u'id': 657809734989299712, u'media_url': u'http://pbs.twimg.com/media/CSECd__UwAAlOl8.jpg'}]}, u'in_reply_to_screen_name': u'__bangpypers__', u'id_str': u'657809735131906048', u'retweet_count': 2, u'in_reply_to_user_id': 2888874756, u'favorited': False, u'geo': None, u'in_reply_to_user_id_str': u'2888874756', u'possibly_sensitive': False, u'lang': u'en', u'created_at': u'Sat Oct 24 06:43:57 +0000 2015', u'in_reply_to_status_id_str': None, u'place': None}, u'geo': None, u'in_reply_to_user_id_str': None, u'possibly_sensitive': False, u'lang': u'en', u'created_at': u'Sat Oct 24 11:01:42 +0000 2015', u'in_reply_to_status_id_str': None, u'place': None}, u'is_translation_enabled': False, u'utc_offset': None, u'statuses_count': 20, u'description': u'', u'friends_count': 170, u'location': u'', u'profile_link_color': u'2FC2EF', u'profile_image_url': u'http://pbs.twimg.com/profile_images/471962667507130370/Ok8QrakO_normal.jpeg', u'following': False, u'geo_enabled': False, u'profile_banner_url': u'https://pbs.twimg.com/profile_banners/1878820603/1404412096', u'blocking': False, u'profile_background_image_url': u'http://abs.twimg.com/images/themes/theme9/bg.gif', u'screen_name': u'sumansai14', u'lang': u'en', u'profile_background_tile': False, u'favourites_count': 18, u'name': u'Sai Suman Prayaga', u'notifications': False, u'url': None, u'created_at': u'Wed Sep 18 09:28:14 +0000 2013', u'contributors_enabled': False, u'time_zone': None, u'protected': False, u'default_profile': False, u'is_translator': False} \n",
      " \n",
      " {u'follow_request_sent': False, u'has_extended_profile': False, u'profile_use_background_image': True, u'default_profile_image': True, u'id': 2704488079, u'profile_background_image_url_https': u'https://abs.twimg.com/images/themes/theme1/bg.png', u'verified': False, u'blocked_by': False, u'profile_text_color': u'333333', u'muting': False, u'profile_image_url_https': u'https://abs.twimg.com/sticky/default_profile_images/default_profile_6_normal.png', u'profile_sidebar_fill_color': u'DDEEF6', u'entities': {u'description': {u'urls': []}}, u'followers_count': 21, u'profile_sidebar_border_color': u'C0DEED', u'id_str': u'2704488079', u'profile_background_color': u'C0DEED', u'listed_count': 0, u'status': {u'contributors': None, u'truncated': False, u'text': u'@narendramodi \\nDear sir plz order any central agency to audit ADEL Landmark for the multi crore scandal \\nhttp://t.co/Fqhd6nVkIw', u'in_reply_to_status_id': None, u'id': 636726767969964033, u'favorite_count': 0, u'source': u'<a href=\"http://twitter.com/download/android\" rel=\"nofollow\">Twitter for Android</a>', u'retweeted': False, u'coordinates': None, u'entities': {u'symbols': [], u'user_mentions': [{u'id': 18839785, u'indices': [0, 13], u'id_str': u'18839785', u'screen_name': u'narendramodi', u'name': u'Narendra Modi'}], u'hashtags': [], u'urls': [{u'url': u'http://t.co/Fqhd6nVkIw', u'indices': [105, 127], u'expanded_url': u'http://m.timesofindia.com/city/gurgaon/Court-arrest-warrants-on-4-realty-firm-directors/articleshow/47903881.cms', u'display_url': u'm.timesofindia.com/city/gurgaon/C\\u2026'}]}, u'in_reply_to_screen_name': u'narendramodi', u'id_str': u'636726767969964033', u'retweet_count': 0, u'in_reply_to_user_id': 18839785, u'favorited': False, u'geo': None, u'in_reply_to_user_id_str': u'18839785', u'possibly_sensitive': False, u'lang': u'en', u'created_at': u'Thu Aug 27 02:27:45 +0000 2015', u'in_reply_to_status_id_str': None, u'place': None}, u'is_translation_enabled': False, u'utc_offset': None, u'statuses_count': 3, u'description': u'', u'friends_count': 167, u'location': u'', u'profile_link_color': u'0084B4', u'profile_image_url': u'http://abs.twimg.com/sticky/default_profile_images/default_profile_6_normal.png', u'following': False, u'geo_enabled': False, u'blocking': False, u'profile_background_image_url': u'http://abs.twimg.com/images/themes/theme1/bg.png', u'screen_name': u'nirmalloshali1', u'lang': u'en', u'profile_background_tile': False, u'favourites_count': 0, u'name': u'nirmalloshali@gmail.', u'notifications': False, u'url': None, u'created_at': u'Sun Aug 03 16:29:00 +0000 2014', u'contributors_enabled': False, u'time_zone': None, u'protected': False, u'default_profile': True, u'is_translator': False} \n",
      " \n",
      " {u'follow_request_sent': False, u'has_extended_profile': False, u'profile_use_background_image': True, u'default_profile_image': False, u'id': 153634195, u'profile_background_image_url_https': u'https://abs.twimg.com/images/themes/theme1/bg.png', u'verified': False, u'blocked_by': False, u'profile_text_color': u'333333', u'muting': False, u'profile_image_url_https': u'https://pbs.twimg.com/profile_images/464642153411391488/5RMoyo_9_normal.jpeg', u'profile_sidebar_fill_color': u'DDEEF6', u'entities': {u'description': {u'urls': []}}, u'followers_count': 62, u'profile_sidebar_border_color': u'C0DEED', u'id_str': u'153634195', u'profile_background_color': u'C0DEED', u'listed_count': 0, u'is_translation_enabled': False, u'utc_offset': 19800, u'statuses_count': 30, u'description': u'', u'friends_count': 408, u'location': u'', u'profile_link_color': u'0084B4', u'profile_image_url': u'http://pbs.twimg.com/profile_images/464642153411391488/5RMoyo_9_normal.jpeg', u'following': False, u'geo_enabled': False, u'blocking': False, u'profile_background_image_url': u'http://abs.twimg.com/images/themes/theme1/bg.png', u'screen_name': u'anandjeevan', u'lang': u'en', u'profile_background_tile': False, u'favourites_count': 25, u'name': u'jeevananand', u'notifications': False, u'url': None, u'created_at': u'Wed Jun 09 02:10:10 +0000 2010', u'contributors_enabled': False, u'time_zone': u'New Delhi', u'protected': True, u'default_profile': True, u'is_translator': False} \n",
      " \n",
      " {u'follow_request_sent': False, u'has_extended_profile': False, u'profile_use_background_image': False, u'default_profile_image': False, u'id': 14557997, u'profile_background_image_url_https': u'https://abs.twimg.com/images/themes/theme1/bg.png', u'verified': False, u'blocked_by': False, u'profile_text_color': u'000000', u'muting': False, u'profile_image_url_https': u'https://pbs.twimg.com/profile_images/494157392464998402/v7QQfsWT_normal.jpeg', u'profile_sidebar_fill_color': u'000000', u'entities': {u'url': {u'urls': [{u'url': u'http://t.co/g4XSCrLkaR', u'indices': [0, 22], u'expanded_url': u'http://belong.co', u'display_url': u'belong.co'}]}, u'description': {u'urls': []}}, u'followers_count': 425, u'profile_sidebar_border_color': u'000000', u'id_str': u'14557997', u'profile_background_color': u'000000', u'listed_count': 22, u'status': {u'lang': u'en', u'favorited': False, u'entities': {u'symbols': [], u'user_mentions': [], u'hashtags': [{u'indices': [34, 39], u'text': u'ecom'}, {u'indices': [40, 49], u'text': u'foodtech'}], u'urls': []}, u'contributors': None, u'truncated': False, u'text': u'To all the gyaanis who knew about #ecom #foodtech startup failing. Please build a startup. It takes a lot more than you think to build one.', u'created_at': u'Wed Nov 04 19:53:55 +0000 2015', u'retweeted': False, u'in_reply_to_status_id_str': None, u'coordinates': None, u'in_reply_to_user_id_str': None, u'source': u'<a href=\"http://twitter.com\" rel=\"nofollow\">Twitter Web Client</a>', u'in_reply_to_status_id': None, u'in_reply_to_screen_name': None, u'id_str': u'661994804956426240', u'place': None, u'retweet_count': 0, u'geo': None, u'id': 661994804956426240, u'favorite_count': 3, u'in_reply_to_user_id': None}, u'is_translation_enabled': False, u'utc_offset': -28800, u'statuses_count': 3289, u'description': u\"Love startups. PM @belongco. Always up for discussion. Anything interesting, let's talk. :)\", u'friends_count': 392, u'location': u'Bangalore', u'profile_link_color': u'4A913C', u'profile_image_url': u'http://pbs.twimg.com/profile_images/494157392464998402/v7QQfsWT_normal.jpeg', u'following': False, u'geo_enabled': True, u'profile_banner_url': u'https://pbs.twimg.com/profile_banners/14557997/1402568011', u'blocking': False, u'profile_background_image_url': u'http://abs.twimg.com/images/themes/theme1/bg.png', u'screen_name': u'ankitgovil', u'lang': u'en', u'profile_background_tile': False, u'favourites_count': 16, u'name': u'Ankit Govil', u'notifications': False, u'url': u'http://t.co/g4XSCrLkaR', u'created_at': u'Sun Apr 27 13:46:13 +0000 2008', u'contributors_enabled': False, u'time_zone': u'Pacific Time (US & Canada)', u'protected': False, u'default_profile': False, u'is_translator': False} \n",
      " \n"
     ]
    }
   ],
   "source": [
    "for follower in followers[\"users\"]:\n",
    "    print(\" {0} \\n \".format(follower))"
   ]
  },
  {
   "cell_type": "code",
   "execution_count": 68,
   "metadata": {
    "collapsed": false
   },
   "outputs": [
    {
     "name": "stdout",
     "output_type": "stream",
     "text": [
      " user: ArmanRathod3 \n",
      " name: paritosh bhandarkar \n",
      " Number of tweets: 1 \n",
      "\n",
      " user: RiddhikRathod \n",
      " name: Riddhik Rathod \n",
      " Number of tweets: 3 \n",
      "\n",
      " user: hiteshbjirawla \n",
      " name: Hitesh B Jirawla \n",
      " Number of tweets: 17 \n",
      "\n",
      " user: chiraggambhira \n",
      " name: chirag gambhira \n",
      " Number of tweets: 3 \n",
      "\n",
      " user: SaiBundel \n",
      " name: Sai Singh Bundel \n",
      " Number of tweets: 0 \n",
      "\n",
      " user: singhsaloni1151 \n",
      " name: singhsaloni \n",
      " Number of tweets: 2 \n",
      "\n",
      " user: akhuperkar \n",
      " name: Abhijit Khuperkar \n",
      " Number of tweets: 130 \n",
      "\n",
      " user: shash_007 \n",
      " name: Shashwat Chaturvedi \n",
      " Number of tweets: 1117 \n",
      "\n",
      " user: ChaturBalakSays \n",
      " name: Chatur Balak \n",
      " Number of tweets: 20 \n",
      "\n",
      " user: Mumbairb \n",
      " name: Mumbai Ruby Group \n",
      " Number of tweets: 209 \n",
      "\n",
      " user: JawaharKeerthi \n",
      " name: Jawahar, keerthi \n",
      " Number of tweets: 2 \n",
      "\n",
      " user: cskofjbims \n",
      " name: Chandrashekhar SK \n",
      " Number of tweets: 26 \n",
      "\n",
      " user: 17lokeshm \n",
      " name: lokesh kumar luha \n",
      " Number of tweets: 0 \n",
      "\n",
      " user: nayangupta21 \n",
      " name: NAYAN GUPTA \n",
      " Number of tweets: 54 \n",
      "\n",
      " user: TrlManoj \n",
      " name: Manoj Amarchand Jain \n",
      " Number of tweets: 4374 \n",
      "\n",
      " user: GeeteshArun \n",
      " name: Arun \n",
      " Number of tweets: 102 \n",
      "\n",
      " user: sumansai14 \n",
      " name: Sai Suman Prayaga \n",
      " Number of tweets: 20 \n",
      "\n",
      " user: nirmalloshali1 \n",
      " name: nirmalloshali@gmail. \n",
      " Number of tweets: 3 \n",
      "\n",
      " user: anandjeevan \n",
      " name: jeevananand \n",
      " Number of tweets: 30 \n",
      "\n",
      " user: ankitgovil \n",
      " name: Ankit Govil \n",
      " Number of tweets: 3289 \n",
      "\n"
     ]
    }
   ],
   "source": [
    "for follower in followers[\"users\"]:\n",
    "    print(\" user: {0} \\n name: {1} \\n Number of tweets: {2} \\n\".format(follower[\"screen_name\"],\n",
    "                                                                       follower[\"name\"],\n",
    "                                                                       follower[\"statuses_count\"]))"
   ]
  },
  {
   "cell_type": "markdown",
   "metadata": {},
   "source": [
    "# Setiment Classification"
   ]
  },
  {
   "cell_type": "markdown",
   "metadata": {},
   "source": [
    "## What is Sentiment Classification?"
   ]
  },
  {
   "cell_type": "markdown",
   "metadata": {},
   "source": [
    "Sentiment classification is a special task of text classification whose objective is to classify a text according to the sentimental polarities of opinions it contains - favorable or unfavorable, positive or negative."
   ]
  },
  {
   "cell_type": "markdown",
   "metadata": {},
   "source": [
    "<img src=\"sentiment_classification_process.png\">"
   ]
  },
  {
   "cell_type": "markdown",
   "metadata": {},
   "source": [
    "## Dataset"
   ]
  },
  {
   "cell_type": "markdown",
   "metadata": {},
   "source": [
    "### Affective Norms for English Words"
   ]
  },
  {
   "cell_type": "markdown",
   "metadata": {},
   "source": [
    "*  The ANEW provides a set of normative emotional ratings as a text corpus for a large number of words in the English language.\n",
    "* These sets of verbal materials have been rated in terms of pleasure, arousal, and dominance, in order to create a standard for use in studies of emotion and attention."
   ]
  },
  {
   "cell_type": "markdown",
   "metadata": {
    "collapsed": true
   },
   "source": [
    "### Sentiment140"
   ]
  },
  {
   "cell_type": "markdown",
   "metadata": {
    "collapsed": true
   },
   "source": [
    "* http://help.sentiment140.com/for-students\n",
    "* Download link\n",
    "    - http://cs.stanford.edu/people/alecmgo/trainingandtestdata.zip\n",
    "    - (mirror) https://docs.google.com/file/d/0B04GJPshIjmPRnZManQwWEdTZjg/edit\n",
    "* The data has been processed so that the emoticons are stripped off.\n",
    "* CSV format\n",
    "* Data file format has 6 fields:\n",
    "    - 0 - the polarity of the tweet (0 = negative, 2 = neutral, 4 = positive)\n",
    "    - 1 - the id of the tweet (2087)\n",
    "    - 2 - the date of the tweet (Sat May 16 23:58:44 UTC 2009)\n",
    "    - 3 - the query (lyx). If there is no query, then this value is NO_QUERY.\n",
    "    - 4 - the user that tweeted (robotickilldozr)\n",
    "    - 5 - the text of the tweet (Lyx is cool)"
   ]
  },
  {
   "cell_type": "markdown",
   "metadata": {
    "collapsed": true
   },
   "source": [
    "## NLTK"
   ]
  },
  {
   "cell_type": "code",
   "execution_count": 117,
   "metadata": {
    "collapsed": false
   },
   "outputs": [
    {
     "name": "stdout",
     "output_type": "stream",
     "text": [
      "showing info http://www.nltk.org/nltk_data/\n"
     ]
    },
    {
     "data": {
      "text/plain": [
       "True"
      ]
     },
     "execution_count": 117,
     "metadata": {},
     "output_type": "execute_result"
    }
   ],
   "source": [
    "import nltk\n",
    "nltk.download() # Models > punkt"
   ]
  },
  {
   "cell_type": "code",
   "execution_count": 111,
   "metadata": {
    "collapsed": false
   },
   "outputs": [
    {
     "data": {
      "text/plain": [
       "['Busy',\n",
       " 'day',\n",
       " 'ahead',\n",
       " 'of',\n",
       " 'me',\n",
       " '.',\n",
       " 'Also',\n",
       " 'just',\n",
       " 'remembered',\n",
       " 'that',\n",
       " 'I',\n",
       " 'left',\n",
       " 'peah',\n",
       " 'slices',\n",
       " 'in',\n",
       " 'the',\n",
       " 'fridge',\n",
       " 'at',\n",
       " 'work',\n",
       " 'on',\n",
       " 'Friday',\n",
       " '.']"
      ]
     },
     "execution_count": 111,
     "metadata": {},
     "output_type": "execute_result"
    }
   ],
   "source": [
    "nltk.word_tokenize(\"Busy day ahead of me. Also just remembered that I left peah slices in the fridge at work on Friday. \")"
   ]
  },
  {
   "cell_type": "code",
   "execution_count": null,
   "metadata": {
    "collapsed": true
   },
   "outputs": [],
   "source": [
    "def bagOfWords(tweets):\n",
    "    wordsList = []\n",
    "    for (words, sentiment) in tweets:\n",
    "        wordsList.extend(words)\n",
    "return wordsList"
   ]
  },
  {
   "cell_type": "code",
   "execution_count": null,
   "metadata": {
    "collapsed": true
   },
   "outputs": [],
   "source": [
    "def wordFeatures(wordList):\n",
    "    wordList = nltk.FreqDist(wordList)\n",
    "    wordFeatures = wordList.keys()\n",
    "    return wordFeatures"
   ]
  },
  {
   "cell_type": "code",
   "execution_count": 113,
   "metadata": {
    "collapsed": true
   },
   "outputs": [],
   "source": [
    "def getFeatures(doc):\n",
    "    docWords = set(doc)\n",
    "    feat = {}\n",
    "    for word in wordFeatures:\n",
    "        feat['contains(%s)' % word] = (word in docWords)\n",
    "    return feat"
   ]
  },
  {
   "cell_type": "code",
   "execution_count": null,
   "metadata": {
    "collapsed": true
   },
   "outputs": [],
   "source": [
    "# Fill these up with values from Sentiment140 dataset\n",
    "positiveTweets = ???\n",
    "negativeTweets = ???"
   ]
  },
  {
   "cell_type": "code",
   "execution_count": null,
   "metadata": {
    "collapsed": true
   },
   "outputs": [],
   "source": [
    "corpusOfTweets = []\n",
    "for (words, sentiment) in positiveTweets + negativeTweets:\n",
    "    wordsFiltered = [e.lower() for e in nltk.word_tokenize(words) if len(e) >= 3]\n",
    "    tweets.append((wordsFiltered, sentiment))"
   ]
  },
  {
   "cell_type": "code",
   "execution_count": 114,
   "metadata": {
    "collapsed": false
   },
   "outputs": [
    {
     "ename": "NameError",
     "evalue": "name 'wordFeatures' is not defined",
     "output_type": "error",
     "traceback": [
      "\u001b[1;31m---------------------------------------------------------------------------\u001b[0m",
      "\u001b[1;31mNameError\u001b[0m                                 Traceback (most recent call last)",
      "\u001b[1;32m<ipython-input-114-eb1a4246a831>\u001b[0m in \u001b[0;36m<module>\u001b[1;34m()\u001b[0m\n\u001b[1;32m----> 1\u001b[1;33m \u001b[0mwordFeatures\u001b[0m \u001b[1;33m=\u001b[0m \u001b[0mwordFeatures\u001b[0m\u001b[1;33m(\u001b[0m\u001b[0mbagOfWords\u001b[0m\u001b[1;33m(\u001b[0m\u001b[0mcorpusOfTweets\u001b[0m\u001b[1;33m)\u001b[0m\u001b[1;33m)\u001b[0m\u001b[1;33m\u001b[0m\u001b[0m\n\u001b[0m\u001b[0;32m      2\u001b[0m \u001b[0mtraining\u001b[0m \u001b[1;33m=\u001b[0m \u001b[0mnltk\u001b[0m\u001b[1;33m.\u001b[0m\u001b[0mclassify\u001b[0m\u001b[1;33m.\u001b[0m\u001b[0mapply_features\u001b[0m\u001b[1;33m(\u001b[0m\u001b[0mgetFeatures\u001b[0m\u001b[1;33m,\u001b[0m \u001b[0mcorpusOfTweets\u001b[0m\u001b[1;33m)\u001b[0m\u001b[1;33m\u001b[0m\u001b[0m\n\u001b[0;32m      3\u001b[0m \u001b[0mclassifier\u001b[0m \u001b[1;33m=\u001b[0m \u001b[0mnltk\u001b[0m\u001b[1;33m.\u001b[0m\u001b[0mNaiveBayesClassifier\u001b[0m\u001b[1;33m.\u001b[0m\u001b[0mtrain\u001b[0m\u001b[1;33m(\u001b[0m\u001b[0mtraining\u001b[0m\u001b[1;33m)\u001b[0m\u001b[1;33m\u001b[0m\u001b[0m\n\u001b[0;32m      4\u001b[0m \u001b[1;32mprint\u001b[0m\u001b[1;33m(\u001b[0m\u001b[0mclassifier\u001b[0m\u001b[1;33m.\u001b[0m\u001b[0mshow_most_informative_features\u001b[0m\u001b[1;33m(\u001b[0m\u001b[1;36m32\u001b[0m\u001b[1;33m)\u001b[0m\u001b[1;33m)\u001b[0m\u001b[1;33m\u001b[0m\u001b[0m\n",
      "\u001b[1;31mNameError\u001b[0m: name 'wordFeatures' is not defined"
     ]
    }
   ],
   "source": [
    "wordFeatures = wordFeatures(bagOfWords(corpusOfTweets))\n",
    "training = nltk.classify.apply_features(getFeatures, corpusOfTweets)\n",
    "classifier = nltk.NaiveBayesClassifier.train(training)\n",
    "print(classifier.show_most_informative_features(32))"
   ]
  },
  {
   "cell_type": "markdown",
   "metadata": {},
   "source": [
    "**Predicting Sentiment of new Tweets**"
   ]
  },
  {
   "cell_type": "code",
   "execution_count": null,
   "metadata": {
    "collapsed": true
   },
   "outputs": [],
   "source": [
    "from twython import Twython\n",
    "\n",
    "twitter = Twython(ConsumerKey, ConsumerSecret, AccessToken, AccessTokenSecret)\n",
    "\n",
    "result = twitter.search(q=\"python\")\n",
    "\n",
    "for status in result[\"statuses\"]:\n",
    "    print(\"Tweet: {0} \\n Sentiment: {1}\".format(status[\"text\"], \n",
    "                                                classifier.classify(extract_features(status[\"text\"].split()))))"
   ]
  },
  {
   "cell_type": "markdown",
   "metadata": {
    "collapsed": true
   },
   "source": [
    "# What Next?"
   ]
  },
  {
   "cell_type": "markdown",
   "metadata": {
    "collapsed": true
   },
   "source": [
    "## The Assignment"
   ]
  },
  {
   "cell_type": "markdown",
   "metadata": {},
   "source": [
    "1. Write a blog post on how to use **OR** operator for find queries in mongodb.\n",
    "2. Feed negative and positive tweets to the classification function for training. (using the Sentiment140 dataset)\n",
    "3. Crawl all followers of ***naveen_odisha***, Odisha CM (note: you'll have to pay attention to rate limiting)\n",
    "4. Crawl all followers of SRK. How can you calculate if this is feasible or not? (show the math)\n",
    "5. Predict the sentiment of tweets by followers of ***naveen_odisha*** "
   ]
  }
 ],
 "metadata": {
  "kernelspec": {
   "display_name": "Python 2",
   "language": "python",
   "name": "python2"
  },
  "language_info": {
   "codemirror_mode": {
    "name": "ipython",
    "version": 2
   },
   "file_extension": ".py",
   "mimetype": "text/x-python",
   "name": "python",
   "nbconvert_exporter": "python",
   "pygments_lexer": "ipython2",
   "version": "2.7.11"
  }
 },
 "nbformat": 4,
 "nbformat_minor": 0
}
